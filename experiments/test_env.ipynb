{
 "cells": [
  {
   "cell_type": "markdown",
   "metadata": {},
   "source": [
    "# Test 6 nimmt env (by hand)"
   ]
  },
  {
   "cell_type": "code",
   "execution_count": 1,
   "metadata": {},
   "outputs": [],
   "source": [
    "import numpy as np\n",
    "import logging\n",
    "import sys\n",
    "\n",
    "sys.path.append(\"../\")\n",
    "\n",
    "from rl_6_nimmt import SechsNimmtEnv, GameSession\n",
    "from rl_6_nimmt.agents import Human, DrunkHamster\n",
    "\n",
    "logging.basicConfig(format=\"%(message)s\",level=logging.DEBUG)\n",
    "for name in logging.root.manager.loggerDict:\n",
    "    if not \"rl_6_nimmt\" in name:\n",
    "        logging.getLogger(name).setLevel(logging.WARNING)\n"
   ]
  },
  {
   "cell_type": "markdown",
   "metadata": {},
   "source": [
    "## Let's play a game"
   ]
  },
  {
   "cell_type": "code",
   "execution_count": 2,
   "metadata": {},
   "outputs": [],
   "source": [
    "env = SechsNimmtEnv(num_players=2)\n",
    "\n",
    "hamster = DrunkHamster(env)\n",
    "johann = Human(env, name=\"Johann\")\n",
    "\n",
    "session = GameSession(env, johann, hamster)"
   ]
  },
  {
   "cell_type": "code",
   "execution_count": 3,
   "metadata": {},
   "outputs": [
    {
     "name": "stderr",
     "output_type": "stream",
     "text": [
      "Dealing cards\n",
      "--------------------------------------------------------------------------------\n",
      "Board:\n",
      "   43   _   _   _   _   *\n",
      "   70   _   _   _   _   *\n",
      "   36   _   _   _   _   *\n",
      "   60   _   _   _   _   *\n",
      "Players:\n",
      "  Johann       (player 1):   0 Hornochsen, cards  15  17  33  46  48  56  58  79  86  89\n",
      "  DrunkHamster (player 2):   0 Hornochsen, cards   8  21  25  29  52  71  75  76  77  78\n",
      "--------------------------------------------------------------------------------\n"
     ]
    },
    {
     "name": "stdin",
     "output_type": "stream",
     "text": [
      "It is your turn, Johann! \n",
      " You have the following cards:  15  17  33  46  48  56  58  79  86  89. Choose one to play! 15\n"
     ]
    },
    {
     "name": "stderr",
     "output_type": "stream",
     "text": [
      "Johann       (player 1) plays card 15\n",
      "  ...chooses to replace row 1\n",
      "  ...and gains 1 Hornochsen\n",
      "DrunkHamster (player 2) plays card 25\n",
      "--------------------------------------------------------------------------------\n",
      "Board:\n",
      "   15  25   _   _   _   *\n",
      "   70   _   _   _   _   *\n",
      "   36   _   _   _   _   *\n",
      "   60   _   _   _   _   *\n",
      "Players:\n",
      "  Johann       (player 1):   1 Hornochsen, cards  17  33  46  48  56  58  79  86  89\n",
      "  DrunkHamster (player 2):   0 Hornochsen, cards   8  21  29  52  71  75  76  77  78\n",
      "--------------------------------------------------------------------------------\n"
     ]
    },
    {
     "name": "stdin",
     "output_type": "stream",
     "text": [
      "It is your turn, Johann! \n",
      " You have the following cards:  17  33  46  48  56  58  79  86  89. Choose one to play! 17\n"
     ]
    },
    {
     "name": "stderr",
     "output_type": "stream",
     "text": [
      "Johann       (player 1) plays card 17\n",
      "  ...chooses to replace row 2\n",
      "  ...and gains 3 Hornochsen\n",
      "DrunkHamster (player 2) plays card 71\n",
      "--------------------------------------------------------------------------------\n",
      "Board:\n",
      "   15  25   _   _   _   *\n",
      "   17   _   _   _   _   *\n",
      "   36   _   _   _   _   *\n",
      "   60  71   _   _   _   *\n",
      "Players:\n",
      "  Johann       (player 1):   4 Hornochsen, cards  33  46  48  56  58  79  86  89\n",
      "  DrunkHamster (player 2):   0 Hornochsen, cards   8  21  29  52  75  76  77  78\n",
      "--------------------------------------------------------------------------------\n"
     ]
    },
    {
     "name": "stdin",
     "output_type": "stream",
     "text": [
      "It is your turn, Johann! \n",
      " You have the following cards:  33  46  48  56  58  79  86  89. Choose one to play! 33\n"
     ]
    },
    {
     "name": "stderr",
     "output_type": "stream",
     "text": [
      "Johann       (player 1) plays card 33\n",
      "DrunkHamster (player 2) plays card 78\n",
      "--------------------------------------------------------------------------------\n",
      "Board:\n",
      "   15  25  33   _   _   *\n",
      "   17   _   _   _   _   *\n",
      "   36   _   _   _   _   *\n",
      "   60  71  78   _   _   *\n",
      "Players:\n",
      "  Johann       (player 1):   4 Hornochsen, cards  46  48  56  58  79  86  89\n",
      "  DrunkHamster (player 2):   0 Hornochsen, cards   8  21  29  52  75  76  77\n",
      "--------------------------------------------------------------------------------\n"
     ]
    },
    {
     "name": "stdin",
     "output_type": "stream",
     "text": [
      "It is your turn, Johann! \n",
      " You have the following cards:  46  48  56  58  79  86  89. Choose one to play! 46\n"
     ]
    },
    {
     "name": "stderr",
     "output_type": "stream",
     "text": [
      "DrunkHamster (player 2) plays card 21\n",
      "Johann       (player 1) plays card 46\n",
      "--------------------------------------------------------------------------------\n",
      "Board:\n",
      "   15  25  33   _   _   *\n",
      "   17  21   _   _   _   *\n",
      "   36  46   _   _   _   *\n",
      "   60  71  78   _   _   *\n",
      "Players:\n",
      "  Johann       (player 1):   4 Hornochsen, cards  48  56  58  79  86  89\n",
      "  DrunkHamster (player 2):   0 Hornochsen, cards   8  29  52  75  76  77\n",
      "--------------------------------------------------------------------------------\n"
     ]
    },
    {
     "name": "stdin",
     "output_type": "stream",
     "text": [
      "It is your turn, Johann! \n",
      " You have the following cards:  48  56  58  79  86  89. Choose one to play! 86\n"
     ]
    },
    {
     "name": "stderr",
     "output_type": "stream",
     "text": [
      "DrunkHamster (player 2) plays card 8\n",
      "  ...chooses to replace row 2\n",
      "  ...and gains 2 Hornochsen\n",
      "Johann       (player 1) plays card 86\n",
      "--------------------------------------------------------------------------------\n",
      "Board:\n",
      "   15  25  33   _   _   *\n",
      "    8   _   _   _   _   *\n",
      "   36  46   _   _   _   *\n",
      "   60  71  78  86   _   *\n",
      "Players:\n",
      "  Johann       (player 1):   4 Hornochsen, cards  48  56  58  79  89\n",
      "  DrunkHamster (player 2):   2 Hornochsen, cards  29  52  75  76  77\n",
      "--------------------------------------------------------------------------------\n"
     ]
    },
    {
     "name": "stdin",
     "output_type": "stream",
     "text": [
      "It is your turn, Johann! \n",
      " You have the following cards:  48  56  58  79  89. Choose one to play! 89\n"
     ]
    },
    {
     "name": "stderr",
     "output_type": "stream",
     "text": [
      "DrunkHamster (player 2) plays card 29\n",
      "Johann       (player 1) plays card 89\n",
      "--------------------------------------------------------------------------------\n",
      "Board:\n",
      "   15  25  33   _   _   *\n",
      "    8  29   _   _   _   *\n",
      "   36  46   _   _   _   *\n",
      "   60  71  78  86  89   *\n",
      "Players:\n",
      "  Johann       (player 1):   4 Hornochsen, cards  48  56  58  79\n",
      "  DrunkHamster (player 2):   2 Hornochsen, cards  52  75  76  77\n",
      "--------------------------------------------------------------------------------\n"
     ]
    },
    {
     "name": "stdin",
     "output_type": "stream",
     "text": [
      "It is your turn, Johann! \n",
      " You have the following cards:  48  56  58  79. Choose one to play! 48\n"
     ]
    },
    {
     "name": "stderr",
     "output_type": "stream",
     "text": [
      "Johann       (player 1) plays card 48\n",
      "DrunkHamster (player 2) plays card 77\n",
      "--------------------------------------------------------------------------------\n",
      "Board:\n",
      "   15  25  33   _   _   *\n",
      "    8  29   _   _   _   *\n",
      "   36  46  48  77   _   *\n",
      "   60  71  78  86  89   *\n",
      "Players:\n",
      "  Johann       (player 1):   4 Hornochsen, cards  56  58  79\n",
      "  DrunkHamster (player 2):   2 Hornochsen, cards  52  75  76\n",
      "--------------------------------------------------------------------------------\n"
     ]
    },
    {
     "name": "stdin",
     "output_type": "stream",
     "text": [
      "It is your turn, Johann! \n",
      " You have the following cards:  56  58  79. Choose one to play! 56\n"
     ]
    },
    {
     "name": "stderr",
     "output_type": "stream",
     "text": [
      "Johann       (player 1) plays card 56\n",
      "DrunkHamster (player 2) plays card 76\n",
      "--------------------------------------------------------------------------------\n",
      "Board:\n",
      "   15  25  33  56  76   *\n",
      "    8  29   _   _   _   *\n",
      "   36  46  48  77   _   *\n",
      "   60  71  78  86  89   *\n",
      "Players:\n",
      "  Johann       (player 1):   4 Hornochsen, cards  58  79\n",
      "  DrunkHamster (player 2):   2 Hornochsen, cards  52  75\n",
      "--------------------------------------------------------------------------------\n"
     ]
    },
    {
     "name": "stdin",
     "output_type": "stream",
     "text": [
      "It is your turn, Johann! \n",
      " You have the following cards:  58  79. Choose one to play! 58\n"
     ]
    },
    {
     "name": "stderr",
     "output_type": "stream",
     "text": [
      "DrunkHamster (player 2) plays card 52\n",
      "Johann       (player 1) plays card 58\n",
      "--------------------------------------------------------------------------------\n",
      "Board:\n",
      "   15  25  33  56  76   *\n",
      "    8  29  52  58   _   *\n",
      "   36  46  48  77   _   *\n",
      "   60  71  78  86  89   *\n",
      "Players:\n",
      "  Johann       (player 1):   4 Hornochsen, cards  79\n",
      "  DrunkHamster (player 2):   2 Hornochsen, cards  75\n",
      "--------------------------------------------------------------------------------\n"
     ]
    },
    {
     "name": "stdin",
     "output_type": "stream",
     "text": [
      "It is your turn, Johann! \n",
      " You have the following cards:  79. Choose one to play! 79\n"
     ]
    },
    {
     "name": "stderr",
     "output_type": "stream",
     "text": [
      "DrunkHamster (player 2) plays card 75\n",
      "Johann       (player 1) plays card 79\n",
      "--------------------------------------------------------------------------------\n",
      "Board:\n",
      "   15  25  33  56  76   *\n",
      "    8  29  52  58  75   *\n",
      "   36  46  48  77  79   *\n",
      "   60  71  78  86  89   *\n",
      "Players:\n",
      "  Johann       (player 1):   4 Hornochsen, no cards \n",
      "  DrunkHamster (player 2):   2 Hornochsen, no cards \n",
      "The game is over! Player 2 wins. Congratulations!\n",
      "--------------------------------------------------------------------------------\n"
     ]
    }
   ],
   "source": [
    "session.play_game(render=True)"
   ]
  },
  {
   "cell_type": "code",
   "execution_count": null,
   "metadata": {},
   "outputs": [],
   "source": []
  }
 ],
 "metadata": {
  "kernelspec": {
   "display_name": "Python (rl)",
   "language": "python",
   "name": "rl"
  },
  "language_info": {
   "codemirror_mode": {
    "name": "ipython",
    "version": 3
   },
   "file_extension": ".py",
   "mimetype": "text/x-python",
   "name": "python",
   "nbconvert_exporter": "python",
   "pygments_lexer": "ipython3",
   "version": "3.8.2"
  }
 },
 "nbformat": 4,
 "nbformat_minor": 4
}
