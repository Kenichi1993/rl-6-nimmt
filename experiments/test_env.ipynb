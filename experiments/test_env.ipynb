{
 "cells": [
  {
   "cell_type": "markdown",
   "metadata": {},
   "source": [
    "# Test 6 nimmt env (by hand)"
   ]
  },
  {
   "cell_type": "code",
   "execution_count": 1,
   "metadata": {},
   "outputs": [],
   "source": [
    "import numpy as np\n",
    "import logging\n",
    "import sys\n",
    "\n",
    "sys.path.append(\"../\")\n",
    "\n",
    "from rl_6_nimmt import SechsNimmtEnv\n",
    "\n",
    "logging.basicConfig(\n",
    "    format=\"%(message)s\",\n",
    "    datefmt=\"%H:%M\",\n",
    "    level=logging.INFO,\n",
    ")"
   ]
  },
  {
   "cell_type": "markdown",
   "metadata": {},
   "source": [
    "## Let's play a game"
   ]
  },
  {
   "cell_type": "code",
   "execution_count": 2,
   "metadata": {},
   "outputs": [
    {
     "name": "stderr",
     "output_type": "stream",
     "text": [
      "\n",
      "Player 1:   0 Hornochsen, cards   1   3  22  29  35  37  38  48  50  87\n",
      "Player 2:   0 Hornochsen, cards   7  10  12  34  39  57  60  61  63  76\n",
      "Board:\n",
      "  [1]:  58\n",
      "  [2]:  81\n",
      "  [3]:  42\n",
      "  [4]: 100\n",
      "\n"
     ]
    }
   ],
   "source": [
    "env = SechsNimmtEnv(num_players=2)\n",
    "state = env.reset()\n",
    "env.render()"
   ]
  },
  {
   "cell_type": "code",
   "execution_count": 3,
   "metadata": {},
   "outputs": [
    {
     "name": "stderr",
     "output_type": "stream",
     "text": [
      "\n",
      "Player 1:   1 Hornochsen, cards   1  22  29  35  37  38  48  50  87\n",
      "Player 2:   0 Hornochsen, cards   7  10  12  34  39  57  61  63  76\n",
      "Board:\n",
      "  [1]:   3\n",
      "  [2]:  81\n",
      "  [3]:  42  60\n",
      "  [4]: 100\n",
      "\n"
     ]
    }
   ],
   "source": [
    "_ = env.step([2, 59])  # Note 0-indexing of the actions (action=15 means play card 16)\n",
    "env.render()"
   ]
  },
  {
   "cell_type": "code",
   "execution_count": 4,
   "metadata": {},
   "outputs": [
    {
     "name": "stderr",
     "output_type": "stream",
     "text": [
      "\n",
      "Player 1:   1 Hornochsen, cards   1  29  35  37  38  48  50  87\n",
      "Player 2:   0 Hornochsen, cards   7  10  12  34  39  57  61  76\n",
      "Board:\n",
      "  [1]:   3  22\n",
      "  [2]:  81\n",
      "  [3]:  42  60  63\n",
      "  [4]: 100\n",
      "\n"
     ]
    }
   ],
   "source": [
    "_ = env.step([21, 62])  # Note 0-indexing of the actions (action=15 means play card 16)\n",
    "env.render()"
   ]
  },
  {
   "cell_type": "code",
   "execution_count": 5,
   "metadata": {},
   "outputs": [
    {
     "name": "stderr",
     "output_type": "stream",
     "text": [
      "\n",
      "Player 1:   2 Hornochsen, cards  29  35  37  38  48  50  87\n",
      "Player 2:   0 Hornochsen, cards   7  10  12  34  39  57  61\n",
      "Board:\n",
      "  [1]:   3  22\n",
      "  [2]:   1\n",
      "  [3]:  42  60  63  76\n",
      "  [4]: 100\n",
      "\n"
     ]
    }
   ],
   "source": [
    "_ = env.step([0, 75])  # Note 0-indexing of the actions (action=15 means play card 16)\n",
    "env.render()"
   ]
  },
  {
   "cell_type": "code",
   "execution_count": 6,
   "metadata": {},
   "outputs": [
    {
     "name": "stderr",
     "output_type": "stream",
     "text": [
      "\n",
      "Player 1:   2 Hornochsen, cards  29  35  37  38  48  50\n",
      "Player 2:   0 Hornochsen, cards   7  12  34  39  57  61\n",
      "Board:\n",
      "  [1]:   3  22\n",
      "  [2]:   1  10\n",
      "  [3]:  42  60  63  76  87\n",
      "  [4]: 100\n",
      "\n"
     ]
    }
   ],
   "source": [
    "_ = env.step([86, 9])  # Note 0-indexing of the actions (action=15 means play card 16)\n",
    "env.render()"
   ]
  },
  {
   "cell_type": "code",
   "execution_count": 7,
   "metadata": {},
   "outputs": [
    {
     "name": "stderr",
     "output_type": "stream",
     "text": [
      "\n",
      "Player 1:   2 Hornochsen, cards  35  37  38  48  50\n",
      "Player 2:   0 Hornochsen, cards   7  34  39  57  61\n",
      "Board:\n",
      "  [1]:   3  22  29\n",
      "  [2]:   1  10  12\n",
      "  [3]:  42  60  63  76  87\n",
      "  [4]: 100\n",
      "\n"
     ]
    }
   ],
   "source": [
    "_ = env.step([28, 11])  # Note 0-indexing of the actions (action=15 means play card 16)\n",
    "env.render()"
   ]
  },
  {
   "cell_type": "code",
   "execution_count": 8,
   "metadata": {},
   "outputs": [
    {
     "name": "stderr",
     "output_type": "stream",
     "text": [
      "\n",
      "Player 1:   2 Hornochsen, cards  37  38  48  50\n",
      "Player 2:   0 Hornochsen, cards   7  39  57  61\n",
      "Board:\n",
      "  [1]:   3  22  29  34  35\n",
      "  [2]:   1  10  12\n",
      "  [3]:  42  60  63  76  87\n",
      "  [4]: 100\n",
      "\n"
     ]
    }
   ],
   "source": [
    "_ = env.step([34, 33])  # Note 0-indexing of the actions (action=15 means play card 16)\n",
    "env.render()"
   ]
  },
  {
   "cell_type": "code",
   "execution_count": 9,
   "metadata": {},
   "outputs": [
    {
     "name": "stderr",
     "output_type": "stream",
     "text": [
      "\n",
      "Player 1:  12 Hornochsen, cards  38  48  50\n",
      "Player 2:   3 Hornochsen, cards  39  57  61\n",
      "Board:\n",
      "  [1]:  37\n",
      "  [2]:   1  10  12\n",
      "  [3]:  42  60  63  76  87\n",
      "  [4]:   7\n",
      "\n"
     ]
    }
   ],
   "source": [
    "_ = env.step([36, 6])  # Note 0-indexing of the actions (action=15 means play card 16)\n",
    "env.render()"
   ]
  },
  {
   "cell_type": "code",
   "execution_count": 10,
   "metadata": {},
   "outputs": [
    {
     "name": "stderr",
     "output_type": "stream",
     "text": [
      "\n",
      "Player 1:  12 Hornochsen, cards  48  50\n",
      "Player 2:   3 Hornochsen, cards  57  61\n",
      "Board:\n",
      "  [1]:  37  38  39\n",
      "  [2]:   1  10  12\n",
      "  [3]:  42  60  63  76  87\n",
      "  [4]:   7\n",
      "\n"
     ]
    }
   ],
   "source": [
    "_ = env.step([37, 38])  # Note 0-indexing of the actions (action=15 means play card 16)\n",
    "env.render()"
   ]
  },
  {
   "cell_type": "code",
   "execution_count": 11,
   "metadata": {},
   "outputs": [
    {
     "name": "stderr",
     "output_type": "stream",
     "text": [
      "\n",
      "Player 1:  12 Hornochsen, cards  50\n",
      "Player 2:   3 Hornochsen, cards  61\n",
      "Board:\n",
      "  [1]:  37  38  39  48  57\n",
      "  [2]:   1  10  12\n",
      "  [3]:  42  60  63  76  87\n",
      "  [4]:   7\n",
      "\n"
     ]
    }
   ],
   "source": [
    "_ = env.step([47, 56])  # Note 0-indexing of the actions (action=15 means play card 16)\n",
    "env.render()"
   ]
  },
  {
   "cell_type": "code",
   "execution_count": 12,
   "metadata": {},
   "outputs": [
    {
     "name": "stderr",
     "output_type": "stream",
     "text": [
      "\n",
      "Player 1:  12 Hornochsen, cards \n",
      "Player 2:   8 Hornochsen, cards \n",
      "Board:\n",
      "  [1]:  61\n",
      "  [2]:   1  10  12  50\n",
      "  [3]:  42  60  63  76  87\n",
      "  [4]:   7\n",
      "\n"
     ]
    }
   ],
   "source": [
    "_ = env.step([49, 60])  # Note 0-indexing of the actions (action=15 means play card 16)\n",
    "env.render()"
   ]
  },
  {
   "cell_type": "code",
   "execution_count": null,
   "metadata": {},
   "outputs": [],
   "source": []
  }
 ],
 "metadata": {
  "kernelspec": {
   "display_name": "Python (rl)",
   "language": "python",
   "name": "rl"
  },
  "language_info": {
   "codemirror_mode": {
    "name": "ipython",
    "version": 3
   },
   "file_extension": ".py",
   "mimetype": "text/x-python",
   "name": "python",
   "nbconvert_exporter": "python",
   "pygments_lexer": "ipython3",
   "version": "3.8.2"
  }
 },
 "nbformat": 4,
 "nbformat_minor": 4
}
