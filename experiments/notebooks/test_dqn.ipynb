{
 "cells": [
  {
   "cell_type": "markdown",
   "metadata": {},
   "source": [
    "# Playing around with simple policy gradient methods"
   ]
  },
  {
   "cell_type": "code",
   "execution_count": 1,
   "metadata": {},
   "outputs": [],
   "source": [
    "%load_ext autoreload\n",
    "\n",
    "%autoreload 2\n"
   ]
  },
  {
   "cell_type": "code",
   "execution_count": 2,
   "metadata": {},
   "outputs": [],
   "source": [
    "%matplotlib inline\n",
    "\n",
    "import numpy as np\n",
    "import gym\n",
    "import sys\n",
    "import time\n",
    "from matplotlib import pyplot as plt\n",
    "import logging\n",
    "import torch\n",
    "sys.path.append(\"../../\")\n",
    "from reinforcing_fun.agents import DrunkHamster, DiscretePolicyAgent, DiscreteActorCriticAgent, DQNAgent\n",
    "from reinforcing_fun.training import ReinforceTrainer, MCActorCriticTrainer, TD0ActorCriticTrainer, DQNTrainer\n",
    "\n",
    "logging.basicConfig(\n",
    "    format=\"%(asctime)-5.5s %(name)-30.30s %(levelname)-7.7s %(message)s\",\n",
    "    datefmt=\"%H:%M\",\n",
    "    level=logging.INFO,\n",
    ")\n"
   ]
  },
  {
   "cell_type": "code",
   "execution_count": 3,
   "metadata": {},
   "outputs": [],
   "source": [
    "num_episodes = int(2e3)\n",
    "env = gym.make(\"CartPole-v0\")\n",
    "agent = DQNAgent(env)"
   ]
  },
  {
   "cell_type": "code",
   "execution_count": 13,
   "metadata": {},
   "outputs": [
    {
     "ename": "TypeError",
     "evalue": "unsupported operand type(s) for +: 'generator' and 'generator'",
     "output_type": "error",
     "traceback": [
      "\u001b[0;31m---------------------------------------------------------------------------\u001b[0m",
      "\u001b[0;31mTypeError\u001b[0m                                 Traceback (most recent call last)",
      "\u001b[0;32m<ipython-input-13-fe4a366f08a4>\u001b[0m in \u001b[0;36m<module>\u001b[0;34m\u001b[0m\n\u001b[0;32m----> 1\u001b[0;31m \u001b[0;32mfor\u001b[0m \u001b[0mx\u001b[0m \u001b[0;32min\u001b[0m \u001b[0magent\u001b[0m\u001b[0;34m.\u001b[0m\u001b[0mdqn_net_local\u001b[0m\u001b[0;34m.\u001b[0m\u001b[0mnamed_parameters\u001b[0m\u001b[0;34m(\u001b[0m\u001b[0;34m)\u001b[0m \u001b[0;34m+\u001b[0m \u001b[0magent\u001b[0m\u001b[0;34m.\u001b[0m\u001b[0mdqn_net_target\u001b[0m\u001b[0;34m.\u001b[0m\u001b[0mnamed_parameters\u001b[0m\u001b[0;34m(\u001b[0m\u001b[0;34m)\u001b[0m\u001b[0;34m:\u001b[0m\u001b[0;34m\u001b[0m\u001b[0;34m\u001b[0m\u001b[0m\n\u001b[0m\u001b[1;32m      2\u001b[0m     \u001b[0;32mif\u001b[0m \u001b[0;34m\"head_nets\"\u001b[0m \u001b[0;32min\u001b[0m \u001b[0mx\u001b[0m\u001b[0;34m[\u001b[0m\u001b[0;36m0\u001b[0m\u001b[0;34m]\u001b[0m\u001b[0;34m:\u001b[0m\u001b[0;34m\u001b[0m\u001b[0;34m\u001b[0m\u001b[0m\n\u001b[1;32m      3\u001b[0m         \u001b[0mprint\u001b[0m\u001b[0;34m(\u001b[0m\u001b[0mx\u001b[0m\u001b[0;34m[\u001b[0m\u001b[0;36m0\u001b[0m\u001b[0;34m]\u001b[0m\u001b[0;34m,\u001b[0m \u001b[0mx\u001b[0m\u001b[0;34m[\u001b[0m\u001b[0;36m1\u001b[0m\u001b[0;34m]\u001b[0m\u001b[0;34m)\u001b[0m\u001b[0;34m\u001b[0m\u001b[0;34m\u001b[0m\u001b[0m\n",
      "\u001b[0;31mTypeError\u001b[0m: unsupported operand type(s) for +: 'generator' and 'generator'"
     ]
    }
   ],
   "source": [
    "for x in agent.dqn_net_local.named_parameters() + agent.dqn_net_target.named_parameters():\n",
    "    if \"head_nets\" in x[0]:\n",
    "        print(x[0], x[1])"
   ]
  },
  {
   "cell_type": "markdown",
   "metadata": {},
   "source": [
    "## Helper functions"
   ]
  },
  {
   "cell_type": "code",
   "execution_count": 6,
   "metadata": {},
   "outputs": [],
   "source": [
    "def run_episode(env, agent, max_steps=1000, stop_when_done=True, render=True, fps=30):\n",
    "    state = env.reset()\n",
    "    reward = 0.\n",
    "    episode_reward = 0.\n",
    "\n",
    "    for _ in range(max_steps):\n",
    "        if fps is not None:\n",
    "            time.sleep(1./fps)\n",
    "        if render:\n",
    "            env.render()\n",
    "        action = agent(state)[0]\n",
    "        state, reward, done, info = env.step(action)\n",
    "        episode_reward += reward\n",
    "\n",
    "        if stop_when_done and done:\n",
    "            if fps is not None:\n",
    "                time.sleep(0.5)\n",
    "            break\n",
    "        \n",
    "    return episode_reward\n",
    "        \n",
    "\n",
    "def run(env, agent, num_episodes=1, max_steps=1000, stop_when_done=True, render=True, fps=30):\n",
    "    total_reward = 0.\n",
    "    for _ in range(num_episodes):\n",
    "        total_reward += run_episode(env, agent, max_steps, stop_when_done, render, fps)\n",
    "    return total_reward\n"
   ]
  },
  {
   "cell_type": "code",
   "execution_count": 7,
   "metadata": {},
   "outputs": [],
   "source": [
    "def running_mean(x, n):\n",
    "    cumsum = np.cumsum(np.insert(x, 0, 0)) \n",
    "    return (cumsum[n:] - cumsum[:-n]) / float(n)"
   ]
  },
  {
   "cell_type": "markdown",
   "metadata": {},
   "source": [
    "## Cart pole experiments"
   ]
  },
  {
   "cell_type": "code",
   "execution_count": 8,
   "metadata": {},
   "outputs": [],
   "source": [
    "num_episodes = int(2e3)\n",
    "env = gym.make(\"CartPole-v0\")\n",
    "\n",
    "agents = {}\n",
    "rewards = {}\n",
    "lengths = {}\n",
    "losses = {}\n",
    "device = torch.device(\"cuda:0\" if torch.cuda.is_available() else \"cpu\")\n",
    "def train(agent_class, trainer_class, label, lr=1.e-3):\n",
    "    agent = agent_class(env, 4)\n",
    "    trainer = trainer_class(env, agent, lr=lr, device = device)\n",
    "    reward, length, loss = trainer.train(\n",
    "        num_episodes=num_episodes\n",
    "    )\n",
    "    \n",
    "    agents[label] = agent\n",
    "    rewards[label] = reward\n",
    "    lengths[label] = length#\n",
    "    losses[label] = loss / length[:,np.newaxis]"
   ]
  },
  {
   "cell_type": "code",
   "execution_count": 9,
   "metadata": {
    "scrolled": true
   },
   "outputs": [
    {
     "name": "stderr",
     "output_type": "stream",
     "text": [
      "Episode 2000,: reward = 9.31, losses = 1.33e+00: 100%|██████████| 2000/2000 [01:11<00:00, 27.81it/s]\n"
     ]
    }
   ],
   "source": [
    "train(DQNAgent, DQNTrainer, \"DQN\")"
   ]
  },
  {
   "cell_type": "code",
   "execution_count": null,
   "metadata": {},
   "outputs": [],
   "source": []
  },
  {
   "cell_type": "code",
   "execution_count": null,
   "metadata": {},
   "outputs": [],
   "source": [
    "train(\n",
    "    DiscretePolicyAgent, ReinforceTrainer,\n",
    "    \"REINFORCE\"\n",
    ")"
   ]
  },
  {
   "cell_type": "code",
   "execution_count": null,
   "metadata": {},
   "outputs": [],
   "source": [
    "train(\n",
    "    DiscreteActorCriticAgent, MCActorCriticTrainer,\n",
    "    \"MC actor-critic\",\n",
    "    critic_factor=10.\n",
    ")"
   ]
  },
  {
   "cell_type": "code",
   "execution_count": null,
   "metadata": {},
   "outputs": [],
   "source": [
    "train(\n",
    "    DiscreteActorCriticAgent, TD0ActorCriticTrainer,\n",
    "    \"One-step actor-critic\",\n",
    "    critic_factor=10.\n",
    ")"
   ]
  },
  {
   "cell_type": "code",
   "execution_count": 14,
   "metadata": {},
   "outputs": [
    {
     "data": {
      "image/png": "[encoded data removed]",
      "text/plain": [
       "<Figure size 576x576 with 4 Axes>"
      ]
     },
     "metadata": {
      "needs_background": "light"
     },
     "output_type": "display_data"
    }
   ],
   "source": [
    "ticks = np.linspace(0., num_episodes, 6)\n",
    "fig = plt.figure(figsize=(8,8))\n",
    "\n",
    "ax = plt.subplot(4,1,1)\n",
    "for i, (key, val) in enumerate(rewards.items()):\n",
    "    plt.scatter(np.arange(1, num_episodes+1), val, c=\"C{}\".format(i), s=4., alpha=0.25, rasterized=True)\n",
    "    plt.plot(np.arange(25, num_episodes-24), running_mean(val, 50), lw=1.5, label=key, c=\"C{}\".format(i), zorder=1)\n",
    "plt.legend(loc=\"upper left\")\n",
    "plt.ylabel(\"Reward\")\n",
    "plt.xticks(ticks, labels=[\"\" for _ in ticks])\n",
    "\n",
    "ax = plt.subplot(4,1,2)\n",
    "for i, (key, val) in enumerate(losses.items()):\n",
    "    plt.scatter(np.arange(1, num_episodes+1), val[:,0], c=\"C{}\".format(i), s=4., alpha=0.25, rasterized=True)\n",
    "    plt.plot(np.arange(25, num_episodes-24), running_mean(val[:,0], 50), lw=1.5, label=key, c=\"C{}\".format(i), zorder=1)\n",
    "plt.ylabel(\"Policy loss\")\n",
    "plt.xticks(ticks, labels=[\"\" for _ in ticks])\n",
    "\n",
    "ax = plt.subplot(4,1,3)\n",
    "for i, (key, val) in enumerate(losses.items()):\n",
    "    plt.scatter(np.arange(1, num_episodes+1), val[:,1], c=\"C{}\".format(i), s=4., alpha=0.25, rasterized=True)\n",
    "    plt.plot(np.arange(25, num_episodes-24), running_mean(val[:,1], 50), lw=1.5, label=key, c=\"C{}\".format(i), zorder=1)\n",
    "plt.ylabel(\"Value loss\")\n",
    "plt.xticks(ticks, labels=[\"\" for _ in ticks])\n",
    "\n",
    "ax = plt.subplot(4,1,4)\n",
    "for i, (key, val) in enumerate(losses.items()):\n",
    "    plt.scatter(np.arange(1, num_episodes+1), - val[:,2], c=\"C{}\".format(i), s=4., alpha=0.25, rasterized=True)\n",
    "    plt.plot(np.arange(25, num_episodes-24), running_mean(- val[:,2], 50), lw=1.5, label=key, c=\"C{}\".format(i), zorder=1)\n",
    "plt.ylabel(\"Entropy\")\n",
    "plt.xlabel(\"Episode\")\n",
    "plt.xticks(ticks)\n",
    "\n",
    "plt.tight_layout()\n",
    "plt.savefig(\"policy_gradient_cartpole.pdf\")\n"
   ]
  },
  {
   "cell_type": "code",
   "execution_count": null,
   "metadata": {},
   "outputs": [],
   "source": [
    "run(env, agents[\"REINFORCE\"])"
   ]
  },
  {
   "cell_type": "code",
   "execution_count": null,
   "metadata": {},
   "outputs": [],
   "source": [
    "env.close()"
   ]
  },
  {
   "cell_type": "markdown",
   "metadata": {},
   "source": [
    "## Space Invaders"
   ]
  },
  {
   "cell_type": "code",
   "execution_count": null,
   "metadata": {},
   "outputs": [],
   "source": [
    "env = gym.make(\"SpaceInvaders-ram-v0\")"
   ]
  },
  {
   "cell_type": "code",
   "execution_count": null,
   "metadata": {},
   "outputs": [],
   "source": [
    "acs = env.action_space"
   ]
  },
  {
   "cell_type": "code",
   "execution_count": null,
   "metadata": {},
   "outputs": [],
   "source": [
    "acs.sample()"
   ]
  },
  {
   "cell_type": "code",
   "execution_count": null,
   "metadata": {},
   "outputs": [],
   "source": [
    "env.reset()"
   ]
  },
  {
   "cell_type": "code",
   "execution_count": null,
   "metadata": {},
   "outputs": [],
   "source": [
    "ret = env.step(3)\n"
   ]
  },
  {
   "cell_type": "code",
   "execution_count": null,
   "metadata": {},
   "outputs": [],
   "source": []
  },
  {
   "cell_type": "code",
   "execution_count": null,
   "metadata": {},
   "outputs": [],
   "source": []
  },
  {
   "cell_type": "code",
   "execution_count": null,
   "metadata": {},
   "outputs": [],
   "source": [
    "env.close()"
   ]
  },
  {
   "cell_type": "code",
   "execution_count": null,
   "metadata": {},
   "outputs": [],
   "source": [
    "num_episodes = 10000\n",
    "env = gym.make(\"SpaceInvaders-ram-v0\")\n",
    "\n",
    "agents = {}\n",
    "rewards = {}\n",
    "lengths = {}\n",
    "losses = {}\n",
    "\n",
    "def train(agent_class, trainer_class, label, lr=1.e-3, critic_factor=1., entropy_factor=0.):\n",
    "    agent = agent_class(env, 128)\n",
    "    trainer = trainer_class(env, agent, lr=lr)\n",
    "    reward, length, loss = trainer.train(\n",
    "        num_episodes=num_episodes, critic_factor=critic_factor, entropy_factor=entropy_factor\n",
    "    )\n",
    "    \n",
    "    agents[label] = agent\n",
    "    rewards[label] = reward\n",
    "    lengths[label] = length\n",
    "    losses[label] = loss / length[:,np.newaxis]"
   ]
  },
  {
   "cell_type": "code",
   "execution_count": null,
   "metadata": {},
   "outputs": [],
   "source": [
    "train(DiscretePolicyAgent, ReinforceTrainer, \"REINFORCE\")"
   ]
  },
  {
   "cell_type": "code",
   "execution_count": null,
   "metadata": {},
   "outputs": [],
   "source": [
    "train(DiscreteActorCriticAgent, MCActorCriticTrainer, \"MC actor-critic\")"
   ]
  },
  {
   "cell_type": "code",
   "execution_count": null,
   "metadata": {},
   "outputs": [],
   "source": [
    "def running_mean(x, n):\n",
    "    cumsum = np.cumsum(np.insert(x, 0, 0)) \n",
    "    return (cumsum[n:] - cumsum[:-n]) / float(n)\n",
    "\n",
    "\n",
    "ticks = np.linspace(0., num_episodes, 6)\n",
    "\n",
    "\n",
    "fig = plt.figure(figsize=(8,8))\n",
    "\n",
    "ax = plt.subplot(3,1,1)\n",
    "for i, (key, val) in enumerate(rewards.items()):\n",
    "    plt.scatter(np.arange(1, num_episodes+1), val, c=\"C{}\".format(i), s=4., alpha=0.25, rasterized=True)\n",
    "    plt.plot(np.arange(50, num_episodes-49), running_mean(val, 100), lw=1.5, label=key, c=\"C{}\".format(i), zorder=1)\n",
    "plt.legend(loc=\"upper left\")\n",
    "plt.ylabel(\"Reward\")\n",
    "plt.xticks(ticks, labels=[\"\" for _ in ticks])\n",
    "\n",
    "ax = plt.subplot(3,1,2)\n",
    "for i, (key, val) in enumerate(lengths.items()):\n",
    "    plt.scatter(np.arange(1, num_episodes+1), val, c=\"C{}\".format(i), s=4., alpha=0.25, rasterized=True)\n",
    "    plt.plot(np.arange(50, num_episodes-49), running_mean(val, 100), lw=1.5, label=key, c=\"C{}\".format(i), zorder=1)\n",
    "plt.ylabel(\"Episode length\")\n",
    "plt.xticks(ticks, labels=[\"\" for _ in ticks])\n",
    "\n",
    "ax = plt.subplot(3,1,3)\n",
    "for i, (key, val) in enumerate(losses.items()):\n",
    "    plt.scatter(np.arange(1, num_episodes+1), val, c=\"C{}\".format(i), s=4., alpha=0.25, rasterized=True)\n",
    "    plt.plot(np.arange(50, num_episodes-49), running_mean(val, 100), lw=1.5, label=key, c=\"C{}\".format(i), zorder=1)\n",
    "plt.ylabel(\"Mean loss\")\n",
    "plt.xlabel(\"Episode\")\n",
    "plt.xticks(ticks)\n",
    "\n",
    "plt.tight_layout()\n",
    "plt.savefig(\"policy_gradient_spaceinvaders.pdf\")\n"
   ]
  },
  {
   "cell_type": "code",
   "execution_count": null,
   "metadata": {},
   "outputs": [],
   "source": [
    "run(env, agents[\"REINFORCE\"])"
   ]
  },
  {
   "cell_type": "code",
   "execution_count": null,
   "metadata": {},
   "outputs": [],
   "source": []
  },
  {
   "cell_type": "code",
   "execution_count": 5,
   "metadata": {
    "scrolled": true
   },
   "outputs": [
    {
     "name": "stdout",
     "output_type": "stream",
     "text": [
      "\n",
      "Collecting experience...\n",
      "Ep:  202 | Ep_r:  11.0\n",
      "Ep:  203 | Ep_r:  24.0\n",
      "Ep:  204 | Ep_r:  13.0\n",
      "Ep:  205 | Ep_r:  11.0\n",
      "Ep:  206 | Ep_r:  32.0\n",
      "Ep:  207 | Ep_r:  35.0\n",
      "Ep:  208 | Ep_r:  32.0\n",
      "Ep:  209 | Ep_r:  22.0\n",
      "Ep:  210 | Ep_r:  9.0\n",
      "Ep:  211 | Ep_r:  9.0\n",
      "Ep:  212 | Ep_r:  10.0\n",
      "Ep:  213 | Ep_r:  9.0\n",
      "Ep:  214 | Ep_r:  12.0\n",
      "Ep:  215 | Ep_r:  36.0\n",
      "Ep:  216 | Ep_r:  8.0\n",
      "Ep:  217 | Ep_r:  9.0\n",
      "Ep:  218 | Ep_r:  11.0\n",
      "Ep:  219 | Ep_r:  9.0\n",
      "Ep:  220 | Ep_r:  17.0\n",
      "Ep:  221 | Ep_r:  24.0\n",
      "Ep:  222 | Ep_r:  26.0\n",
      "Ep:  223 | Ep_r:  31.0\n",
      "Ep:  224 | Ep_r:  14.0\n",
      "Ep:  225 | Ep_r:  12.0\n",
      "Ep:  226 | Ep_r:  21.0\n",
      "Ep:  227 | Ep_r:  11.0\n",
      "Ep:  228 | Ep_r:  10.0\n",
      "Ep:  229 | Ep_r:  12.0\n",
      "Ep:  230 | Ep_r:  9.0\n",
      "Ep:  231 | Ep_r:  9.0\n",
      "Ep:  232 | Ep_r:  11.0\n",
      "Ep:  233 | Ep_r:  30.0\n",
      "Ep:  234 | Ep_r:  34.0\n",
      "Ep:  235 | Ep_r:  9.0\n",
      "Ep:  236 | Ep_r:  8.0\n",
      "Ep:  237 | Ep_r:  9.0\n",
      "Ep:  238 | Ep_r:  9.0\n",
      "Ep:  239 | Ep_r:  14.0\n",
      "Ep:  240 | Ep_r:  15.0\n",
      "Ep:  241 | Ep_r:  11.0\n",
      "Ep:  242 | Ep_r:  10.0\n",
      "Ep:  243 | Ep_r:  13.0\n",
      "Ep:  244 | Ep_r:  10.0\n",
      "Ep:  245 | Ep_r:  8.0\n",
      "Ep:  246 | Ep_r:  10.0\n",
      "Ep:  247 | Ep_r:  11.0\n",
      "Ep:  248 | Ep_r:  32.0\n",
      "Ep:  249 | Ep_r:  9.0\n",
      "Ep:  250 | Ep_r:  8.0\n",
      "Ep:  251 | Ep_r:  8.0\n",
      "Ep:  252 | Ep_r:  12.0\n",
      "Ep:  253 | Ep_r:  10.0\n",
      "Ep:  254 | Ep_r:  10.0\n",
      "Ep:  255 | Ep_r:  10.0\n",
      "Ep:  256 | Ep_r:  10.0\n",
      "Ep:  257 | Ep_r:  10.0\n",
      "Ep:  258 | Ep_r:  12.0\n",
      "Ep:  259 | Ep_r:  11.0\n",
      "Ep:  260 | Ep_r:  9.0\n",
      "Ep:  261 | Ep_r:  11.0\n",
      "Ep:  262 | Ep_r:  11.0\n",
      "Ep:  263 | Ep_r:  10.0\n",
      "Ep:  264 | Ep_r:  9.0\n",
      "Ep:  265 | Ep_r:  10.0\n",
      "Ep:  266 | Ep_r:  9.0\n",
      "Ep:  267 | Ep_r:  10.0\n",
      "Ep:  268 | Ep_r:  14.0\n",
      "Ep:  269 | Ep_r:  8.0\n",
      "Ep:  270 | Ep_r:  10.0\n",
      "Ep:  271 | Ep_r:  8.0\n",
      "Ep:  272 | Ep_r:  8.0\n",
      "Ep:  273 | Ep_r:  10.0\n",
      "Ep:  274 | Ep_r:  9.0\n",
      "Ep:  275 | Ep_r:  9.0\n",
      "Ep:  276 | Ep_r:  13.0\n",
      "Ep:  277 | Ep_r:  10.0\n",
      "Ep:  278 | Ep_r:  9.0\n",
      "Ep:  279 | Ep_r:  12.0\n",
      "Ep:  280 | Ep_r:  10.0\n",
      "Ep:  281 | Ep_r:  10.0\n",
      "Ep:  282 | Ep_r:  10.0\n",
      "Ep:  283 | Ep_r:  10.0\n",
      "Ep:  284 | Ep_r:  9.0\n",
      "Ep:  285 | Ep_r:  10.0\n",
      "Ep:  286 | Ep_r:  10.0\n",
      "Ep:  287 | Ep_r:  9.0\n",
      "Ep:  288 | Ep_r:  9.0\n",
      "Ep:  289 | Ep_r:  10.0\n",
      "Ep:  290 | Ep_r:  10.0\n",
      "Ep:  291 | Ep_r:  9.0\n",
      "Ep:  292 | Ep_r:  10.0\n",
      "Ep:  293 | Ep_r:  10.0\n",
      "Ep:  294 | Ep_r:  9.0\n",
      "Ep:  295 | Ep_r:  9.0\n",
      "Ep:  296 | Ep_r:  10.0\n",
      "Ep:  297 | Ep_r:  10.0\n",
      "Ep:  298 | Ep_r:  12.0\n",
      "Ep:  299 | Ep_r:  10.0\n",
      "Ep:  300 | Ep_r:  8.0\n",
      "Ep:  301 | Ep_r:  10.0\n",
      "Ep:  302 | Ep_r:  8.0\n",
      "Ep:  303 | Ep_r:  10.0\n",
      "Ep:  304 | Ep_r:  11.0\n",
      "Ep:  305 | Ep_r:  11.0\n",
      "Ep:  306 | Ep_r:  14.0\n",
      "Ep:  307 | Ep_r:  9.0\n",
      "Ep:  308 | Ep_r:  9.0\n",
      "Ep:  309 | Ep_r:  10.0\n",
      "Ep:  310 | Ep_r:  10.0\n",
      "Ep:  311 | Ep_r:  10.0\n",
      "Ep:  312 | Ep_r:  12.0\n",
      "Ep:  313 | Ep_r:  11.0\n",
      "Ep:  314 | Ep_r:  9.0\n",
      "Ep:  315 | Ep_r:  13.0\n",
      "Ep:  316 | Ep_r:  8.0\n",
      "Ep:  317 | Ep_r:  12.0\n",
      "Ep:  318 | Ep_r:  10.0\n",
      "Ep:  319 | Ep_r:  10.0\n",
      "Ep:  320 | Ep_r:  10.0\n",
      "Ep:  321 | Ep_r:  9.0\n",
      "Ep:  322 | Ep_r:  10.0\n",
      "Ep:  323 | Ep_r:  10.0\n",
      "Ep:  324 | Ep_r:  10.0\n",
      "Ep:  325 | Ep_r:  20.0\n",
      "Ep:  326 | Ep_r:  9.0\n",
      "Ep:  327 | Ep_r:  10.0\n",
      "Ep:  328 | Ep_r:  10.0\n",
      "Ep:  329 | Ep_r:  10.0\n",
      "Ep:  330 | Ep_r:  9.0\n",
      "Ep:  331 | Ep_r:  9.0\n",
      "Ep:  332 | Ep_r:  8.0\n",
      "Ep:  333 | Ep_r:  10.0\n",
      "Ep:  334 | Ep_r:  9.0\n",
      "Ep:  335 | Ep_r:  10.0\n",
      "Ep:  336 | Ep_r:  10.0\n",
      "Ep:  337 | Ep_r:  10.0\n",
      "Ep:  338 | Ep_r:  10.0\n",
      "Ep:  339 | Ep_r:  11.0\n",
      "Ep:  340 | Ep_r:  9.0\n",
      "Ep:  341 | Ep_r:  9.0\n",
      "Ep:  342 | Ep_r:  10.0\n",
      "Ep:  343 | Ep_r:  10.0\n",
      "Ep:  344 | Ep_r:  10.0\n",
      "Ep:  345 | Ep_r:  13.0\n",
      "Ep:  346 | Ep_r:  8.0\n",
      "Ep:  347 | Ep_r:  9.0\n",
      "Ep:  348 | Ep_r:  9.0\n",
      "Ep:  349 | Ep_r:  9.0\n",
      "Ep:  350 | Ep_r:  12.0\n",
      "Ep:  351 | Ep_r:  9.0\n",
      "Ep:  352 | Ep_r:  10.0\n",
      "Ep:  353 | Ep_r:  11.0\n",
      "Ep:  354 | Ep_r:  9.0\n",
      "Ep:  355 | Ep_r:  9.0\n",
      "Ep:  356 | Ep_r:  12.0\n",
      "Ep:  357 | Ep_r:  9.0\n",
      "Ep:  358 | Ep_r:  10.0\n",
      "Ep:  359 | Ep_r:  9.0\n",
      "Ep:  360 | Ep_r:  10.0\n",
      "Ep:  361 | Ep_r:  12.0\n",
      "Ep:  362 | Ep_r:  10.0\n",
      "Ep:  363 | Ep_r:  9.0\n",
      "Ep:  364 | Ep_r:  9.0\n",
      "Ep:  365 | Ep_r:  10.0\n",
      "Ep:  366 | Ep_r:  9.0\n",
      "Ep:  367 | Ep_r:  9.0\n",
      "Ep:  368 | Ep_r:  8.0\n",
      "Ep:  369 | Ep_r:  10.0\n",
      "Ep:  370 | Ep_r:  9.0\n",
      "Ep:  371 | Ep_r:  8.0\n",
      "Ep:  372 | Ep_r:  10.0\n",
      "Ep:  373 | Ep_r:  12.0\n",
      "Ep:  374 | Ep_r:  10.0\n",
      "Ep:  375 | Ep_r:  11.0\n",
      "Ep:  376 | Ep_r:  11.0\n",
      "Ep:  377 | Ep_r:  8.0\n",
      "Ep:  378 | Ep_r:  8.0\n",
      "Ep:  379 | Ep_r:  9.0\n",
      "Ep:  380 | Ep_r:  10.0\n",
      "Ep:  381 | Ep_r:  9.0\n",
      "Ep:  382 | Ep_r:  10.0\n",
      "Ep:  383 | Ep_r:  9.0\n",
      "Ep:  384 | Ep_r:  8.0\n",
      "Ep:  385 | Ep_r:  10.0\n",
      "Ep:  386 | Ep_r:  10.0\n",
      "Ep:  387 | Ep_r:  10.0\n",
      "Ep:  388 | Ep_r:  9.0\n",
      "Ep:  389 | Ep_r:  11.0\n",
      "Ep:  390 | Ep_r:  9.0\n",
      "Ep:  391 | Ep_r:  9.0\n",
      "Ep:  392 | Ep_r:  9.0\n",
      "Ep:  393 | Ep_r:  10.0\n",
      "Ep:  394 | Ep_r:  10.0\n",
      "Ep:  395 | Ep_r:  9.0\n",
      "Ep:  396 | Ep_r:  9.0\n",
      "Ep:  397 | Ep_r:  10.0\n",
      "Ep:  398 | Ep_r:  8.0\n",
      "Ep:  399 | Ep_r:  8.0\n"
     ]
    }
   ],
   "source": [
    "\"\"\"\n",
    "View more, visit my tutorial page: https://morvanzhou.github.io/tutorials/\n",
    "My Youtube Channel: https://www.youtube.com/user/MorvanZhou\n",
    "More about Reinforcement learning: https://morvanzhou.github.io/tutorials/machine-learning/reinforcement-learning/\n",
    "Dependencies:\n",
    "torch: 0.4\n",
    "gym: 0.8.1\n",
    "numpy\n",
    "\"\"\"\n",
    "import torch\n",
    "import torch.nn as nn\n",
    "import torch.nn.functional as F\n",
    "import numpy as np\n",
    "import gym\n",
    "\n",
    "# Hyper Parameters\n",
    "BATCH_SIZE = 32\n",
    "LR = 0.01                   # learning rate\n",
    "EPSILON = 0.9               # greedy policy\n",
    "GAMMA = 0.9                 # reward discount\n",
    "TARGET_REPLACE_ITER = 100   # target update frequency\n",
    "MEMORY_CAPACITY = 2000\n",
    "env = gym.make('CartPole-v0')\n",
    "env = env.unwrapped\n",
    "N_ACTIONS = env.action_space.n\n",
    "N_STATES = env.observation_space.shape[0]\n",
    "ENV_A_SHAPE = 0 if isinstance(env.action_space.sample(), int) else env.action_space.sample().shape     # to confirm the shape\n",
    "\n",
    "\n",
    "class Net(nn.Module):\n",
    "    def __init__(self, ):\n",
    "        super(Net, self).__init__()\n",
    "        self.fc1 = nn.Linear(N_STATES, 50)\n",
    "        self.fc1.weight.data.normal_(0, 0.1)   # initialization\n",
    "        self.out = nn.Linear(50, N_ACTIONS)\n",
    "        self.out.weight.data.normal_(0, 0.1)   # initialization\n",
    "\n",
    "    def forward(self, x):\n",
    "        x = self.fc1(x)\n",
    "        x = F.relu(x)\n",
    "        actions_value = self.out(x)\n",
    "        return actions_value\n",
    "\n",
    "\n",
    "class DQN(object):\n",
    "    def __init__(self):\n",
    "        self.eval_net, self.target_net = Net(), Net()\n",
    "\n",
    "        self.learn_step_counter = 0                                     # for target updating\n",
    "        self.memory_counter = 0                                         # for storing memory\n",
    "        self.memory = np.zeros((MEMORY_CAPACITY, N_STATES * 2 + 2))     # initialize memory\n",
    "        self.optimizer = torch.optim.Adam(self.eval_net.parameters(), lr=LR)\n",
    "        self.loss_func = nn.MSELoss()\n",
    "\n",
    "    def choose_action(self, x):\n",
    "        x = torch.unsqueeze(torch.FloatTensor(x), 0)\n",
    "        # input only one sample\n",
    "        if np.random.uniform() < EPSILON:   # greedy\n",
    "            actions_value = self.eval_net.forward(x)\n",
    "            action = torch.max(actions_value, 1)[1].data.numpy()\n",
    "            action = action[0] if ENV_A_SHAPE == 0 else action.reshape(ENV_A_SHAPE)  # return the argmax index\n",
    "        else:   # random\n",
    "            action = np.random.randint(0, N_ACTIONS)\n",
    "            action = action if ENV_A_SHAPE == 0 else action.reshape(ENV_A_SHAPE)\n",
    "        return action\n",
    "\n",
    "    def store_transition(self, s, a, r, s_):\n",
    "        transition = np.hstack((s, [a, r], s_))\n",
    "        # replace the old memory with new memory\n",
    "        index = self.memory_counter % MEMORY_CAPACITY\n",
    "        self.memory[index, :] = transition\n",
    "        self.memory_counter += 1\n",
    "\n",
    "    def learn(self):\n",
    "        # target parameter update\n",
    "        if self.learn_step_counter % TARGET_REPLACE_ITER == 0:\n",
    "            self.target_net.load_state_dict(self.eval_net.state_dict())\n",
    "        self.learn_step_counter += 1\n",
    "\n",
    "        # sample batch transitions\n",
    "        sample_index = np.random.choice(MEMORY_CAPACITY, BATCH_SIZE)\n",
    "        b_memory = self.memory[sample_index, :]\n",
    "        b_s = torch.FloatTensor(b_memory[:, :N_STATES])\n",
    "        b_a = torch.LongTensor(b_memory[:, N_STATES:N_STATES+1].astype(int))\n",
    "        b_r = torch.FloatTensor(b_memory[:, N_STATES+1:N_STATES+2])\n",
    "        b_s_ = torch.FloatTensor(b_memory[:, -N_STATES:])\n",
    "\n",
    "        # q_eval w.r.t the action in experience\n",
    "        q_eval = self.eval_net(b_s).gather(1, b_a)  # shape (batch, 1)\n",
    "        q_next = self.target_net(b_s_).detach()     # detach from graph, don't backpropagate\n",
    "        q_target = b_r + GAMMA * q_next.max(1)[0].view(BATCH_SIZE, 1)   # shape (batch, 1)\n",
    "        loss = self.loss_func(q_eval, q_target)\n",
    "\n",
    "        self.optimizer.zero_grad()\n",
    "        loss.backward()\n",
    "        self.optimizer.step()\n",
    "\n",
    "dqn = DQN()\n",
    "\n",
    "print('\\nCollecting experience...')\n",
    "for i_episode in range(400):\n",
    "    s = env.reset()\n",
    "    ep_r = 0\n",
    "    while True:\n",
    "        #env.render()\n",
    "        a = dqn.choose_action(s)\n",
    "\n",
    "        # take action\n",
    "        s_, r, done, info = env.step(a)\n",
    "\n",
    "        # modify the reward\n",
    "        x, x_dot, theta, theta_dot = s_\n",
    "        r1 = (env.x_threshold - abs(x)) / env.x_threshold - 0.8\n",
    "        r2 = (env.theta_threshold_radians - abs(theta)) / env.theta_threshold_radians - 0.5\n",
    "        #r = r1 + r2\n",
    "\n",
    "        dqn.store_transition(s, a, r, s_)\n",
    "\n",
    "        ep_r += r\n",
    "        if dqn.memory_counter > MEMORY_CAPACITY:\n",
    "            dqn.learn()\n",
    "            if done:\n",
    "                print('Ep: ', i_episode,\n",
    "                      '| Ep_r: ', round(ep_r, 2))\n",
    "\n",
    "        if done:\n",
    "            break\n",
    "        s = s_"
   ]
  },
  {
   "cell_type": "code",
   "execution_count": 12,
   "metadata": {},
   "outputs": [],
   "source": [
    "env.close()"
   ]
  },
  {
   "cell_type": "code",
   "execution_count": null,
   "metadata": {},
   "outputs": [],
   "source": []
  }
 ],
 "metadata": {
  "kernelspec": {
   "display_name": "Python 3",
   "language": "python",
   "name": "python3"
  },
  "language_info": {
   "codemirror_mode": {
    "name": "ipython",
    "version": 3
   },
   "file_extension": ".py",
   "mimetype": "text/x-python",
   "name": "python",
   "nbconvert_exporter": "python",
   "pygments_lexer": "ipython3",
   "version": "3.8.2"
  }
 },
 "nbformat": 4,
 "nbformat_minor": 4
}
