{
 "cells": [
  {
   "cell_type": "markdown",
   "metadata": {},
   "source": [
    "# Small Nimmt 6 tournament"
   ]
  },
  {
   "cell_type": "code",
   "execution_count": null,
   "metadata": {},
   "outputs": [],
   "source": [
    "import numpy as np\n",
    "import logging\n",
    "import sys\n",
    "import torch\n",
    "import pickle\n",
    "from tqdm import tqdm\n",
    "from matplotlib import pyplot as plt\n",
    "\n",
    "sys.path.append(\"../\")\n",
    "\n",
    "from rl_6_nimmt import Tournament, GameSession\n",
    "from rl_6_nimmt.agents import Human, DrunkHamster, MaskedReinforceAgent, BatchedReinforceAgent, BatchedACERAgent\n",
    "\n",
    "logging.basicConfig(format=\"%(message)s\",level=logging.INFO)\n",
    "for name in logging.root.manager.loggerDict:\n",
    "    if not \"rl_6_nimmt\" in name:\n",
    "        logging.getLogger(name).setLevel(logging.WARNING)\n"
   ]
  },
  {
   "cell_type": "markdown",
   "metadata": {},
   "source": [
    "## Agents"
   ]
  },
  {
   "cell_type": "code",
   "execution_count": null,
   "metadata": {},
   "outputs": [],
   "source": [
    "agents = {}\n",
    "\n",
    "for i in range(1):\n",
    "    agents[f\"Batched REINFORCE {i+1}\"] = BatchedReinforceAgent(r_factor=0.1)\n",
    "    agents[f\"Batched REINFORCE {i+1}\"].train()\n",
    "    \n",
    "for i in range(1):\n",
    "    agents[f\"Masked REINFORCE {i+1}\"] = MaskedReinforceAgent(r_factor=0.1)\n",
    "    agents[f\"Masked REINFORCE {i+1}\"].train()\n",
    "    \n",
    "for i in range(2):\n",
    "    agents[f\"Batched ACER {i+1}\"] = BatchedACERAgent()\n",
    "    agents[f\"Batched ACER {i+1}\"].train()\n",
    "    \n",
    "for i in range(1):\n",
    "    agents[f\"Random {i+1}\"] = DrunkHamster()\n",
    "    \n",
    "baseline_agents = [DrunkHamster()]\n",
    "\n",
    "merle = Human(\"Merle\")\n"
   ]
  },
  {
   "cell_type": "code",
   "execution_count": null,
   "metadata": {},
   "outputs": [],
   "source": [
    "tournament = Tournament(min_players=2, max_players=2, baseline_agents=baseline_agents)\n",
    "\n",
    "for name, agent in agents.items():\n",
    "    tournament.add_player(name, agent)\n",
    "\n",
    "print(tournament)"
   ]
  },
  {
   "cell_type": "markdown",
   "metadata": {},
   "source": [
    "## Load existing state (skip when running this for the first time)"
   ]
  },
  {
   "cell_type": "code",
   "execution_count": null,
   "metadata": {},
   "outputs": [],
   "source": [
    "# agents, tournament = pickle.load(open(\"./.tournament.pickle\", \"rb\"))"
   ]
  },
  {
   "cell_type": "markdown",
   "metadata": {},
   "source": [
    "## Let the games begin"
   ]
  },
  {
   "cell_type": "code",
   "execution_count": null,
   "metadata": {},
   "outputs": [],
   "source": [
    "num_games = 200000\n",
    "block_len = 10000\n",
    "\n",
    "try:\n",
    "    tqdm._instances.clear()  # Important after cancelling any step\n",
    "except:\n",
    "    pass\n",
    "\n",
    "while tournament.total_games < num_games:\n",
    "    for _ in tqdm(range(block_len)):\n",
    "        tournament.play_game()\n",
    "    print(tournament)\n"
   ]
  },
  {
   "cell_type": "code",
   "execution_count": null,
   "metadata": {},
   "outputs": [],
   "source": [
    "pickle.dump((agents, tournament), open( \"./.tournament.pickle\", \"wb\" ))"
   ]
  },
  {
   "cell_type": "markdown",
   "metadata": {},
   "source": [
    "## Let's see the results"
   ]
  },
  {
   "cell_type": "code",
   "execution_count": null,
   "metadata": {},
   "outputs": [],
   "source": [
    "print(tournament)"
   ]
  },
  {
   "cell_type": "code",
   "execution_count": null,
   "metadata": {},
   "outputs": [],
   "source": [
    "def create_color(name):\n",
    "    if \"Batched REINFORCE\" in name:\n",
    "        return \"C0\"\n",
    "    elif \"Masked REINFORCE\" in name:\n",
    "        return \"C1\"\n",
    "    elif \"Batched ACER\" in name:\n",
    "        return \"C2\"\n",
    "    elif \"Random\" in name:\n",
    "        return \"0.6\"\n",
    "    \n",
    "    \n",
    "def create_label(name):\n",
    "    return name[:-2] if \"1\" in name else None\n",
    "\n",
    "\n",
    "def plot_running_mean(x, y, n=10, **kwargs):\n",
    "    cumsum = np.cumsum(np.insert(y, 0, 0))\n",
    "    running_mean_y = (cumsum[n:] - cumsum[:-n]) / n\n",
    "    \n",
    "    cumsum = np.cumsum(np.insert(x, 0, 0))\n",
    "    running_mean_x = (cumsum[n:] - cumsum[:-n]) / n\n",
    "    \n",
    "    plt.plot(running_mean_x, running_mean_y, **kwargs)\n"
   ]
  },
  {
   "cell_type": "code",
   "execution_count": null,
   "metadata": {},
   "outputs": [],
   "source": [
    "labels = [\n",
    "    \"Mean Hornochsen in tournament\",\n",
    "    \"Mean Hornochsen vs baseline\",\n",
    "    \"Win fraction in tournament\",\n",
    "    \"Win fraction vs baseline\"\n",
    "]\n",
    "quantities = [\n",
    "    tournament.tournament_scores,\n",
    "    tournament.baseline_scores,\n",
    "    tournament.tournament_wins,\n",
    "    tournament.baseline_wins\n",
    "]\n",
    "fns = [lambda x : -x, lambda x : -x, id, id]\n",
    "baselines = [False, True, False, True]"
   ]
  },
  {
   "cell_type": "code",
   "execution_count": null,
   "metadata": {},
   "outputs": [],
   "source": [
    "fig = plt.figure(figsize=(8,8))\n",
    "\n",
    "for panel, (quantity, label, fn, baseline) in enumerate(zip(quantities, labels, fns, baselines)):\n",
    "    ax = plt.subplot(2,2,panel + 1)\n",
    "    \n",
    "    for name in tournament.agents.keys():\n",
    "        y = np.array(quantity[name])\n",
    "        x = 1000 * np.arange(1, len(y) + 1) if baseline else np.arange(1, len(y) + 1)\n",
    "        plot_running_mean(x, fn(y), n = 10 if baseline else 1000, label=create_label(name), color=create_color(name))\n",
    "    \n",
    "    plt.legend(loc=\"upper left\")\n",
    "    plt.xlabel(\"Played tournament games\")\n",
    "    plt.ylabel(label)\n",
    "\n",
    "plt.tight_layout()\n",
    "plt.show()\n"
   ]
  },
  {
   "cell_type": "markdown",
   "metadata": {},
   "source": [
    "## Winner vs Merle"
   ]
  },
  {
   "cell_type": "code",
   "execution_count": null,
   "metadata": {},
   "outputs": [],
   "source": [
    "session = GameSession(merle, tournament.winner())\n",
    "\n",
    "# The DEBUG output shows the moves, which is nice\n",
    "for name in logging.root.manager.loggerDict:\n",
    "    if \"rl_6_nimmt\" in name:\n",
    "        logging.getLogger(name).setLevel(logging.DEBUG)\n",
    "        "
   ]
  },
  {
   "cell_type": "code",
   "execution_count": null,
   "metadata": {},
   "outputs": [],
   "source": [
    "session.play_game(render=True)"
   ]
  },
  {
   "cell_type": "code",
   "execution_count": null,
   "metadata": {},
   "outputs": [],
   "source": []
  },
  {
   "cell_type": "code",
   "execution_count": null,
   "metadata": {},
   "outputs": [],
   "source": []
  }
 ],
 "metadata": {
  "kernelspec": {
   "display_name": "Python (rl)",
   "language": "python",
   "name": "rl"
  },
  "language_info": {
   "codemirror_mode": {
    "name": "ipython",
    "version": 3
   },
   "file_extension": ".py",
   "mimetype": "text/x-python",
   "name": "python",
   "nbconvert_exporter": "python",
   "pygments_lexer": "ipython3",
   "version": "3.8.2"
  }
 },
 "nbformat": 4,
 "nbformat_minor": 4
}
