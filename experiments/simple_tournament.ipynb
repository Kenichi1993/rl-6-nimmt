{
 "cells": [
  {
   "cell_type": "markdown",
   "metadata": {},
   "source": [
    "# Small Nimmt 6 tournament"
   ]
  },
  {
   "cell_type": "code",
   "execution_count": 39,
   "metadata": {},
   "outputs": [],
   "source": [
    "import numpy as np\n",
    "import logging\n",
    "import sys\n",
    "from tqdm import tqdm\n",
    "from matplotlib import pyplot as plt\n",
    "\n",
    "sys.path.append(\"../\")\n",
    "\n",
    "from rl_6_nimmt import Tournament, GameSession\n",
    "from rl_6_nimmt.agents import Human, DrunkHamster, MaskedReinforceAgent, BatchedReinforceAgent\n",
    "\n",
    "logging.basicConfig(format=\"%(message)s\",level=logging.INFO)\n",
    "for name in logging.root.manager.loggerDict:\n",
    "    if not \"rl_6_nimmt\" in name:\n",
    "        logging.getLogger(name).setLevel(logging.WARNING)\n"
   ]
  },
  {
   "cell_type": "markdown",
   "metadata": {},
   "source": [
    "## Agents"
   ]
  },
  {
   "cell_type": "code",
   "execution_count": 2,
   "metadata": {},
   "outputs": [],
   "source": [
    "num_copies = 3\n",
    "agents = {}\n",
    "\n",
    "for i in range(num_copies):\n",
    "    agents[f\"Batched REINFORCE {i+1}\"] = BatchedReinforceAgent()\n",
    "    agents[f\"Batched REINFORCE {i+1}\"].train()\n",
    "    \n",
    "for i in range(num_copies):\n",
    "    agents[f\"Masked REINFORCE {i+1}\"] = MaskedReinforceAgent()\n",
    "    agents[f\"Masked REINFORCE {i+1}\"].train()\n",
    "    \n",
    "for i in range(num_copies):\n",
    "    agents[f\"Random {i+1}\"] = DrunkHamster()\n",
    "    \n",
    "baseline_agents = [DrunkHamster(), DrunkHamster()]\n",
    "\n",
    "merle = Human(\"Merle\")\n"
   ]
  },
  {
   "cell_type": "code",
   "execution_count": 3,
   "metadata": {},
   "outputs": [
    {
     "name": "stdout",
     "output_type": "stream",
     "text": [
      "Tournament after 0 games:\n",
      "--------------------------------------------------------------------------------------------------\n",
      " Agent                | Games | Tournament score | Tournament pos | Baseline score | Baseline pos \n",
      "--------------------------------------------------------------------------------------------------\n",
      "  Batched REINFORCE 1 |     0 |                - |              - |              - |            - \n",
      "  Batched REINFORCE 2 |     0 |                - |              - |              - |            - \n",
      "  Batched REINFORCE 3 |     0 |                - |              - |              - |            - \n",
      "   Masked REINFORCE 1 |     0 |                - |              - |              - |            - \n",
      "   Masked REINFORCE 2 |     0 |                - |              - |              - |            - \n",
      "   Masked REINFORCE 3 |     0 |                - |              - |              - |            - \n",
      "             Random 1 |     0 |                - |              - |              - |            - \n",
      "             Random 2 |     0 |                - |              - |              - |            - \n",
      "             Random 3 |     0 |                - |              - |              - |            - \n",
      "--------------------------------------------------------------------------------------------------\n"
     ]
    }
   ],
   "source": [
    "tournament = Tournament(min_players=3, max_players=3, baseline_agents=baseline_agents)\n",
    "\n",
    "for name, agent in agents.items():\n",
    "    tournament.add_player(name, agent)\n",
    "\n",
    "print(tournament)"
   ]
  },
  {
   "cell_type": "markdown",
   "metadata": {},
   "source": [
    "## Let the games begin"
   ]
  },
  {
   "cell_type": "code",
   "execution_count": 13,
   "metadata": {},
   "outputs": [
    {
     "name": "stderr",
     "output_type": "stream",
     "text": [
      "100%|██████████| 89993/89993 [35:11<00:00, 42.63it/s]  \n"
     ]
    }
   ],
   "source": [
    "num_games = 100000\n",
    "for _ in tqdm(range(num_games)):\n",
    "    tournament.play_game()\n"
   ]
  },
  {
   "cell_type": "markdown",
   "metadata": {},
   "source": [
    "## Let's see the results"
   ]
  },
  {
   "cell_type": "code",
   "execution_count": 14,
   "metadata": {},
   "outputs": [
    {
     "name": "stdout",
     "output_type": "stream",
     "text": [
      "Tournament after 100000 games:\n",
      "--------------------------------------------------------------------------------------------------\n",
      " Agent                | Games | Tournament score | Tournament pos | Baseline score | Baseline pos \n",
      "--------------------------------------------------------------------------------------------------\n",
      "  Batched REINFORCE 1 | 33411 |            -9.67 |           0.55 |          -9.85 |         0.88 \n",
      "  Batched REINFORCE 2 | 33222 |            -9.44 |           0.55 |          -9.58 |         0.94 \n",
      "  Batched REINFORCE 3 | 33358 |            -9.39 |           0.55 |          -9.54 |         1.00 \n",
      "   Masked REINFORCE 1 | 33236 |           -10.30 |           0.53 |         -10.53 |         0.82 \n",
      "   Masked REINFORCE 2 | 33407 |           -10.48 |           0.52 |         -10.58 |         0.80 \n",
      "   Masked REINFORCE 3 | 33347 |           -10.56 |           0.52 |         -10.41 |         0.95 \n",
      "             Random 1 | 33341 |           -11.52 |           0.48 |         -11.04 |         0.70 \n",
      "             Random 2 | 33214 |           -11.52 |           0.48 |         -11.44 |         0.61 \n",
      "             Random 3 | 33467 |           -11.42 |           0.48 |         -11.21 |         0.70 \n",
      "--------------------------------------------------------------------------------------------------\n"
     ]
    }
   ],
   "source": [
    "print(tournament)"
   ]
  },
  {
   "cell_type": "code",
   "execution_count": 32,
   "metadata": {},
   "outputs": [],
   "source": [
    "def color(name):\n",
    "    if \"Batched REINFORCE\" in name:\n",
    "        return \"C0\"\n",
    "    elif \"Masked REINFORCE\" in name:\n",
    "        return \"C1\"\n",
    "    elif \"Random\" in name:\n",
    "        return \"0.6\"\n",
    "    \n",
    "    \n",
    "def label(name):\n",
    "    return name[:-2] if \"1\" in name else None\n",
    "\n",
    "\n",
    "def plot_running_mean(x, y, n=10, **kwargs):\n",
    "    cumsum = np.cumsum(np.insert(y, 0, 0))\n",
    "    running_mean_y = (cumsum[n:] - cumsum[:-n]) / n\n",
    "    \n",
    "    cumsum = np.cumsum(np.insert(x, 0, 0))\n",
    "    running_mean_x = (cumsum[n:] - cumsum[:-n]) / n\n",
    "    \n",
    "    plt.plot(running_mean_x, running_mean_y, **kwargs)\n"
   ]
  },
  {
   "cell_type": "code",
   "execution_count": 33,
   "metadata": {},
   "outputs": [
    {
     "data": {
      "image/png": "[encoded data removed]",
      "text/plain": [
       "<Figure size 360x360 with 1 Axes>"
      ]
     },
     "metadata": {
      "needs_background": "light"
     },
     "output_type": "display_data"
    }
   ],
   "source": [
    "fig = plt.figure(figsize=(5,5))\n",
    "\n",
    "for name in tournament.agents.keys():\n",
    "    baseline_scores = np.array(tournament.baseline_scores[name])\n",
    "    xvals = 1000 * np.arange(1, len(baseline_scores) + 1)\n",
    "    plot_running_mean(xvals, - baseline_scores, label=label(name), color=color(name))\n",
    "    \n",
    "plt.legend()\n",
    "    \n",
    "plt.xlabel(\"Played tournament games\")\n",
    "plt.ylabel(\"Mean score vs baselines (lower is better)\")\n",
    "\n",
    "plt.tight_layout()\n",
    "plt.show()\n"
   ]
  },
  {
   "cell_type": "code",
   "execution_count": 35,
   "metadata": {},
   "outputs": [
    {
     "data": {
      "image/png": "[encoded data removed]",
      "text/plain": [
       "<Figure size 360x360 with 1 Axes>"
      ]
     },
     "metadata": {
      "needs_background": "light"
     },
     "output_type": "display_data"
    }
   ],
   "source": [
    "fig = plt.figure(figsize=(5,5))\n",
    "\n",
    "for name in tournament.agents.keys():\n",
    "    baseline_pos = np.array(tournament.baseline_positions[name])\n",
    "    xvals = 1000 * np.arange(1, len(baseline_scores) + 1)\n",
    "    plot_running_mean(xvals, 4 - 3*baseline_pos, n=20, label=label(name), color=color(name))\n",
    "    \n",
    "plt.legend()\n",
    "    \n",
    "plt.xlabel(\"Played tournament games\")\n",
    "plt.ylabel(\"Mean position vs baselines (lower is better)\")\n",
    "\n",
    "plt.tight_layout()\n",
    "plt.show()\n"
   ]
  },
  {
   "cell_type": "code",
   "execution_count": 45,
   "metadata": {},
   "outputs": [
    {
     "data": {
      "image/png": "[encoded data removed]",
      "text/plain": [
       "<Figure size 360x360 with 1 Axes>"
      ]
     },
     "metadata": {
      "needs_background": "light"
     },
     "output_type": "display_data"
    }
   ],
   "source": [
    "scores = np.array(tournament.tournament_scores[\"Batched REINFORCE 3\"])\n",
    "\n",
    "plt.figure(figsize=(5,5))\n",
    "\n",
    "plt.hist(-scores, histtype=\"step\", range=(0.5, 50.5), bins=51)\n",
    "\n",
    "plt.tight_layout()\n",
    "plt.show()"
   ]
  },
  {
   "cell_type": "markdown",
   "metadata": {},
   "source": [
    "## Winner vs humans"
   ]
  },
  {
   "cell_type": "code",
   "execution_count": 46,
   "metadata": {},
   "outputs": [],
   "source": [
    "winner = agents[\"Batched REINFORCE 3\"]\n",
    "johann = Human(\"Johann\")\n",
    "merle = Human(\"Merle\")\n"
   ]
  },
  {
   "cell_type": "code",
   "execution_count": 47,
   "metadata": {},
   "outputs": [],
   "source": [
    "session = GameSession(johann, merle, winner)\n",
    "\n",
    "# The DEBUG output shows the moves, baseline_positionse\n",
    "for name in logging.root.manager.loggerDict:\n",
    "    if \"rl_6_nimmt\" in name:\n",
    "        logging.getLogger(name).setLevel(logging.DEBUG)\n",
    "        "
   ]
  },
  {
   "cell_type": "code",
   "execution_count": 48,
   "metadata": {},
   "outputs": [
    {
     "name": "stderr",
     "output_type": "stream",
     "text": [
      "Dealing cards\n",
      "--------------------------------------------------------------------------------\n",
      "Board:\n",
      "   15   _   _   _   _   *\n",
      "   21   _   _   _   _   *\n",
      "   43   _   _   _   _   *\n",
      "   92   _   _   _   _   *\n",
      "Players:\n",
      "  Johann              (player 1):   0 Hornochsen, cards  25  30  46  60  61  66  72  74  75 100\n",
      "  Merle               (player 2):   0 Hornochsen, cards   8  24  38  40  45  64  70  81  82 103\n",
      "  Batched REINFORCE 3 (player 3):   0 Hornochsen, cards   9  18  20  23  26  27  33  56  62  86\n",
      "--------------------------------------------------------------------------------\n"
     ]
    },
    {
     "name": "stdin",
     "output_type": "stream",
     "text": [
      "It is your turn, Johann! You have the following cards:  25  30  46  60  61  66  72  74  75 100. Choose one to play! 60\n",
      "It is your turn, Merle! You have the following cards:   8  24  38  40  45  64  70  81  82 103. Choose one to play! 45\n"
     ]
    },
    {
     "name": "stderr",
     "output_type": "stream",
     "text": [
      "Merle               (player 2) plays card 45\n",
      "Johann              (player 1) plays card 60\n",
      "Batched REINFORCE 3 (player 3) plays card 86\n",
      "--------------------------------------------------------------------------------\n",
      "Board:\n",
      "   15   _   _   _   _   *\n",
      "   21   _   _   _   _   *\n",
      "   43  45  60  86   _   *\n",
      "   92   _   _   _   _   *\n",
      "Players:\n",
      "  Johann              (player 1):   0 Hornochsen, cards  25  30  46  61  66  72  74  75 100\n",
      "  Merle               (player 2):   0 Hornochsen, cards   8  24  38  40  64  70  81  82 103\n",
      "  Batched REINFORCE 3 (player 3):   0 Hornochsen, cards   9  18  20  23  26  27  33  56  62\n",
      "--------------------------------------------------------------------------------\n"
     ]
    },
    {
     "name": "stdin",
     "output_type": "stream",
     "text": [
      "It is your turn, Johann! You have the following cards:  25  30  46  61  66  72  74  75 100. Choose one to play! 46\n",
      "It is your turn, Merle! You have the following cards:   8  24  38  40  64  70  81  82 103. Choose one to play! 81\n"
     ]
    },
    {
     "name": "stderr",
     "output_type": "stream",
     "text": [
      "Johann              (player 1) plays card 46\n",
      "Batched REINFORCE 3 (player 3) plays card 62\n",
      "Merle               (player 2) plays card 81\n",
      "--------------------------------------------------------------------------------\n",
      "Board:\n",
      "   15   _   _   _   _   *\n",
      "   21  46  62  81   _   *\n",
      "   43  45  60  86   _   *\n",
      "   92   _   _   _   _   *\n",
      "Players:\n",
      "  Johann              (player 1):   0 Hornochsen, cards  25  30  61  66  72  74  75 100\n",
      "  Merle               (player 2):   0 Hornochsen, cards   8  24  38  40  64  70  82 103\n",
      "  Batched REINFORCE 3 (player 3):   0 Hornochsen, cards   9  18  20  23  26  27  33  56\n",
      "--------------------------------------------------------------------------------\n"
     ]
    },
    {
     "name": "stdin",
     "output_type": "stream",
     "text": [
      "It is your turn, Johann! You have the following cards:  25  30  61  66  72  74  75 100. Choose one to play! 25\n",
      "It is your turn, Merle! You have the following cards:   8  24  38  40  64  70  82 103. Choose one to play! 82\n"
     ]
    },
    {
     "name": "stderr",
     "output_type": "stream",
     "text": [
      "Johann              (player 1) plays card 25\n",
      "Batched REINFORCE 3 (player 3) plays card 56\n",
      "Merle               (player 2) plays card 82\n",
      "--------------------------------------------------------------------------------\n",
      "Board:\n",
      "   15  25  56   _   _   *\n",
      "   21  46  62  81  82   *\n",
      "   43  45  60  86   _   *\n",
      "   92   _   _   _   _   *\n",
      "Players:\n",
      "  Johann              (player 1):   0 Hornochsen, cards  30  61  66  72  74  75 100\n",
      "  Merle               (player 2):   0 Hornochsen, cards   8  24  38  40  64  70 103\n",
      "  Batched REINFORCE 3 (player 3):   0 Hornochsen, cards   9  18  20  23  26  27  33\n",
      "--------------------------------------------------------------------------------\n"
     ]
    },
    {
     "name": "stdin",
     "output_type": "stream",
     "text": [
      "It is your turn, Johann! You have the following cards:  30  61  66  72  74  75 100. Choose one to play! 61\n",
      "It is your turn, Merle! You have the following cards:   8  24  38  40  64  70 103. Choose one to play! 64\n"
     ]
    },
    {
     "name": "stderr",
     "output_type": "stream",
     "text": [
      "Batched REINFORCE 3 (player 3) plays card 33\n",
      "  ...chooses to replace row 4\n",
      "  ...and gains 1 Hornochsen\n",
      "Johann              (player 1) plays card 61\n",
      "Merle               (player 2) plays card 64\n",
      "--------------------------------------------------------------------------------\n",
      "Board:\n",
      "   15  25  56  61  64   *\n",
      "   21  46  62  81  82   *\n",
      "   43  45  60  86   _   *\n",
      "   33   _   _   _   _   *\n",
      "Players:\n",
      "  Johann              (player 1):   0 Hornochsen, cards  30  66  72  74  75 100\n",
      "  Merle               (player 2):   0 Hornochsen, cards   8  24  38  40  70 103\n",
      "  Batched REINFORCE 3 (player 3):   1 Hornochsen, cards   9  18  20  23  26  27\n",
      "--------------------------------------------------------------------------------\n"
     ]
    },
    {
     "name": "stdin",
     "output_type": "stream",
     "text": [
      "It is your turn, Johann! You have the following cards:  30  66  72  74  75 100. Choose one to play! 100\n",
      "It is your turn, Merle! You have the following cards:   8  24  38  40  70 103. Choose one to play! 38\n"
     ]
    },
    {
     "name": "stderr",
     "output_type": "stream",
     "text": [
      "Batched REINFORCE 3 (player 3) plays card 26\n",
      "  ...chooses to replace row 4\n",
      "  ...and gains 5 Hornochsen\n",
      "Merle               (player 2) plays card 38\n",
      "Johann              (player 1) plays card 100\n",
      "--------------------------------------------------------------------------------\n",
      "Board:\n",
      "   15  25  56  61  64   *\n",
      "   21  46  62  81  82   *\n",
      "   43  45  60  86 100   *\n",
      "   26  38   _   _   _   *\n",
      "Players:\n",
      "  Johann              (player 1):   0 Hornochsen, cards  30  66  72  74  75\n",
      "  Merle               (player 2):   0 Hornochsen, cards   8  24  40  70 103\n",
      "  Batched REINFORCE 3 (player 3):   6 Hornochsen, cards   9  18  20  23  27\n",
      "--------------------------------------------------------------------------------\n"
     ]
    },
    {
     "name": "stdin",
     "output_type": "stream",
     "text": [
      "It is your turn, Johann! You have the following cards:  30  66  72  74  75. Choose one to play! 30\n",
      "It is your turn, Merle! You have the following cards:   8  24  40  70 103. Choose one to play! 40\n"
     ]
    },
    {
     "name": "stderr",
     "output_type": "stream",
     "text": [
      "Batched REINFORCE 3 (player 3) plays card 27\n",
      "  ...chooses to replace row 4\n",
      "  ...and gains 2 Hornochsen\n",
      "Johann              (player 1) plays card 30\n",
      "Merle               (player 2) plays card 40\n",
      "--------------------------------------------------------------------------------\n",
      "Board:\n",
      "   15  25  56  61  64   *\n",
      "   21  46  62  81  82   *\n",
      "   43  45  60  86 100   *\n",
      "   27  30  40   _   _   *\n",
      "Players:\n",
      "  Johann              (player 1):   0 Hornochsen, cards  66  72  74  75\n",
      "  Merle               (player 2):   0 Hornochsen, cards   8  24  70 103\n",
      "  Batched REINFORCE 3 (player 3):   8 Hornochsen, cards   9  18  20  23\n",
      "--------------------------------------------------------------------------------\n"
     ]
    },
    {
     "name": "stdin",
     "output_type": "stream",
     "text": [
      "It is your turn, Johann! You have the following cards:  66  72  74  75. Choose one to play! 66\n",
      "It is your turn, Merle! You have the following cards:   8  24  70 103. Choose one to play! 24\n"
     ]
    },
    {
     "name": "stderr",
     "output_type": "stream",
     "text": [
      "Batched REINFORCE 3 (player 3) plays card 18\n",
      "  ...chooses to replace row 2\n",
      "  ...and gains 5 Hornochsen\n",
      "Merle               (player 2) plays card 24\n",
      "Johann              (player 1) plays card 66\n",
      "  ...and gains 7 Hornochsen\n",
      "--------------------------------------------------------------------------------\n",
      "Board:\n",
      "   66   _   _   _   _   *\n",
      "   18  24   _   _   _   *\n",
      "   43  45  60  86 100   *\n",
      "   27  30  40   _   _   *\n",
      "Players:\n",
      "  Johann              (player 1):   7 Hornochsen, cards  72  74  75\n",
      "  Merle               (player 2):   0 Hornochsen, cards   8  70 103\n",
      "  Batched REINFORCE 3 (player 3):  13 Hornochsen, cards   9  20  23\n",
      "--------------------------------------------------------------------------------\n"
     ]
    },
    {
     "name": "stdin",
     "output_type": "stream",
     "text": [
      "It is your turn, Johann! You have the following cards:  72  74  75. Choose one to play! 72\n",
      "It is your turn, Merle! You have the following cards:   8  70 103. Choose one to play! 70\n"
     ]
    },
    {
     "name": "stderr",
     "output_type": "stream",
     "text": [
      "Batched REINFORCE 3 (player 3) plays card 23\n",
      "  ...chooses to replace row 1\n",
      "  ...and gains 5 Hornochsen\n",
      "Merle               (player 2) plays card 70\n",
      "Johann              (player 1) plays card 72\n",
      "--------------------------------------------------------------------------------\n",
      "Board:\n",
      "   23   _   _   _   _   *\n",
      "   18  24   _   _   _   *\n",
      "   43  45  60  86 100   *\n",
      "   27  30  40  70  72   *\n",
      "Players:\n",
      "  Johann              (player 1):   7 Hornochsen, cards  74  75\n",
      "  Merle               (player 2):   0 Hornochsen, cards   8 103\n",
      "  Batched REINFORCE 3 (player 3):  18 Hornochsen, cards   9  20\n",
      "--------------------------------------------------------------------------------\n"
     ]
    },
    {
     "name": "stdin",
     "output_type": "stream",
     "text": [
      "It is your turn, Johann! You have the following cards:  74  75. Choose one to play! 74\n",
      "It is your turn, Merle! You have the following cards:   8 103. Choose one to play! 8\n"
     ]
    },
    {
     "name": "stderr",
     "output_type": "stream",
     "text": [
      "Merle               (player 2) plays card 8\n",
      "  ...chooses to replace row 1\n",
      "  ...and gains 1 Hornochsen\n",
      "Batched REINFORCE 3 (player 3) plays card 9\n",
      "Johann              (player 1) plays card 74\n",
      "  ...and gains 11 Hornochsen\n",
      "--------------------------------------------------------------------------------\n",
      "Board:\n",
      "    8   9   _   _   _   *\n",
      "   18  24   _   _   _   *\n",
      "   43  45  60  86 100   *\n",
      "   74   _   _   _   _   *\n",
      "Players:\n",
      "  Johann              (player 1):  18 Hornochsen, cards  75\n",
      "  Merle               (player 2):   1 Hornochsen, cards 103\n",
      "  Batched REINFORCE 3 (player 3):  18 Hornochsen, cards  20\n",
      "--------------------------------------------------------------------------------\n"
     ]
    },
    {
     "name": "stdin",
     "output_type": "stream",
     "text": [
      "It is your turn, Johann! You have the following cards:  75. Choose one to play! 75\n",
      "It is your turn, Merle! You have the following cards: 103. Choose one to play! 103\n"
     ]
    },
    {
     "name": "stderr",
     "output_type": "stream",
     "text": [
      "Batched REINFORCE 3 (player 3) plays card 20\n",
      "Johann              (player 1) plays card 75\n",
      "Merle               (player 2) plays card 103\n",
      "  ...and gains 10 Hornochsen\n",
      "--------------------------------------------------------------------------------\n",
      "Board:\n",
      "    8   9  20   _   _   *\n",
      "   18  24   _   _   _   *\n",
      "  103   _   _   _   _   *\n",
      "   74  75   _   _   _   *\n",
      "Players:\n",
      "  Johann              (player 1):  18 Hornochsen, no cards \n",
      "  Merle               (player 2):  11 Hornochsen, no cards \n",
      "  Batched REINFORCE 3 (player 3):  18 Hornochsen, no cards \n",
      "The game is over! Merle               (player 2) wins, Johann              (player 1) loses. Congratulations!\n",
      "--------------------------------------------------------------------------------\n"
     ]
    }
   ],
   "source": [
    "session.play_game(render=True)"
   ]
  },
  {
   "cell_type": "code",
   "execution_count": null,
   "metadata": {},
   "outputs": [],
   "source": []
  }
 ],
 "metadata": {
  "kernelspec": {
   "display_name": "Python (rl)",
   "language": "python",
   "name": "rl"
  },
  "language_info": {
   "codemirror_mode": {
    "name": "ipython",
    "version": 3
   },
   "file_extension": ".py",
   "mimetype": "text/x-python",
   "name": "python",
   "nbconvert_exporter": "python",
   "pygments_lexer": "ipython3",
   "version": "3.8.2"
  }
 },
 "nbformat": 4,
 "nbformat_minor": 4
}
