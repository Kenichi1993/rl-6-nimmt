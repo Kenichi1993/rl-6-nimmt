{
 "cells": [
  {
   "cell_type": "markdown",
   "metadata": {},
   "source": [
    "# Small Nimm 6 tournament"
   ]
  },
  {
   "cell_type": "code",
   "execution_count": 1,
   "metadata": {},
   "outputs": [],
   "source": [
    "import numpy as np\n",
    "import logging\n",
    "import sys\n",
    "import torch\n",
    "import pickle\n",
    "from tqdm import tqdm\n",
    "from matplotlib import pyplot as plt\n",
    "\n",
    "sys.path.append(\"../\")\n",
    "\n",
    "from rl_6_nimmt import Tournament, GameSession\n",
    "from rl_6_nimmt.agents import Human, DrunkHamster, BatchedACERAgent, Noisy_D3QN_PRB_NStep, MCSAgent, PolicyMCSAgent, PUCTAgent\n",
    "\n",
    "logging.basicConfig(format=\"%(message)s\",level=logging.INFO)\n",
    "for name in logging.root.manager.loggerDict:\n",
    "    if not \"rl_6_nimmt\" in name:\n",
    "        logging.getLogger(name).setLevel(logging.WARNING)\n"
   ]
  },
  {
   "cell_type": "markdown",
   "metadata": {},
   "source": [
    "## Agents"
   ]
  },
  {
   "cell_type": "code",
   "execution_count": 2,
   "metadata": {},
   "outputs": [],
   "source": [
    "agents = {}\n",
    "    \n",
    "agents[f\"Random\"] = DrunkHamster()\n",
    "agents[f\"D3QN\"] = Noisy_D3QN_PRB_NStep(history_length=int(1e5), n_steps=10)\n",
    "agents[f\"ACER\"] = BatchedACERAgent(minibatch=10)\n",
    "agents[f\"MCS\"] = MCSAgent(mc_max=200)\n",
    "agents[f\"Alpha0.5\"] = PUCTAgent(mc_max=200)\n",
    "\n",
    "for agent in agents.values():\n",
    "    try:\n",
    "        agent.train()\n",
    "    except:\n",
    "        pass\n",
    "\n",
    "merle = Human(\"Merle\")\n"
   ]
  },
  {
   "cell_type": "code",
   "execution_count": 3,
   "metadata": {},
   "outputs": [
    {
     "name": "stdout",
     "output_type": "stream",
     "text": [
      "Tournament after 0 games:\n",
      "-----------------------------------------------------------------\n",
      " Agent                | Games | Mean score | Win fraction |  ELO \n",
      "-----------------------------------------------------------------\n",
      "               Random |     0 |          - |            - | 1600 \n",
      "                 D3QN |     0 |          - |            - | 1600 \n",
      "                 ACER |     0 |          - |            - | 1600 \n",
      "                  MCS |     0 |          - |            - | 1600 \n",
      "             Alpha0.5 |     0 |          - |            - | 1600 \n",
      "-----------------------------------------------------------------\n"
     ]
    }
   ],
   "source": [
    "tournament = Tournament(min_players=2, max_players=4)\n",
    "\n",
    "for name, agent in agents.items():\n",
    "    tournament.add_player(name, agent)\n",
    "\n",
    "print(tournament)"
   ]
  },
  {
   "cell_type": "markdown",
   "metadata": {},
   "source": [
    "## Load existing state (skip when running this for the first time)"
   ]
  },
  {
   "cell_type": "code",
   "execution_count": 13,
   "metadata": {},
   "outputs": [
    {
     "name": "stdout",
     "output_type": "stream",
     "text": [
      "Tournament after 2000 games:\n",
      "-----------------------------------------------------------------\n",
      " Agent                | Games | Mean score | Win fraction |  ELO \n",
      "-----------------------------------------------------------------\n",
      "          MCS_0_0_0_0 |  1055 |      -7.13 |         0.46 | 1772 \n",
      "          MCS_0_0_0_1 |  1075 |      -7.11 |         0.45 | 1770 \n",
      "     Alpha0.5_0_1_1_0 |  1022 |      -6.76 |         0.48 | 1695 \n",
      "     Alpha0.5_0_1_0_0 |  1033 |      -6.53 |         0.50 | 1739 \n",
      "         ACER_0_0_0_0 |  1032 |     -12.50 |         0.18 | 1639 \n",
      "       Random_0_0_0_0 |  1057 |     -13.42 |         0.21 | 1572 \n",
      "-----------------------------------------------------------------\n",
      "           Alpha0.5_1 |   458 |      -6.23 |         0.52 | 1812 \n",
      "         Alpha0.5_0_0 |   657 |      -6.28 |         0.52 | 1713 \n",
      "           D3QN_0_0_0 |   815 |     -13.19 |         0.18 | 1494 \n",
      "-----------------------------------------------------------------\n"
     ]
    }
   ],
   "source": [
    "agents, tournament = pickle.load(open(\"./.tournament.pickle\", \"rb\"))\n",
    "\n",
    "print(tournament)"
   ]
  },
  {
   "cell_type": "markdown",
   "metadata": {},
   "source": [
    "## Let the games begin! Stage 1: 5 x 400 games, 6 players, 200 MC steps"
   ]
  },
  {
   "cell_type": "code",
   "execution_count": 5,
   "metadata": {},
   "outputs": [
    {
     "name": "stderr",
     "output_type": "stream",
     "text": [
      "  0%|          | 0/400 [00:00<?, ?it/s]../rl_6_nimmt/agents/mcts.py:302: RuntimeWarning: invalid value encountered in true_divide\n",
      "  q = np.clip((q - min_return) / (max_return - min_return), 0., 1.)\n",
      "  2%|▏         | 6/400 [01:57<2:04:58, 19.03s/it]../rl_6_nimmt/agents/mcts.py:302: RuntimeWarning: invalid value encountered in true_divide\n",
      "  q = np.clip((q - min_return) / (max_return - min_return), 0., 1.)\n",
      "  4%|▍         | 15/400 [04:59<2:15:37, 21.14s/it]../rl_6_nimmt/agents/mcts.py:302: RuntimeWarning: invalid value encountered in true_divide\n",
      "  q = np.clip((q - min_return) / (max_return - min_return), 0., 1.)\n",
      "100%|██████████| 400/400 [2:23:07<00:00, 21.47s/it]  \n",
      "Copying player Alpha0.5 into 2 instances!\n"
     ]
    },
    {
     "name": "stdout",
     "output_type": "stream",
     "text": [
      "Tournament after 400 games:\n",
      "-----------------------------------------------------------------\n",
      " Agent                | Games | Mean score | Win fraction |  ELO \n",
      "-----------------------------------------------------------------\n",
      "               Random |   227 |     -11.82 |         0.23 | 1423 \n",
      "                 D3QN |   238 |     -11.92 |         0.22 | 1566 \n",
      "                 ACER |   242 |     -13.74 |         0.17 | 1558 \n",
      "                  MCS |   237 |      -6.87 |         0.50 | 1659 \n",
      "             Alpha0.5 |   243 |      -6.16 |         0.56 | 1794 \n",
      "-----------------------------------------------------------------\n"
     ]
    },
    {
     "name": "stderr",
     "output_type": "stream",
     "text": [
      "100%|██████████| 400/400 [3:21:44<00:00, 30.26s/it]  \n",
      "Copying player Alpha0.5_0 into 2 instances!\n",
      "Removing player Alpha0.5_1\n"
     ]
    },
    {
     "name": "stdout",
     "output_type": "stream",
     "text": [
      "Tournament after 800 games:\n",
      "-----------------------------------------------------------------\n",
      " Agent                | Games | Mean score | Win fraction |  ELO \n",
      "-----------------------------------------------------------------\n",
      "           Alpha0.5_0 |   442 |      -6.19 |         0.54 | 1829 \n",
      "           Alpha0.5_1 |   458 |      -6.23 |         0.52 | 1812 \n",
      "                MCS_0 |   445 |      -6.98 |         0.47 | 1729 \n",
      "               D3QN_0 |   422 |     -12.50 |         0.19 | 1450 \n",
      "               ACER_0 |   437 |     -13.40 |         0.18 | 1546 \n",
      "             Random_0 |   433 |     -12.87 |         0.21 | 1428 \n",
      "-----------------------------------------------------------------\n"
     ]
    },
    {
     "name": "stderr",
     "output_type": "stream",
     "text": [
      "100%|██████████| 400/400 [3:51:54<00:00, 34.79s/it]    \n",
      "Copying player Alpha0.5_0_1 into 2 instances!\n",
      "Removing player Alpha0.5_0_0\n"
     ]
    },
    {
     "name": "stdout",
     "output_type": "stream",
     "text": [
      "Tournament after 1200 games:\n",
      "-----------------------------------------------------------------\n",
      " Agent                | Games | Mean score | Win fraction |  ELO \n",
      "-----------------------------------------------------------------\n",
      "         Alpha0.5_0_0 |   657 |      -6.28 |         0.52 | 1713 \n",
      "         Alpha0.5_0_1 |   636 |      -6.39 |         0.52 | 1776 \n",
      "              MCS_0_0 |   648 |      -7.00 |         0.46 | 1695 \n",
      "             ACER_0_0 |   632 |     -13.03 |         0.17 | 1503 \n",
      "             D3QN_0_0 |   637 |     -12.85 |         0.18 | 1487 \n",
      "           Random_0_0 |   652 |     -13.11 |         0.21 | 1637 \n",
      "-----------------------------------------------------------------\n",
      "           Alpha0.5_1 |   458 |      -6.23 |         0.52 | 1812 \n",
      "-----------------------------------------------------------------\n"
     ]
    },
    {
     "name": "stderr",
     "output_type": "stream",
     "text": [
      "100%|██████████| 400/400 [2:54:42<00:00, 26.21s/it]  \n",
      "Copying player MCS_0_0_0 into 2 instances!\n"
     ]
    },
    {
     "name": "stdout",
     "output_type": "stream",
     "text": [
      "Tournament after 1600 games:\n",
      "-----------------------------------------------------------------\n",
      " Agent                | Games | Mean score | Win fraction |  ELO \n",
      "-----------------------------------------------------------------\n",
      "       Alpha0.5_0_1_0 |   828 |      -6.41 |         0.51 | 1718 \n",
      "       Alpha0.5_0_1_1 |   833 |      -6.45 |         0.51 | 1756 \n",
      "            MCS_0_0_0 |   858 |      -6.99 |         0.47 | 1807 \n",
      "         Random_0_0_0 |   858 |     -13.22 |         0.21 | 1548 \n",
      "           ACER_0_0_0 |   835 |     -12.60 |         0.18 | 1551 \n",
      "           D3QN_0_0_0 |   815 |     -13.19 |         0.18 | 1494 \n",
      "-----------------------------------------------------------------\n",
      "           Alpha0.5_1 |   458 |      -6.23 |         0.52 | 1812 \n",
      "         Alpha0.5_0_0 |   657 |      -6.28 |         0.52 | 1713 \n",
      "-----------------------------------------------------------------\n"
     ]
    },
    {
     "name": "stderr",
     "output_type": "stream",
     "text": [
      "Removing player D3QN_0_0_0\n",
      "100%|██████████| 400/400 [3:13:00<00:00, 28.95s/it]  "
     ]
    },
    {
     "name": "stdout",
     "output_type": "stream",
     "text": [
      "Tournament after 2000 games:\n",
      "-----------------------------------------------------------------\n",
      " Agent                | Games | Mean score | Win fraction |  ELO \n",
      "-----------------------------------------------------------------\n",
      "          MCS_0_0_0_0 |  1055 |      -7.13 |         0.46 | 1772 \n",
      "          MCS_0_0_0_1 |  1075 |      -7.11 |         0.45 | 1770 \n",
      "     Alpha0.5_0_1_1_0 |  1022 |      -6.76 |         0.48 | 1695 \n",
      "     Alpha0.5_0_1_0_0 |  1033 |      -6.53 |         0.50 | 1739 \n",
      "         ACER_0_0_0_0 |  1032 |     -12.50 |         0.18 | 1639 \n",
      "       Random_0_0_0_0 |  1057 |     -13.42 |         0.21 | 1572 \n",
      "-----------------------------------------------------------------\n",
      "           Alpha0.5_1 |   458 |      -6.23 |         0.52 | 1812 \n",
      "         Alpha0.5_0_0 |   657 |      -6.28 |         0.52 | 1713 \n",
      "           D3QN_0_0_0 |   815 |     -13.19 |         0.18 | 1494 \n",
      "-----------------------------------------------------------------\n"
     ]
    },
    {
     "name": "stderr",
     "output_type": "stream",
     "text": [
      "\n"
     ]
    }
   ],
   "source": [
    "num_games = 2000\n",
    "block_len = 400\n",
    "\n",
    "try:\n",
    "    tqdm._instances.clear()  # Important after cancelling any step\n",
    "except:\n",
    "    pass\n",
    "\n",
    "while tournament.total_games < num_games:\n",
    "    for _ in tqdm(range(block_len)):\n",
    "        tournament.play_game()\n",
    "    print(tournament)\n",
    "        \n",
    "    if tournament.total_games < num_games:\n",
    "        tournament.evolve(max_players=6, max_per_descendant=2, copies=(2,))\n"
   ]
  },
  {
   "cell_type": "code",
   "execution_count": 6,
   "metadata": {},
   "outputs": [],
   "source": [
    "pickle.dump((agents, tournament), open( \"./.tournament.pickle\", \"wb\" ))"
   ]
  },
  {
   "cell_type": "markdown",
   "metadata": {},
   "source": [
    "## Stage 2: 3 x 400 games, 4 players, 400 MC steps"
   ]
  },
  {
   "cell_type": "code",
   "execution_count": 14,
   "metadata": {},
   "outputs": [
    {
     "name": "stderr",
     "output_type": "stream",
     "text": [
      "Copying player MCS_0_0_0_0 into 2 instances!\n",
      "Removing player MCS_0_0_0_1\n",
      "Removing player ACER_0_0_0_0\n",
      "Removing player Random_0_0_0_0\n",
      " 43%|████▎     | 172/400 [1:20:43<1:46:59, 28.16s/it]\n",
      "100%|██████████| 400/400 [5:13:01<00:00, 46.95s/it]   \n",
      "Copying player Alpha0.5_0_1_1_0_0 into 2 instances!\n",
      "Removing player Alpha0.5_0_1_0_0_0\n",
      "  0%|          | 0/400 [00:00<?, ?it/s]"
     ]
    },
    {
     "name": "stdout",
     "output_type": "stream",
     "text": [
      "Tournament after 2400 games:\n",
      "-----------------------------------------------------------------\n",
      " Agent                | Games | Mean score | Win fraction |  ELO \n",
      "-----------------------------------------------------------------\n",
      "        MCS_0_0_0_0_0 |  1352 |      -7.71 |         0.43 | 1722 \n",
      "        MCS_0_0_0_0_1 |  1363 |      -7.69 |         0.42 | 1709 \n",
      "   Alpha0.5_0_1_0_0_0 |  1324 |      -7.10 |         0.47 | 1754 \n",
      "   Alpha0.5_0_1_1_0_0 |  1318 |      -7.25 |         0.45 | 1793 \n",
      "-----------------------------------------------------------------\n",
      "           Alpha0.5_1 |   458 |      -6.23 |         0.52 | 1812 \n",
      "         Alpha0.5_0_0 |   657 |      -6.28 |         0.52 | 1713 \n",
      "           D3QN_0_0_0 |   815 |     -13.19 |         0.18 | 1494 \n",
      "          MCS_0_0_0_1 |  1075 |      -7.11 |         0.45 | 1770 \n",
      "         ACER_0_0_0_0 |  1032 |     -12.50 |         0.18 | 1639 \n",
      "       Random_0_0_0_0 |  1057 |     -13.42 |         0.21 | 1572 \n",
      "-----------------------------------------------------------------\n"
     ]
    },
    {
     "name": "stderr",
     "output_type": "stream",
     "text": [
      "100%|██████████| 400/400 [4:42:03<00:00, 42.31s/it]  \n",
      "Copying player Alpha0.5_0_1_1_0_0_1 into 2 instances!\n",
      "Removing player Alpha0.5_0_1_1_0_0_0\n",
      "  0%|          | 0/400 [00:00<?, ?it/s]"
     ]
    },
    {
     "name": "stdout",
     "output_type": "stream",
     "text": [
      "Tournament after 2800 games:\n",
      "-----------------------------------------------------------------\n",
      " Agent                | Games | Mean score | Win fraction |  ELO \n",
      "-----------------------------------------------------------------\n",
      " Alpha0.5_0_1_1_0_0_0 |  1621 |      -7.52 |         0.44 | 1721 \n",
      " Alpha0.5_0_1_1_0_0_1 |  1616 |      -7.73 |         0.42 | 1806 \n",
      "      MCS_0_0_0_0_0_0 |  1661 |      -8.00 |         0.41 | 1795 \n",
      "      MCS_0_0_0_0_1_0 |  1666 |      -8.04 |         0.40 | 1695 \n",
      "-----------------------------------------------------------------\n",
      "           Alpha0.5_1 |   458 |      -6.23 |         0.52 | 1812 \n",
      "         Alpha0.5_0_0 |   657 |      -6.28 |         0.52 | 1713 \n",
      "           D3QN_0_0_0 |   815 |     -13.19 |         0.18 | 1494 \n",
      "          MCS_0_0_0_1 |  1075 |      -7.11 |         0.45 | 1770 \n",
      "         ACER_0_0_0_0 |  1032 |     -12.50 |         0.18 | 1639 \n",
      "       Random_0_0_0_0 |  1057 |     -13.42 |         0.21 | 1572 \n",
      "   Alpha0.5_0_1_0_0_0 |  1324 |      -7.10 |         0.47 | 1754 \n",
      "-----------------------------------------------------------------\n"
     ]
    },
    {
     "name": "stderr",
     "output_type": "stream",
     "text": [
      "100%|██████████| 400/400 [4:58:27<00:00, 44.77s/it]  "
     ]
    },
    {
     "name": "stdout",
     "output_type": "stream",
     "text": [
      "Tournament after 3200 games:\n",
      "-----------------------------------------------------------------\n",
      " Agent                | Games | Mean score | Win fraction |  ELO \n",
      "-----------------------------------------------------------------\n",
      " Alpha0.5_0_1_1_0_0_1_0 |  1932 |      -7.92 |         0.41 | 1764 \n",
      " Alpha0.5_0_1_1_0_0_1_1 |  1916 |      -8.02 |         0.41 | 1692 \n",
      "    MCS_0_0_0_0_0_0_0 |  1954 |      -8.16 |         0.39 | 1819 \n",
      "    MCS_0_0_0_0_1_0_0 |  1970 |      -8.26 |         0.39 | 1827 \n",
      "-----------------------------------------------------------------\n",
      "           Alpha0.5_1 |   458 |      -6.23 |         0.52 | 1812 \n",
      "         Alpha0.5_0_0 |   657 |      -6.28 |         0.52 | 1713 \n",
      "           D3QN_0_0_0 |   815 |     -13.19 |         0.18 | 1494 \n",
      "          MCS_0_0_0_1 |  1075 |      -7.11 |         0.45 | 1770 \n",
      "         ACER_0_0_0_0 |  1032 |     -12.50 |         0.18 | 1639 \n",
      "       Random_0_0_0_0 |  1057 |     -13.42 |         0.21 | 1572 \n",
      "   Alpha0.5_0_1_0_0_0 |  1324 |      -7.10 |         0.47 | 1754 \n",
      " Alpha0.5_0_1_1_0_0_0 |  1621 |      -7.52 |         0.44 | 1721 \n",
      "-----------------------------------------------------------------\n"
     ]
    },
    {
     "name": "stderr",
     "output_type": "stream",
     "text": [
      "\n"
     ]
    }
   ],
   "source": [
    "num_games = 3200\n",
    "block_len = 400\n",
    "\n",
    "for agent in tournament.agents:\n",
    "    try:\n",
    "        agent.mc_max = 400\n",
    "    except:\n",
    "        pass\n",
    "    \n",
    "tournament.elo_k = 16\n",
    "\n",
    "try:\n",
    "    tqdm._instances.clear()  # Important after cancelling any step\n",
    "except:\n",
    "    pass\n",
    "\n",
    "while tournament.total_games < num_games:\n",
    "    tournament.evolve(max_players=4, max_per_descendant=2, copies=(2,))\n",
    "    for _ in tqdm(range(block_len)):\n",
    "        tournament.play_game()\n",
    "    print(tournament)\n"
   ]
  },
  {
   "cell_type": "code",
   "execution_count": 15,
   "metadata": {},
   "outputs": [],
   "source": [
    "pickle.dump((agents, tournament), open( \"./.tournament2.pickle\", \"wb\" ))"
   ]
  },
  {
   "cell_type": "markdown",
   "metadata": {},
   "source": [
    "## A few more games to fine-tune the ELO ratings"
   ]
  },
  {
   "cell_type": "code",
   "execution_count": 21,
   "metadata": {},
   "outputs": [
    {
     "name": "stdout",
     "output_type": "stream",
     "text": [
      "Tournament after 3200 games:\n",
      "-----------------------------------------------------------------\n",
      " Agent                | Games | Mean score | Win fraction |  ELO \n",
      "-----------------------------------------------------------------\n",
      "           D3QN_0_0_0 |   815 |     -13.19 |         0.18 | 1494 \n",
      "         ACER_0_0_0_0 |  1032 |     -12.50 |         0.18 | 1639 \n",
      "       Random_0_0_0_0 |  1057 |     -13.42 |         0.21 | 1572 \n",
      " Alpha0.5_0_1_1_0_0_1_0 |  1932 |      -7.92 |         0.41 | 1764 \n",
      " Alpha0.5_0_1_1_0_0_1_1 |  1916 |      -8.02 |         0.41 | 1692 \n",
      "    MCS_0_0_0_0_0_0_0 |  1954 |      -8.16 |         0.39 | 1819 \n",
      "    MCS_0_0_0_0_1_0_0 |  1970 |      -8.26 |         0.39 | 1827 \n",
      "-----------------------------------------------------------------\n"
     ]
    }
   ],
   "source": [
    "tournament.remove_player(\"Alpha0.5_1\", True)\n",
    "tournament.remove_player(\"Alpha0.5_0_0\", True)\n",
    "tournament.remove_player(\"Alpha0.5_0_1_0_0_0\", True)\n",
    "tournament.remove_player(\"Alpha0.5_0_1_1_0_0_0\", True)\n",
    "tournament.remove_player(\"MCS_0_0_0_1\", True)\n",
    "\n",
    "tournament.active[\"D3QN_0_0_0\"] = True\n",
    "tournament.active[\"ACER_0_0_0_0\"] = True\n",
    "tournament.active[\"Random_0_0_0_0\"] = True\n",
    "\n",
    "print(tournament)"
   ]
  },
  {
   "cell_type": "code",
   "execution_count": null,
   "metadata": {},
   "outputs": [
    {
     "name": "stderr",
     "output_type": "stream",
     "text": [
      "  5%|▌         | 10/200 [03:22<59:01, 18.64s/it] ../rl_6_nimmt/agents/mcts.py:302: RuntimeWarning: invalid value encountered in true_divide\n",
      "  q = np.clip((q - min_return) / (max_return - min_return), 0., 1.)\n",
      "100%|██████████| 200/200 [1:34:57<00:00, 28.49s/it]\n",
      " 14%|█▎        | 27/200 [13:11<1:15:06, 26.05s/it]"
     ]
    }
   ],
   "source": [
    "num_games_per_k = 200    \n",
    "elo_ks = 32, 16, 8, 4\n",
    "\n",
    "for k in elo_ks:\n",
    "    tournament.elo_k = k\n",
    "\n",
    "    for _ in tqdm(range(num_games_per_k)):\n",
    "        tournament.play_game()\n"
   ]
  },
  {
   "cell_type": "code",
   "execution_count": null,
   "metadata": {},
   "outputs": [],
   "source": [
    "pickle.dump((agents, tournament), open( \"./.tournament3.pickle\", \"wb\" ))"
   ]
  },
  {
   "cell_type": "markdown",
   "metadata": {},
   "source": [
    "## Results"
   ]
  },
  {
   "cell_type": "code",
   "execution_count": 16,
   "metadata": {},
   "outputs": [
    {
     "name": "stdout",
     "output_type": "stream",
     "text": [
      "Tournament after 3200 games:\n",
      "-----------------------------------------------------------------\n",
      " Agent                | Games | Mean score | Win fraction |  ELO \n",
      "-----------------------------------------------------------------\n",
      " Alpha0.5_0_1_1_0_0_1_0 |  1932 |      -7.92 |         0.41 | 1764 \n",
      " Alpha0.5_0_1_1_0_0_1_1 |  1916 |      -8.02 |         0.41 | 1692 \n",
      "    MCS_0_0_0_0_0_0_0 |  1954 |      -8.16 |         0.39 | 1819 \n",
      "    MCS_0_0_0_0_1_0_0 |  1970 |      -8.26 |         0.39 | 1827 \n",
      "-----------------------------------------------------------------\n",
      "           Alpha0.5_1 |   458 |      -6.23 |         0.52 | 1812 \n",
      "         Alpha0.5_0_0 |   657 |      -6.28 |         0.52 | 1713 \n",
      "           D3QN_0_0_0 |   815 |     -13.19 |         0.18 | 1494 \n",
      "          MCS_0_0_0_1 |  1075 |      -7.11 |         0.45 | 1770 \n",
      "         ACER_0_0_0_0 |  1032 |     -12.50 |         0.18 | 1639 \n",
      "       Random_0_0_0_0 |  1057 |     -13.42 |         0.21 | 1572 \n",
      "   Alpha0.5_0_1_0_0_0 |  1324 |      -7.10 |         0.47 | 1754 \n",
      " Alpha0.5_0_1_1_0_0_0 |  1621 |      -7.52 |         0.44 | 1721 \n",
      "-----------------------------------------------------------------\n"
     ]
    }
   ],
   "source": [
    "print(tournament)"
   ]
  },
  {
   "cell_type": "code",
   "execution_count": 11,
   "metadata": {},
   "outputs": [
    {
     "data": {
      "image/png": "[encoded data removed]",
      "text/plain": [
       "<Figure size 360x360 with 1 Axes>"
      ]
     },
     "metadata": {
      "needs_background": "light"
     },
     "output_type": "display_data"
    }
   ],
   "source": [
    "def plot_running_mean(x, y, n=10, **kwargs):\n",
    "    cumsum = np.cumsum(np.insert(y, 0, 0))\n",
    "    running_mean_y = (cumsum[n:] - cumsum[:-n]) / n\n",
    "    \n",
    "    cumsum = np.cumsum(np.insert(x, 0, 0))\n",
    "    running_mean_x = (cumsum[n:] - cumsum[:-n]) / n\n",
    "    \n",
    "    plt.plot(running_mean_x, running_mean_y, **kwargs)\n",
    "\n",
    "colors = {\n",
    "    \"D3QN\": \"C0\",\n",
    "    \"ACER\": \"C2\",\n",
    "    \"MCS\": \"C1\",\n",
    "    \"Alpha0.5\": \"C3\",\n",
    "    \"Random\": \"0.75\",\n",
    "}\n",
    "\n",
    "fig = plt.figure(figsize=(5,5))\n",
    "    \n",
    "for name in tournament.agents.keys():\n",
    "    done = {}\n",
    "    name_ = name.split(\"_\")[0]\n",
    "    y = tournament.elos[name]\n",
    "    x = np.arange(len(y))\n",
    "    plot_running_mean(\n",
    "        x,\n",
    "        y,\n",
    "        n=10\n",
    "        label=None if name_ in done else name_,\n",
    "        color=colors[name_],\n",
    "        ls=\"-\",\n",
    "        lw=1.\n",
    "    )\n",
    "    done[name_] = True\n",
    "\n",
    "plt.legend(loc=\"lower left\")\n",
    "        \n",
    "plt.xlabel(\"Played games\")\n",
    "plt.ylabel(\"ELO\")\n",
    "\n",
    "plt.tight_layout()\n",
    "plt.savefig(\"elo_2-4.pdf\")\n"
   ]
  },
  {
   "cell_type": "code",
   "execution_count": 10,
   "metadata": {},
   "outputs": [],
   "source": [
    "# def plot_running_mean(x, y, n=10, **kwargs):\n",
    "#     cumsum = np.cumsum(np.insert(y, 0, 0))\n",
    "#     running_mean_y = (cumsum[n:] - cumsum[:-n]) / n\n",
    "    \n",
    "#     cumsum = np.cumsum(np.insert(x, 0, 0))\n",
    "#     running_mean_x = (cumsum[n:] - cumsum[:-n]) / n\n",
    "    \n",
    "#     plt.plot(running_mean_x, running_mean_y, **kwargs)\n",
    "\n",
    "# labels = [\n",
    "#     \"Mean Hornochsen in tournament\",\n",
    "#     \"Mean Hornochsen vs baseline\",\n",
    "#     \"Win fraction in tournament\",\n",
    "#     \"Win fraction vs baseline\"\n",
    "# ]\n",
    "# quantities = [\n",
    "#     tournament.tournament_scores,\n",
    "#     tournament.baseline_scores,\n",
    "#     tournament.tournament_wins,\n",
    "#     tournament.baseline_wins\n",
    "# ]\n",
    "# fns = [lambda x : -x, lambda x : -x, lambda x : x, lambda x : x]\n",
    "# baselines = [False, True, False, True]\n",
    "\n",
    "# colors = {\n",
    "#     \"D3QN\": \"C0\",\n",
    "#     \"ACER\": \"C1\",\n",
    "#     \"MCS\": \"C2\",\n",
    "#     \"Alpha0.5\": \"C3\",\n",
    "#     \"Random\": \"0.6\",\n",
    "# }\n",
    "# lss = {\n",
    "#     \"D3QN\": \"-\",\n",
    "#     \"ACER\": \"-\",\n",
    "#     \"MCS\": \"-\",\n",
    "#     \"Alpha0.5\": \"-\",\n",
    "#     \"Random\": \"-\",\n",
    "# }\n",
    "\n",
    "# fig = plt.figure(figsize=(10,10))\n",
    "\n",
    "# for panel, (quantity, label, fn, baseline) in enumerate(zip(quantities, labels, fns, baselines)):\n",
    "#     ax = plt.subplot(2,2,panel + 1)\n",
    "    \n",
    "#     for name in tournament.agents.keys():\n",
    "#         y = np.array(quantity[name])\n",
    "#         x = 10 * np.arange(1, len(y) + 1) if baseline else np.arange(1, len(y) + 1)\n",
    "#         plot_running_mean(x, fn(y), n=50 if baseline else 200, label=name, color=colors[name.split(\"_\")[0]], ls=lss[name.split(\"_\")[0]], lw=1.)\n",
    "    \n",
    "#     if panel == 0:\n",
    "#         plt.legend(loc=\"center left\")\n",
    "        \n",
    "#     plt.xlabel(\"Played tournament games\")\n",
    "#     plt.ylabel(label)\n",
    "\n",
    "# plt.tight_layout()\n",
    "# plt.savefig(\"tournament_results.pdf\")\n"
   ]
  },
  {
   "cell_type": "markdown",
   "metadata": {},
   "source": [
    "## Winner vs Merle"
   ]
  },
  {
   "cell_type": "code",
   "execution_count": 18,
   "metadata": {},
   "outputs": [
    {
     "name": "stdout",
     "output_type": "stream",
     "text": [
      "Tournament after 2223 games:\n",
      "----------------------------------------------------------------------------------------------------\n",
      " Agent                | Games | Tournament score | Tournament wins | Baseline score | Baseline wins \n",
      "----------------------------------------------------------------------------------------------------\n",
      "     Alpha0.5_0_1_1_0 |   819 |            -5.24 |            0.62 |          -4.36 |          0.79 \n",
      "     Alpha0.5_0_1_1_1 |   816 |            -5.21 |            0.61 |          -4.53 |          0.77 \n",
      "          MCS_1_0_0_0 |   810 |            -5.74 |            0.56 |          -4.30 |          0.77 \n",
      "          MCS_0_0_0_0 |   821 |            -6.01 |            0.52 |          -4.70 |          0.80 \n",
      "----------------------------------------------------------------------------------------------------\n",
      "[              Random |   175 |            -9.32 |            0.31 |          -9.00 |          0.47]\n",
      "[              D3QN_0 |   348 |            -9.01 |            0.32 |          -7.76 |          0.53]\n",
      "[              ACER_0 |   403 |            -9.11 |            0.33 |          -9.05 |          0.47]\n",
      "[        Alpha0.5_1_1 |   540 |            -5.14 |            0.64 |          -5.00 |          0.67]\n",
      "[      Alpha0.5_0_1_0 |   706 |            -5.30 |            0.62 |          -4.94 |          0.67]\n",
      "[      Alpha0.5_0_0_0 |   722 |            -5.18 |            0.63 |          -4.69 |          0.69]\n",
      "[      Alpha0.5_0_0_1 |   720 |            -5.41 |            0.62 |          -4.85 |          0.69]\n",
      "[      Alpha0.5_1_0_0 |   520 |            -5.08 |            0.65 |          -4.62 |          0.73]\n",
      "[      Alpha0.5_1_0_1 |   520 |            -5.08 |            0.65 |          -4.62 |          0.73]\n",
      "----------------------------------------------------------------------------------------------------\n"
     ]
    }
   ],
   "source": [
    "print(tournament)"
   ]
  },
  {
   "cell_type": "code",
   "execution_count": 19,
   "metadata": {},
   "outputs": [
    {
     "data": {
      "text/plain": [
       "['Alpha0.5_0_1_1_0', 'Alpha0.5_0_1_1_1', 'MCS_1_0_0_0', 'MCS_0_0_0_0']"
      ]
     },
     "execution_count": 19,
     "metadata": {},
     "output_type": "execute_result"
    }
   ],
   "source": [
    "tournament.active_agents()"
   ]
  },
  {
   "cell_type": "code",
   "execution_count": 20,
   "metadata": {},
   "outputs": [],
   "source": [
    "opponent1 = tournament.agents['Alpha0.5_0_1_1_1']\n",
    "opponent1.mc_max = 500\n",
    "\n",
    "opponent2 = tournament.agents['Alpha0.5_0_1_1_1']\n",
    "opponent2.mc_max = 200\n",
    "\n",
    "session = GameSession(merle, opponent1, opponent2)\n",
    "\n",
    "# The DEBUG output shows the moves, which is nice\n",
    "for name in logging.root.manager.loggerDict:\n",
    "    if \"rl_6_nimmt\" in name:\n",
    "        logging.getLogger(name).setLevel(logging.DEBUG)\n",
    "        "
   ]
  },
  {
   "cell_type": "code",
   "execution_count": 21,
   "metadata": {},
   "outputs": [
    {
     "name": "stderr",
     "output_type": "stream",
     "text": [
      "Dealing cards\n",
      "------------------------------------------------------------------------------------------------------------------------\n",
      "Board:\n",
      "   30:   _    _    _    _    * \n",
      "   85.   _    _    _    _    * \n",
      "   10:   _    _    _    _    * \n",
      "   18    _    _    _    _    * \n",
      "Players:\n",
      "  Merle    (player 1):   0 Hornochsen, cards   7   20:  31   32   42   46   73   96  101  103 \n",
      "  Alpha0.5 (player 2):   0 Hornochsen, cards  29   38   40:  45.  48   50:  61   72   74   90:\n",
      "------------------------------------------------------------------------------------------------------------------------\n"
     ]
    },
    {
     "name": "stdin",
     "output_type": "stream",
     "text": [
      "It is your turn, Merle! You have the following cards:   7  20  31  32  42  46  73  96 101 103. Choose one to play! 96\n"
     ]
    },
    {
     "name": "stderr",
     "output_type": "stream",
     "text": [
      "AlphaAlmostZero thoughts:\n",
      "     29: p = 0.10, n = 100, E[r] =  -7.4\n",
      "     38: p = 0.10, n =  39, E[r] =  -9.9\n",
      "     40: p = 0.10, n =  70, E[r] =  -8.1\n",
      "     45: p = 0.10, n =  84, E[r] =  -7.7\n",
      "     48: p = 0.10, n =  79, E[r] =  -7.8\n",
      "     50: p = 0.10, n =  58, E[r] =  -8.6\n",
      "     61: p = 0.10, n =  77, E[r] =  -7.8\n",
      "  x  72: p = 0.10, n = 266, E[r] =  -6.3\n",
      "     74: p = 0.10, n =  73, E[r] =  -8.0\n",
      "     90: p = 0.10, n = 154, E[r] =  -6.8\n",
      "Alpha0.5 (player 2) plays card 72\n",
      "Merle    (player 1) plays card 96\n",
      "------------------------------------------------------------------------------------------------------------------------\n",
      "Board:\n",
      "   30:  72    _    _    _    * \n",
      "   85.  96    _    _    _    * \n",
      "   10:   _    _    _    _    * \n",
      "   18    _    _    _    _    * \n",
      "Players:\n",
      "  Merle    (player 1):   0 Hornochsen, cards   7   20:  31   32   42   46   73  101  103 \n",
      "  Alpha0.5 (player 2):   0 Hornochsen, cards  29   38   40:  45.  48   50:  61   74   90:\n",
      "------------------------------------------------------------------------------------------------------------------------\n"
     ]
    },
    {
     "name": "stdin",
     "output_type": "stream",
     "text": [
      "It is your turn, Merle! You have the following cards:   7  20  31  32  42  46  73 101 103. Choose one to play! 20\n"
     ]
    },
    {
     "name": "stderr",
     "output_type": "stream",
     "text": [
      "AlphaAlmostZero thoughts:\n",
      "     29: p = 0.11, n =  87, E[r] =  -6.9\n",
      "     38: p = 0.11, n = 116, E[r] =  -6.5\n",
      "     40: p = 0.11, n =  59, E[r] =  -7.9\n",
      "     45: p = 0.11, n =  69, E[r] =  -7.6\n",
      "     48: p = 0.11, n = 132, E[r] =  -6.3\n",
      "     50: p = 0.11, n = 102, E[r] =  -6.6\n",
      "  x  61: p = 0.11, n = 188, E[r] =  -5.8\n",
      "     74: p = 0.11, n = 145, E[r] =  -6.1\n",
      "     90: p = 0.12, n = 102, E[r] =  -6.9\n",
      "Merle    (player 1) plays card 20\n",
      "Alpha0.5 (player 2) plays card 61\n",
      "------------------------------------------------------------------------------------------------------------------------\n",
      "Board:\n",
      "   30:  72    _    _    _    * \n",
      "   85.  96    _    _    _    * \n",
      "   10:   _    _    _    _    * \n",
      "   18   20:  61    _    _    * \n",
      "Players:\n",
      "  Merle    (player 1):   0 Hornochsen, cards   7   31   32   42   46   73  101  103 \n",
      "  Alpha0.5 (player 2):   0 Hornochsen, cards  29   38   40:  45.  48   50:  74   90:\n",
      "------------------------------------------------------------------------------------------------------------------------\n"
     ]
    },
    {
     "name": "stdin",
     "output_type": "stream",
     "text": [
      "It is your turn, Merle! You have the following cards:   7  31  32  42  46  73 101 103. Choose one to play! 31\n"
     ]
    },
    {
     "name": "stderr",
     "output_type": "stream",
     "text": [
      "AlphaAlmostZero thoughts:\n",
      "     29: p = 0.11, n = 128, E[r] =  -6.3\n",
      "  x  38: p = 0.12, n = 148, E[r] =  -6.1\n",
      "     40: p = 0.12, n = 115, E[r] =  -6.6\n",
      "     45: p = 0.12, n = 137, E[r] =  -6.3\n",
      "     48: p = 0.12, n =  51, E[r] =  -8.9\n",
      "     50: p = 0.12, n = 105, E[r] =  -6.8\n",
      "     74: p = 0.14, n = 126, E[r] =  -6.8\n",
      "     90: p = 0.15, n = 190, E[r] =  -6.2\n",
      "Merle    (player 1) plays card 31\n",
      "Alpha0.5 (player 2) plays card 38\n",
      "------------------------------------------------------------------------------------------------------------------------\n",
      "Board:\n",
      "   30:  72    _    _    _    * \n",
      "   85.  96    _    _    _    * \n",
      "   10:  31   38    _    _    * \n",
      "   18   20:  61    _    _    * \n",
      "Players:\n",
      "  Merle    (player 1):   0 Hornochsen, cards   7   32   42   46   73  101  103 \n",
      "  Alpha0.5 (player 2):   0 Hornochsen, cards  29   40:  45.  48   50:  74   90:\n",
      "------------------------------------------------------------------------------------------------------------------------\n"
     ]
    },
    {
     "name": "stdin",
     "output_type": "stream",
     "text": [
      "It is your turn, Merle! You have the following cards:   7  32  42  46  73 101 103. Choose one to play! 46\n"
     ]
    },
    {
     "name": "stderr",
     "output_type": "stream",
     "text": [
      "AlphaAlmostZero thoughts:\n",
      "     29: p = 0.13, n = 102, E[r] =  -7.0\n",
      "     40: p = 0.13, n =  69, E[r] =  -8.1\n",
      "     45: p = 0.13, n = 117, E[r] =  -6.8\n",
      "     48: p = 0.14, n = 119, E[r] =  -6.8\n",
      "  x  50: p = 0.14, n = 205, E[r] =  -6.0\n",
      "     74: p = 0.16, n = 141, E[r] =  -6.7\n",
      "     90: p = 0.18, n = 247, E[r] =  -6.1\n",
      "Merle    (player 1) plays card 46\n",
      "Alpha0.5 (player 2) plays card 50\n",
      "------------------------------------------------------------------------------------------------------------------------\n",
      "Board:\n",
      "   30:  72    _    _    _    * \n",
      "   85.  96    _    _    _    * \n",
      "   10:  31   38   46   50:   * \n",
      "   18   20:  61    _    _    * \n",
      "Players:\n",
      "  Merle    (player 1):   0 Hornochsen, cards   7   32   42   73  101  103 \n",
      "  Alpha0.5 (player 2):   0 Hornochsen, cards  29   40:  45.  48   74   90:\n",
      "------------------------------------------------------------------------------------------------------------------------\n"
     ]
    },
    {
     "name": "stdin",
     "output_type": "stream",
     "text": [
      "It is your turn, Merle! You have the following cards:   7  32  42  73 101 103. Choose one to play! 73\n"
     ]
    },
    {
     "name": "stderr",
     "output_type": "stream",
     "text": [
      "AlphaAlmostZero thoughts:\n",
      "     29: p = 0.12, n =  63, E[r] =  -7.1\n",
      "     40: p = 0.14, n =  72, E[r] =  -7.1\n",
      "     45: p = 0.14, n =  72, E[r] =  -7.1\n",
      "     48: p = 0.15, n =  71, E[r] =  -7.3\n",
      "  x  74: p = 0.20, n = 365, E[r] =  -4.7\n",
      "     90: p = 0.25, n = 357, E[r] =  -4.9\n",
      "Merle    (player 1) plays card 73\n",
      "Alpha0.5 (player 2) plays card 74\n",
      "------------------------------------------------------------------------------------------------------------------------\n",
      "Board:\n",
      "   30:  72   73   74    _    * \n",
      "   85.  96    _    _    _    * \n",
      "   10:  31   38   46   50:   * \n",
      "   18   20:  61    _    _    * \n",
      "Players:\n",
      "  Merle    (player 1):   0 Hornochsen, cards   7   32   42  101  103 \n",
      "  Alpha0.5 (player 2):   0 Hornochsen, cards  29   40:  45.  48   90:\n",
      "------------------------------------------------------------------------------------------------------------------------\n"
     ]
    },
    {
     "name": "stdin",
     "output_type": "stream",
     "text": [
      "It is your turn, Merle! You have the following cards:   7  32  42 101 103. Choose one to play! 101\n"
     ]
    },
    {
     "name": "stderr",
     "output_type": "stream",
     "text": [
      "AlphaAlmostZero thoughts:\n",
      "     29: p = 0.14, n = 111, E[r] =  -6.3\n",
      "     40: p = 0.16, n =  93, E[r] =  -7.1\n",
      "     45: p = 0.17, n =  91, E[r] =  -7.3\n",
      "     48: p = 0.18, n = 130, E[r] =  -6.5\n",
      "  x  90: p = 0.35, n = 575, E[r] =  -5.3\n",
      "Alpha0.5 (player 2) plays card 90\n",
      "Merle    (player 1) plays card 101\n",
      "------------------------------------------------------------------------------------------------------------------------\n",
      "Board:\n",
      "   30:  72   73   74   90:   * \n",
      "   85.  96  101    _    _    * \n",
      "   10:  31   38   46   50:   * \n",
      "   18   20:  61    _    _    * \n",
      "Players:\n",
      "  Merle    (player 1):   0 Hornochsen, cards   7   32   42  103 \n",
      "  Alpha0.5 (player 2):   0 Hornochsen, cards  29   40:  45.  48 \n",
      "------------------------------------------------------------------------------------------------------------------------\n"
     ]
    },
    {
     "name": "stdin",
     "output_type": "stream",
     "text": [
      "It is your turn, Merle! You have the following cards:   7  32  42 103. Choose one to play! 32\n"
     ]
    },
    {
     "name": "stderr",
     "output_type": "stream",
     "text": [
      "AlphaAlmostZero thoughts:\n",
      "  x  29: p = 0.22, n =  97, E[r] =  -4.2\n",
      "     40: p = 0.25, n =  42, E[r] =  -5.5\n",
      "     45: p = 0.26, n =  39, E[r] =  -5.8\n",
      "     48: p = 0.27, n =  62, E[r] =  -5.0\n",
      "Alpha0.5 (player 2) plays card 29\n",
      "  ...chooses to replace row 2\n",
      "  ...and gains 4 Hornochsen\n",
      "Merle    (player 1) plays card 32\n",
      "------------------------------------------------------------------------------------------------------------------------\n",
      "Board:\n",
      "   30:  72   73   74   90:   * \n",
      "   29   32    _    _    _    * \n",
      "   10:  31   38   46   50:   * \n",
      "   18   20:  61    _    _    * \n",
      "Players:\n",
      "  Merle    (player 1):   0 Hornochsen, cards   7   42  103 \n",
      "  Alpha0.5 (player 2):   4 Hornochsen, cards  40:  45.  48 \n",
      "------------------------------------------------------------------------------------------------------------------------\n"
     ]
    },
    {
     "name": "stdin",
     "output_type": "stream",
     "text": [
      "It is your turn, Merle! You have the following cards:   7  42 103. Choose one to play! 7\n"
     ]
    },
    {
     "name": "stderr",
     "output_type": "stream",
     "text": [
      "AlphaAlmostZero thoughts:\n",
      "  x  40: p = 0.33, n =  30, E[r] =  -0.8\n",
      "     45: p = 0.33, n =  19, E[r] =  -1.4\n",
      "     48: p = 0.34, n =  11, E[r] =  -3.2\n",
      "Merle    (player 1) plays card 7\n",
      "  ...chooses to replace row 2\n",
      "  ...and gains 2 Hornochsen\n",
      "Alpha0.5 (player 2) plays card 40\n",
      "------------------------------------------------------------------------------------------------------------------------\n",
      "Board:\n",
      "   30:  72   73   74   90:   * \n",
      "    7   40:   _    _    _    * \n",
      "   10:  31   38   46   50:   * \n",
      "   18   20:  61    _    _    * \n",
      "Players:\n",
      "  Merle    (player 1):   2 Hornochsen, cards  42  103 \n",
      "  Alpha0.5 (player 2):   4 Hornochsen, cards  45.  48 \n",
      "------------------------------------------------------------------------------------------------------------------------\n"
     ]
    },
    {
     "name": "stdin",
     "output_type": "stream",
     "text": [
      "It is your turn, Merle! You have the following cards:  42 103. Choose one to play! 42\n"
     ]
    },
    {
     "name": "stderr",
     "output_type": "stream",
     "text": [
      "AlphaAlmostZero thoughts:\n",
      "  x  45: p = 0.50, n =  14, E[r] =   0.0\n",
      "     48: p = 0.50, n =   6, E[r] =  -1.7\n",
      "Merle    (player 1) plays card 42\n",
      "Alpha0.5 (player 2) plays card 45\n",
      "------------------------------------------------------------------------------------------------------------------------\n",
      "Board:\n",
      "   30:  72   73   74   90:   * \n",
      "    7   40:  42   45.   _    * \n",
      "   10:  31   38   46   50:   * \n",
      "   18   20:  61    _    _    * \n",
      "Players:\n",
      "  Merle    (player 1):   2 Hornochsen, cards 103 \n",
      "  Alpha0.5 (player 2):   4 Hornochsen, cards  48 \n",
      "------------------------------------------------------------------------------------------------------------------------\n"
     ]
    },
    {
     "name": "stdin",
     "output_type": "stream",
     "text": [
      "It is your turn, Merle! You have the following cards: 103. Choose one to play! 103\n"
     ]
    },
    {
     "name": "stderr",
     "output_type": "stream",
     "text": [
      "Alpha0.5 (player 2) plays card 48\n",
      "Merle    (player 1) plays card 103\n",
      "  ...and gains 9 Hornochsen\n",
      "------------------------------------------------------------------------------------------------------------------------\n",
      "Board:\n",
      "  103    _    _    _    _    * \n",
      "    7   40:  42   45.  48    * \n",
      "   10:  31   38   46   50:   * \n",
      "   18   20:  61    _    _    * \n",
      "Players:\n",
      "  Merle    (player 1):  11 Hornochsen, no cards \n",
      "  Alpha0.5 (player 2):   4 Hornochsen, no cards \n",
      "The game is over! Alpha0.5 (player 2) wins, Merle    (player 1) loses. Congratulations!\n",
      "------------------------------------------------------------------------------------------------------------------------\n"
     ]
    }
   ],
   "source": [
    "session.play_game(render=True)"
   ]
  },
  {
   "cell_type": "code",
   "execution_count": null,
   "metadata": {},
   "outputs": [],
   "source": []
  }
 ],
 "metadata": {
  "kernelspec": {
   "display_name": "Python (rl)",
   "language": "python",
   "name": "rl"
  },
  "language_info": {
   "codemirror_mode": {
    "name": "ipython",
    "version": 3
   },
   "file_extension": ".py",
   "mimetype": "text/x-python",
   "name": "python",
   "nbconvert_exporter": "python",
   "pygments_lexer": "ipython3",
   "version": "3.8.2"
  }
 },
 "nbformat": 4,
 "nbformat_minor": 4
}
