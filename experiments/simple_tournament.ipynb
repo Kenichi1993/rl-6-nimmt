{
 "cells": [
  {
   "cell_type": "markdown",
   "metadata": {},
   "source": [
    "# Small Nimm 6 tournament"
   ]
  },
  {
   "cell_type": "code",
   "execution_count": 1,
   "metadata": {},
   "outputs": [],
   "source": [
    "import numpy as np\n",
    "import logging\n",
    "import sys\n",
    "import torch\n",
    "import pickle\n",
    "from tqdm import tqdm\n",
    "from matplotlib import pyplot as plt\n",
    "\n",
    "sys.path.append(\"../\")\n",
    "\n",
    "from rl_6_nimmt import Tournament, GameSession\n",
    "from rl_6_nimmt.agents import Human, DrunkHamster, BatchedACERAgent, Noisy_D3QN_PRB_NStep, MCSAgent, PolicyMCSAgent, PUCTAgent\n",
    "\n",
    "logging.basicConfig(format=\"%(message)s\",level=logging.INFO)\n",
    "for name in logging.root.manager.loggerDict:\n",
    "    if not \"rl_6_nimmt\" in name:\n",
    "        logging.getLogger(name).setLevel(logging.WARNING)\n"
   ]
  },
  {
   "cell_type": "markdown",
   "metadata": {},
   "source": [
    "## Agents"
   ]
  },
  {
   "cell_type": "code",
   "execution_count": 2,
   "metadata": {},
   "outputs": [],
   "source": [
    "agents = {}\n",
    "    \n",
    "agents[f\"Random\"] = DrunkHamster()\n",
    "agents[f\"D3QN\"] = Noisy_D3QN_PRB_NStep(history_length=int(1e5), n_steps=10)\n",
    "agents[f\"ACER\"] = BatchedACERAgent(minibatch=10)\n",
    "agents[f\"MCS\"] = MCSAgent(mc_max=200)\n",
    "agents[f\"Alpha0.5\"] = PUCTAgent(mc_max=200)\n",
    "\n",
    "for agent in agents.values():\n",
    "    try:\n",
    "        agent.train()\n",
    "    except:\n",
    "        pass\n",
    "\n",
    "merle = Human(\"Merle\")\n"
   ]
  },
  {
   "cell_type": "code",
   "execution_count": 3,
   "metadata": {},
   "outputs": [
    {
     "name": "stdout",
     "output_type": "stream",
     "text": [
      "Tournament after 0 games:\n",
      "-----------------------------------------------------------------\n",
      " Agent                | Games | Mean score | Win fraction |  ELO \n",
      "-----------------------------------------------------------------\n",
      "               Random |     0 |          - |            - | 1600 \n",
      "                 D3QN |     0 |          - |            - | 1600 \n",
      "                 ACER |     0 |          - |            - | 1600 \n",
      "                  MCS |     0 |          - |            - | 1600 \n",
      "             Alpha0.5 |     0 |          - |            - | 1600 \n",
      "-----------------------------------------------------------------\n"
     ]
    }
   ],
   "source": [
    "tournament = Tournament(min_players=2, max_players=4)\n",
    "\n",
    "for name, agent in agents.items():\n",
    "    tournament.add_player(name, agent)\n",
    "\n",
    "print(tournament)"
   ]
  },
  {
   "cell_type": "markdown",
   "metadata": {},
   "source": [
    "## Load existing state (skip when running this for the first time)"
   ]
  },
  {
   "cell_type": "code",
   "execution_count": 13,
   "metadata": {},
   "outputs": [
    {
     "name": "stdout",
     "output_type": "stream",
     "text": [
      "Tournament after 2000 games:\n",
      "-----------------------------------------------------------------\n",
      " Agent                | Games | Mean score | Win fraction |  ELO \n",
      "-----------------------------------------------------------------\n",
      "          MCS_0_0_0_0 |  1055 |      -7.13 |         0.46 | 1772 \n",
      "          MCS_0_0_0_1 |  1075 |      -7.11 |         0.45 | 1770 \n",
      "     Alpha0.5_0_1_1_0 |  1022 |      -6.76 |         0.48 | 1695 \n",
      "     Alpha0.5_0_1_0_0 |  1033 |      -6.53 |         0.50 | 1739 \n",
      "         ACER_0_0_0_0 |  1032 |     -12.50 |         0.18 | 1639 \n",
      "       Random_0_0_0_0 |  1057 |     -13.42 |         0.21 | 1572 \n",
      "-----------------------------------------------------------------\n",
      "           Alpha0.5_1 |   458 |      -6.23 |         0.52 | 1812 \n",
      "         Alpha0.5_0_0 |   657 |      -6.28 |         0.52 | 1713 \n",
      "           D3QN_0_0_0 |   815 |     -13.19 |         0.18 | 1494 \n",
      "-----------------------------------------------------------------\n"
     ]
    }
   ],
   "source": [
    "agents, tournament = pickle.load(open(\"./.tournament.pickle\", \"rb\"))\n",
    "\n",
    "print(tournament)"
   ]
  },
  {
   "cell_type": "markdown",
   "metadata": {},
   "source": [
    "## Let the games begin! Stage 1: 5 x 400 games, 6 players, 200 MC steps"
   ]
  },
  {
   "cell_type": "code",
   "execution_count": 5,
   "metadata": {},
   "outputs": [
    {
     "name": "stderr",
     "output_type": "stream",
     "text": [
      "  0%|          | 0/400 [00:00<?, ?it/s]../rl_6_nimmt/agents/mcts.py:302: RuntimeWarning: invalid value encountered in true_divide\n",
      "  q = np.clip((q - min_return) / (max_return - min_return), 0., 1.)\n",
      "  2%|▏         | 6/400 [01:57<2:04:58, 19.03s/it]../rl_6_nimmt/agents/mcts.py:302: RuntimeWarning: invalid value encountered in true_divide\n",
      "  q = np.clip((q - min_return) / (max_return - min_return), 0., 1.)\n",
      "  4%|▍         | 15/400 [04:59<2:15:37, 21.14s/it]../rl_6_nimmt/agents/mcts.py:302: RuntimeWarning: invalid value encountered in true_divide\n",
      "  q = np.clip((q - min_return) / (max_return - min_return), 0., 1.)\n",
      "100%|██████████| 400/400 [2:23:07<00:00, 21.47s/it]  \n",
      "Copying player Alpha0.5 into 2 instances!\n"
     ]
    },
    {
     "name": "stdout",
     "output_type": "stream",
     "text": [
      "Tournament after 400 games:\n",
      "-----------------------------------------------------------------\n",
      " Agent                | Games | Mean score | Win fraction |  ELO \n",
      "-----------------------------------------------------------------\n",
      "               Random |   227 |     -11.82 |         0.23 | 1423 \n",
      "                 D3QN |   238 |     -11.92 |         0.22 | 1566 \n",
      "                 ACER |   242 |     -13.74 |         0.17 | 1558 \n",
      "                  MCS |   237 |      -6.87 |         0.50 | 1659 \n",
      "             Alpha0.5 |   243 |      -6.16 |         0.56 | 1794 \n",
      "-----------------------------------------------------------------\n"
     ]
    },
    {
     "name": "stderr",
     "output_type": "stream",
     "text": [
      "100%|██████████| 400/400 [3:21:44<00:00, 30.26s/it]  \n",
      "Copying player Alpha0.5_0 into 2 instances!\n",
      "Removing player Alpha0.5_1\n"
     ]
    },
    {
     "name": "stdout",
     "output_type": "stream",
     "text": [
      "Tournament after 800 games:\n",
      "-----------------------------------------------------------------\n",
      " Agent                | Games | Mean score | Win fraction |  ELO \n",
      "-----------------------------------------------------------------\n",
      "           Alpha0.5_0 |   442 |      -6.19 |         0.54 | 1829 \n",
      "           Alpha0.5_1 |   458 |      -6.23 |         0.52 | 1812 \n",
      "                MCS_0 |   445 |      -6.98 |         0.47 | 1729 \n",
      "               D3QN_0 |   422 |     -12.50 |         0.19 | 1450 \n",
      "               ACER_0 |   437 |     -13.40 |         0.18 | 1546 \n",
      "             Random_0 |   433 |     -12.87 |         0.21 | 1428 \n",
      "-----------------------------------------------------------------\n"
     ]
    },
    {
     "name": "stderr",
     "output_type": "stream",
     "text": [
      "100%|██████████| 400/400 [3:51:54<00:00, 34.79s/it]    \n",
      "Copying player Alpha0.5_0_1 into 2 instances!\n",
      "Removing player Alpha0.5_0_0\n"
     ]
    },
    {
     "name": "stdout",
     "output_type": "stream",
     "text": [
      "Tournament after 1200 games:\n",
      "-----------------------------------------------------------------\n",
      " Agent                | Games | Mean score | Win fraction |  ELO \n",
      "-----------------------------------------------------------------\n",
      "         Alpha0.5_0_0 |   657 |      -6.28 |         0.52 | 1713 \n",
      "         Alpha0.5_0_1 |   636 |      -6.39 |         0.52 | 1776 \n",
      "              MCS_0_0 |   648 |      -7.00 |         0.46 | 1695 \n",
      "             ACER_0_0 |   632 |     -13.03 |         0.17 | 1503 \n",
      "             D3QN_0_0 |   637 |     -12.85 |         0.18 | 1487 \n",
      "           Random_0_0 |   652 |     -13.11 |         0.21 | 1637 \n",
      "-----------------------------------------------------------------\n",
      "           Alpha0.5_1 |   458 |      -6.23 |         0.52 | 1812 \n",
      "-----------------------------------------------------------------\n"
     ]
    },
    {
     "name": "stderr",
     "output_type": "stream",
     "text": [
      "100%|██████████| 400/400 [2:54:42<00:00, 26.21s/it]  \n",
      "Copying player MCS_0_0_0 into 2 instances!\n"
     ]
    },
    {
     "name": "stdout",
     "output_type": "stream",
     "text": [
      "Tournament after 1600 games:\n",
      "-----------------------------------------------------------------\n",
      " Agent                | Games | Mean score | Win fraction |  ELO \n",
      "-----------------------------------------------------------------\n",
      "       Alpha0.5_0_1_0 |   828 |      -6.41 |         0.51 | 1718 \n",
      "       Alpha0.5_0_1_1 |   833 |      -6.45 |         0.51 | 1756 \n",
      "            MCS_0_0_0 |   858 |      -6.99 |         0.47 | 1807 \n",
      "         Random_0_0_0 |   858 |     -13.22 |         0.21 | 1548 \n",
      "           ACER_0_0_0 |   835 |     -12.60 |         0.18 | 1551 \n",
      "           D3QN_0_0_0 |   815 |     -13.19 |         0.18 | 1494 \n",
      "-----------------------------------------------------------------\n",
      "           Alpha0.5_1 |   458 |      -6.23 |         0.52 | 1812 \n",
      "         Alpha0.5_0_0 |   657 |      -6.28 |         0.52 | 1713 \n",
      "-----------------------------------------------------------------\n"
     ]
    },
    {
     "name": "stderr",
     "output_type": "stream",
     "text": [
      "Removing player D3QN_0_0_0\n",
      "100%|██████████| 400/400 [3:13:00<00:00, 28.95s/it]  "
     ]
    },
    {
     "name": "stdout",
     "output_type": "stream",
     "text": [
      "Tournament after 2000 games:\n",
      "-----------------------------------------------------------------\n",
      " Agent                | Games | Mean score | Win fraction |  ELO \n",
      "-----------------------------------------------------------------\n",
      "          MCS_0_0_0_0 |  1055 |      -7.13 |         0.46 | 1772 \n",
      "          MCS_0_0_0_1 |  1075 |      -7.11 |         0.45 | 1770 \n",
      "     Alpha0.5_0_1_1_0 |  1022 |      -6.76 |         0.48 | 1695 \n",
      "     Alpha0.5_0_1_0_0 |  1033 |      -6.53 |         0.50 | 1739 \n",
      "         ACER_0_0_0_0 |  1032 |     -12.50 |         0.18 | 1639 \n",
      "       Random_0_0_0_0 |  1057 |     -13.42 |         0.21 | 1572 \n",
      "-----------------------------------------------------------------\n",
      "           Alpha0.5_1 |   458 |      -6.23 |         0.52 | 1812 \n",
      "         Alpha0.5_0_0 |   657 |      -6.28 |         0.52 | 1713 \n",
      "           D3QN_0_0_0 |   815 |     -13.19 |         0.18 | 1494 \n",
      "-----------------------------------------------------------------\n"
     ]
    },
    {
     "name": "stderr",
     "output_type": "stream",
     "text": [
      "\n"
     ]
    }
   ],
   "source": [
    "num_games = 2000\n",
    "block_len = 400\n",
    "\n",
    "try:\n",
    "    tqdm._instances.clear()  # Important after cancelling any step\n",
    "except:\n",
    "    pass\n",
    "\n",
    "while tournament.total_games < num_games:\n",
    "    for _ in tqdm(range(block_len)):\n",
    "        tournament.play_game()\n",
    "    print(tournament)\n",
    "        \n",
    "    if tournament.total_games < num_games:\n",
    "        tournament.evolve(max_players=6, max_per_descendant=2, copies=(2,))\n"
   ]
  },
  {
   "cell_type": "code",
   "execution_count": 6,
   "metadata": {},
   "outputs": [],
   "source": [
    "pickle.dump((agents, tournament), open( \"./.tournament.pickle\", \"wb\" ))"
   ]
  },
  {
   "cell_type": "markdown",
   "metadata": {},
   "source": [
    "## Stage 2: 3 x 400 games, 4 players, 400 MC steps"
   ]
  },
  {
   "cell_type": "code",
   "execution_count": 14,
   "metadata": {},
   "outputs": [
    {
     "name": "stderr",
     "output_type": "stream",
     "text": [
      "Copying player MCS_0_0_0_0 into 2 instances!\n",
      "Removing player MCS_0_0_0_1\n",
      "Removing player ACER_0_0_0_0\n",
      "Removing player Random_0_0_0_0\n",
      " 43%|████▎     | 172/400 [1:20:43<1:46:59, 28.16s/it]\n",
      "100%|██████████| 400/400 [5:13:01<00:00, 46.95s/it]   \n",
      "Copying player Alpha0.5_0_1_1_0_0 into 2 instances!\n",
      "Removing player Alpha0.5_0_1_0_0_0\n",
      "  0%|          | 0/400 [00:00<?, ?it/s]"
     ]
    },
    {
     "name": "stdout",
     "output_type": "stream",
     "text": [
      "Tournament after 2400 games:\n",
      "-----------------------------------------------------------------\n",
      " Agent                | Games | Mean score | Win fraction |  ELO \n",
      "-----------------------------------------------------------------\n",
      "        MCS_0_0_0_0_0 |  1352 |      -7.71 |         0.43 | 1722 \n",
      "        MCS_0_0_0_0_1 |  1363 |      -7.69 |         0.42 | 1709 \n",
      "   Alpha0.5_0_1_0_0_0 |  1324 |      -7.10 |         0.47 | 1754 \n",
      "   Alpha0.5_0_1_1_0_0 |  1318 |      -7.25 |         0.45 | 1793 \n",
      "-----------------------------------------------------------------\n",
      "           Alpha0.5_1 |   458 |      -6.23 |         0.52 | 1812 \n",
      "         Alpha0.5_0_0 |   657 |      -6.28 |         0.52 | 1713 \n",
      "           D3QN_0_0_0 |   815 |     -13.19 |         0.18 | 1494 \n",
      "          MCS_0_0_0_1 |  1075 |      -7.11 |         0.45 | 1770 \n",
      "         ACER_0_0_0_0 |  1032 |     -12.50 |         0.18 | 1639 \n",
      "       Random_0_0_0_0 |  1057 |     -13.42 |         0.21 | 1572 \n",
      "-----------------------------------------------------------------\n"
     ]
    },
    {
     "name": "stderr",
     "output_type": "stream",
     "text": [
      "100%|██████████| 400/400 [4:42:03<00:00, 42.31s/it]  \n",
      "Copying player Alpha0.5_0_1_1_0_0_1 into 2 instances!\n",
      "Removing player Alpha0.5_0_1_1_0_0_0\n",
      "  0%|          | 0/400 [00:00<?, ?it/s]"
     ]
    },
    {
     "name": "stdout",
     "output_type": "stream",
     "text": [
      "Tournament after 2800 games:\n",
      "-----------------------------------------------------------------\n",
      " Agent                | Games | Mean score | Win fraction |  ELO \n",
      "-----------------------------------------------------------------\n",
      " Alpha0.5_0_1_1_0_0_0 |  1621 |      -7.52 |         0.44 | 1721 \n",
      " Alpha0.5_0_1_1_0_0_1 |  1616 |      -7.73 |         0.42 | 1806 \n",
      "      MCS_0_0_0_0_0_0 |  1661 |      -8.00 |         0.41 | 1795 \n",
      "      MCS_0_0_0_0_1_0 |  1666 |      -8.04 |         0.40 | 1695 \n",
      "-----------------------------------------------------------------\n",
      "           Alpha0.5_1 |   458 |      -6.23 |         0.52 | 1812 \n",
      "         Alpha0.5_0_0 |   657 |      -6.28 |         0.52 | 1713 \n",
      "           D3QN_0_0_0 |   815 |     -13.19 |         0.18 | 1494 \n",
      "          MCS_0_0_0_1 |  1075 |      -7.11 |         0.45 | 1770 \n",
      "         ACER_0_0_0_0 |  1032 |     -12.50 |         0.18 | 1639 \n",
      "       Random_0_0_0_0 |  1057 |     -13.42 |         0.21 | 1572 \n",
      "   Alpha0.5_0_1_0_0_0 |  1324 |      -7.10 |         0.47 | 1754 \n",
      "-----------------------------------------------------------------\n"
     ]
    },
    {
     "name": "stderr",
     "output_type": "stream",
     "text": [
      "100%|██████████| 400/400 [4:58:27<00:00, 44.77s/it]  "
     ]
    },
    {
     "name": "stdout",
     "output_type": "stream",
     "text": [
      "Tournament after 3200 games:\n",
      "-----------------------------------------------------------------\n",
      " Agent                | Games | Mean score | Win fraction |  ELO \n",
      "-----------------------------------------------------------------\n",
      " Alpha0.5_0_1_1_0_0_1_0 |  1932 |      -7.92 |         0.41 | 1764 \n",
      " Alpha0.5_0_1_1_0_0_1_1 |  1916 |      -8.02 |         0.41 | 1692 \n",
      "    MCS_0_0_0_0_0_0_0 |  1954 |      -8.16 |         0.39 | 1819 \n",
      "    MCS_0_0_0_0_1_0_0 |  1970 |      -8.26 |         0.39 | 1827 \n",
      "-----------------------------------------------------------------\n",
      "           Alpha0.5_1 |   458 |      -6.23 |         0.52 | 1812 \n",
      "         Alpha0.5_0_0 |   657 |      -6.28 |         0.52 | 1713 \n",
      "           D3QN_0_0_0 |   815 |     -13.19 |         0.18 | 1494 \n",
      "          MCS_0_0_0_1 |  1075 |      -7.11 |         0.45 | 1770 \n",
      "         ACER_0_0_0_0 |  1032 |     -12.50 |         0.18 | 1639 \n",
      "       Random_0_0_0_0 |  1057 |     -13.42 |         0.21 | 1572 \n",
      "   Alpha0.5_0_1_0_0_0 |  1324 |      -7.10 |         0.47 | 1754 \n",
      " Alpha0.5_0_1_1_0_0_0 |  1621 |      -7.52 |         0.44 | 1721 \n",
      "-----------------------------------------------------------------\n"
     ]
    },
    {
     "name": "stderr",
     "output_type": "stream",
     "text": [
      "\n"
     ]
    }
   ],
   "source": [
    "num_games = 3200\n",
    "block_len = 400\n",
    "\n",
    "for agent in tournament.agents:\n",
    "    try:\n",
    "        agent.mc_max = 400\n",
    "    except:\n",
    "        pass\n",
    "    \n",
    "tournament.elo_k = 16\n",
    "\n",
    "try:\n",
    "    tqdm._instances.clear()  # Important after cancelling any step\n",
    "except:\n",
    "    pass\n",
    "\n",
    "while tournament.total_games < num_games:\n",
    "    tournament.evolve(max_players=4, max_per_descendant=2, copies=(2,))\n",
    "    for _ in tqdm(range(block_len)):\n",
    "        tournament.play_game()\n",
    "    print(tournament)\n"
   ]
  },
  {
   "cell_type": "code",
   "execution_count": 15,
   "metadata": {},
   "outputs": [],
   "source": [
    "pickle.dump((agents, tournament), open( \"./.tournament2.pickle\", \"wb\" ))"
   ]
  },
  {
   "cell_type": "markdown",
   "metadata": {},
   "source": [
    "## A few more games to fine-tune the ELO ratings"
   ]
  },
  {
   "cell_type": "code",
   "execution_count": 21,
   "metadata": {},
   "outputs": [
    {
     "name": "stdout",
     "output_type": "stream",
     "text": [
      "Tournament after 3200 games:\n",
      "-----------------------------------------------------------------\n",
      " Agent                | Games | Mean score | Win fraction |  ELO \n",
      "-----------------------------------------------------------------\n",
      "           D3QN_0_0_0 |   815 |     -13.19 |         0.18 | 1494 \n",
      "         ACER_0_0_0_0 |  1032 |     -12.50 |         0.18 | 1639 \n",
      "       Random_0_0_0_0 |  1057 |     -13.42 |         0.21 | 1572 \n",
      " Alpha0.5_0_1_1_0_0_1_0 |  1932 |      -7.92 |         0.41 | 1764 \n",
      " Alpha0.5_0_1_1_0_0_1_1 |  1916 |      -8.02 |         0.41 | 1692 \n",
      "    MCS_0_0_0_0_0_0_0 |  1954 |      -8.16 |         0.39 | 1819 \n",
      "    MCS_0_0_0_0_1_0_0 |  1970 |      -8.26 |         0.39 | 1827 \n",
      "-----------------------------------------------------------------\n"
     ]
    }
   ],
   "source": [
    "tournament.remove_player(\"Alpha0.5_1\", True)\n",
    "tournament.remove_player(\"Alpha0.5_0_0\", True)\n",
    "tournament.remove_player(\"Alpha0.5_0_1_0_0_0\", True)\n",
    "tournament.remove_player(\"Alpha0.5_0_1_1_0_0_0\", True)\n",
    "tournament.remove_player(\"MCS_0_0_0_1\", True)\n",
    "\n",
    "tournament.active[\"D3QN_0_0_0\"] = True\n",
    "tournament.active[\"ACER_0_0_0_0\"] = True\n",
    "tournament.active[\"Random_0_0_0_0\"] = True\n",
    "\n",
    "print(tournament)"
   ]
  },
  {
   "cell_type": "code",
   "execution_count": 24,
   "metadata": {},
   "outputs": [
    {
     "name": "stderr",
     "output_type": "stream",
     "text": [
      "  5%|▌         | 10/200 [03:22<59:01, 18.64s/it] ../rl_6_nimmt/agents/mcts.py:302: RuntimeWarning: invalid value encountered in true_divide\n",
      "  q = np.clip((q - min_return) / (max_return - min_return), 0., 1.)\n",
      "100%|██████████| 200/200 [1:34:57<00:00, 28.49s/it]\n",
      "100%|██████████| 200/200 [1:22:48<00:00, 24.84s/it]\n",
      "100%|██████████| 200/200 [1:16:28<00:00, 22.94s/it]\n",
      "100%|██████████| 200/200 [2:14:37<00:00, 40.39s/it]   \n"
     ]
    }
   ],
   "source": [
    "num_games_per_k = 200    \n",
    "elo_ks = 32, 16, 8, 4\n",
    "\n",
    "for k in elo_ks:\n",
    "    tournament.elo_k = k\n",
    "\n",
    "    for _ in tqdm(range(num_games_per_k)):\n",
    "        tournament.play_game()\n"
   ]
  },
  {
   "cell_type": "code",
   "execution_count": 25,
   "metadata": {},
   "outputs": [],
   "source": [
    "pickle.dump((agents, tournament), open( \"./.tournament3.pickle\", \"wb\" ))"
   ]
  },
  {
   "cell_type": "code",
   "execution_count": 27,
   "metadata": {},
   "outputs": [
    {
     "name": "stdout",
     "output_type": "stream",
     "text": [
      "Tournament after 4000 games:\n",
      "-----------------------------------------------------------------\n",
      " Agent                | Games | Mean score | Win fraction |  ELO \n",
      "-----------------------------------------------------------------\n",
      "           D3QN_0_0_0 |  1151 |     -13.32 |         0.17 | 1577 \n",
      "         ACER_0_0_0_0 |  1408 |     -12.28 |         0.18 | 1629 \n",
      "       Random_0_0_0_0 |  1382 |     -13.49 |         0.19 | 1556 \n",
      " Alpha0.5_0_1_1_0_0_1_0 |  2279 |      -7.75 |         0.42 | 1773 \n",
      " Alpha0.5_0_1_1_0_0_1_1 |  2246 |      -7.79 |         0.42 | 1806 \n",
      "    MCS_0_0_0_0_0_0_0 |  2285 |      -8.11 |         0.40 | 1721 \n",
      "    MCS_0_0_0_0_1_0_0 |  2314 |      -8.06 |         0.40 | 1745 \n",
      "-----------------------------------------------------------------\n"
     ]
    }
   ],
   "source": [
    "print(tournament)"
   ]
  },
  {
   "cell_type": "markdown",
   "metadata": {},
   "source": [
    "## Only keep the best agent per method, and rename agents"
   ]
  },
  {
   "cell_type": "code",
   "execution_count": 28,
   "metadata": {},
   "outputs": [],
   "source": [
    "tournament.remove_player(\"Alpha0.5_0_1_1_0_0_1_0\", True)\n",
    "tournament.remove_player(\"MCS_0_0_0_0_0_0_0\", True)\n"
   ]
  },
  {
   "cell_type": "code",
   "execution_count": 29,
   "metadata": {},
   "outputs": [
    {
     "name": "stdout",
     "output_type": "stream",
     "text": [
      "Tournament after 4000 games:\n",
      "-----------------------------------------------------------------\n",
      " Agent                | Games | Mean score | Win fraction |  ELO \n",
      "-----------------------------------------------------------------\n",
      "           D3QN_0_0_0 |  1151 |     -13.32 |         0.17 | 1577 \n",
      "         ACER_0_0_0_0 |  1408 |     -12.28 |         0.18 | 1629 \n",
      "       Random_0_0_0_0 |  1382 |     -13.49 |         0.19 | 1556 \n",
      " Alpha0.5_0_1_1_0_0_1_1 |  2246 |      -7.79 |         0.42 | 1806 \n",
      "    MCS_0_0_0_0_1_0_0 |  2314 |      -8.06 |         0.40 | 1745 \n",
      "-----------------------------------------------------------------\n"
     ]
    }
   ],
   "source": [
    "print(tournament)"
   ]
  },
  {
   "cell_type": "code",
   "execution_count": 31,
   "metadata": {},
   "outputs": [],
   "source": [
    "for name in tournament.active_agents().copy():\n",
    "    tournament.copy_player(name, name.split(\"_\")[0])\n",
    "    tournament.remove_player(name, True)"
   ]
  },
  {
   "cell_type": "code",
   "execution_count": 32,
   "metadata": {},
   "outputs": [
    {
     "name": "stdout",
     "output_type": "stream",
     "text": [
      "Tournament after 4000 games:\n",
      "-----------------------------------------------------------------\n",
      " Agent                | Games | Mean score | Win fraction |  ELO \n",
      "-----------------------------------------------------------------\n",
      "                 D3QN |  1151 |     -13.32 |         0.17 | 1577 \n",
      "                 ACER |  1408 |     -12.28 |         0.18 | 1629 \n",
      "               Random |  1382 |     -13.49 |         0.19 | 1556 \n",
      "             Alpha0.5 |  2246 |      -7.79 |         0.42 | 1806 \n",
      "                  MCS |  2314 |      -8.06 |         0.40 | 1745 \n",
      "-----------------------------------------------------------------\n"
     ]
    }
   ],
   "source": [
    "print(tournament)"
   ]
  },
  {
   "cell_type": "code",
   "execution_count": 33,
   "metadata": {},
   "outputs": [],
   "source": [
    "pickle.dump((agents, tournament), open( \"./.tournament4.pickle\", \"wb\" ))"
   ]
  },
  {
   "cell_type": "markdown",
   "metadata": {},
   "source": [
    "## Results"
   ]
  },
  {
   "cell_type": "code",
   "execution_count": 34,
   "metadata": {},
   "outputs": [
    {
     "name": "stdout",
     "output_type": "stream",
     "text": [
      "Tournament after 4000 games:\n",
      "-----------------------------------------------------------------\n",
      " Agent                | Games | Mean score | Win fraction |  ELO \n",
      "-----------------------------------------------------------------\n",
      "                 D3QN |  1151 |     -13.32 |         0.17 | 1577 \n",
      "                 ACER |  1408 |     -12.28 |         0.18 | 1629 \n",
      "               Random |  1382 |     -13.49 |         0.19 | 1556 \n",
      "             Alpha0.5 |  2246 |      -7.79 |         0.42 | 1806 \n",
      "                  MCS |  2314 |      -8.06 |         0.40 | 1745 \n",
      "-----------------------------------------------------------------\n"
     ]
    }
   ],
   "source": [
    "print(tournament)"
   ]
  },
  {
   "cell_type": "code",
   "execution_count": 49,
   "metadata": {},
   "outputs": [
    {
     "data": {
      "image/png": "[encoded data removed]",
      "text/plain": [
       "<Figure size 360x360 with 1 Axes>"
      ]
     },
     "metadata": {
      "needs_background": "light"
     },
     "output_type": "display_data"
    }
   ],
   "source": [
    "def plot_running_mean(x, y, n=10, **kwargs):\n",
    "    cumsum = np.cumsum(np.insert(y, 0, 0))\n",
    "    running_mean_y = (cumsum[n:] - cumsum[:-n]) / n\n",
    "    \n",
    "    cumsum = np.cumsum(np.insert(x, 0, 0))\n",
    "    running_mean_x = (cumsum[n:] - cumsum[:-n]) / n\n",
    "    \n",
    "    plt.plot(running_mean_x, running_mean_y, **kwargs)\n",
    "\n",
    "colors = {\n",
    "    \"D3QN\": \"C0\",\n",
    "    \"ACER\": \"C2\",\n",
    "    \"MCS\": \"C1\",\n",
    "    \"Alpha0.5\": \"C3\",\n",
    "    \"Random\": \"0.75\",\n",
    "}\n",
    "\n",
    "fig = plt.figure(figsize=(5,5))\n",
    "    \n",
    "for name in tournament.agents.keys():\n",
    "    done = {}\n",
    "    name_ = name.split(\"_\")[0]\n",
    "    y = tournament.elos[name]\n",
    "    x = np.arange(len(y))\n",
    "    plot_running_mean(\n",
    "        x,\n",
    "        y,\n",
    "        n=200,\n",
    "        label=None if name_ in done else name_,\n",
    "        color=colors[name_],\n",
    "        ls=\"-\",\n",
    "        lw=1.5\n",
    "    )\n",
    "    done[name_] = True\n",
    "\n",
    "plt.legend(loc=\"lower right\")\n",
    "        \n",
    "plt.xlabel(\"Played games\")\n",
    "plt.ylabel(\"ELO\")\n",
    "\n",
    "plt.tight_layout()\n",
    "plt.savefig(\"elo.pdf\")\n",
    "plt.savefig(\"elo.png\")\n"
   ]
  },
  {
   "cell_type": "markdown",
   "metadata": {},
   "source": [
    "## Merle vs. the machine"
   ]
  },
  {
   "cell_type": "code",
   "execution_count": 52,
   "metadata": {},
   "outputs": [],
   "source": [
    "the_machine = tournament.agents['Alpha0.5']\n",
    "the_machine.mc_max = 800\n",
    "\n",
    "session = GameSession(merle, the_machine)\n",
    "\n",
    "# The DEBUG output shows the moves, which is nice\n",
    "for name in logging.root.manager.loggerDict:\n",
    "    if \"rl_6_nimmt\" in name:\n",
    "        logging.getLogger(name).setLevel(logging.DEBUG)\n",
    "        "
   ]
  },
  {
   "cell_type": "code",
   "execution_count": 53,
   "metadata": {},
   "outputs": [
    {
     "name": "stderr",
     "output_type": "stream",
     "text": [
      "Dealing cards\n",
      "------------------------------------------------------------------------------------------------------------------------\n",
      "Board:\n",
      "   62    _    _    _    _    * \n",
      "   81    _    _    _    _    * \n",
      "   80:   _    _    _    _    * \n",
      "   52    _    _    _    _    * \n",
      "Players:\n",
      "  Merle    (player 1):   0 Hornochsen, cards  15.  23   26   44+  73   78   79   83   93   97 \n",
      "  Alpha0.5 (player 2):   0 Hornochsen, cards   1   31   33+  64   67   71   82   87   92  101 \n",
      "------------------------------------------------------------------------------------------------------------------------\n"
     ]
    },
    {
     "name": "stdin",
     "output_type": "stream",
     "text": [
      "It is your turn, Merle! You have the following cards:  15  23  26  44  73  78  79  83  93  97. Choose one to play! 93\n"
     ]
    },
    {
     "name": "stderr",
     "output_type": "stream",
     "text": [
      "AlphaAlmostZero thoughts:\n",
      "      1: p = 0.12, n =  84, E[r] =  -6.7\n",
      "     31: p = 0.09, n =  60, E[r] =  -6.8\n",
      "     33: p = 0.09, n =  41, E[r] =  -7.7\n",
      "     64: p = 0.09, n =  70, E[r] =  -6.7\n",
      "     67: p = 0.09, n =  57, E[r] =  -6.9\n",
      "     71: p = 0.09, n =  78, E[r] =  -6.4\n",
      "     82: p = 0.10, n =  77, E[r] =  -6.6\n",
      "     87: p = 0.10, n =  82, E[r] =  -6.6\n",
      "     92: p = 0.11, n = 112, E[r] =  -6.2\n",
      "  x 101: p = 0.13, n = 139, E[r] =  -6.1\n",
      "Merle    (player 1) plays card 93\n",
      "Alpha0.5 (player 2) plays card 101\n",
      "------------------------------------------------------------------------------------------------------------------------\n",
      "Board:\n",
      "   62    _    _    _    _    * \n",
      "   81   93  101    _    _    * \n",
      "   80:   _    _    _    _    * \n",
      "   52    _    _    _    _    * \n",
      "Players:\n",
      "  Merle    (player 1):   0 Hornochsen, cards  15.  23   26   44+  73   78   79   83   97 \n",
      "  Alpha0.5 (player 2):   0 Hornochsen, cards   1   31   33+  64   67   71   82   87   92 \n",
      "------------------------------------------------------------------------------------------------------------------------\n"
     ]
    },
    {
     "name": "stdin",
     "output_type": "stream",
     "text": [
      "It is your turn, Merle! You have the following cards:  15  23  26  44  73  78  79  83  97. Choose one to play! 83\n"
     ]
    },
    {
     "name": "stderr",
     "output_type": "stream",
     "text": [
      "AlphaAlmostZero thoughts:\n",
      "      1: p = 0.10, n = 117, E[r] =  -5.7\n",
      "     31: p = 0.08, n =  40, E[r] =  -7.0\n",
      "     33: p = 0.08, n =  56, E[r] =  -6.3\n",
      "     64: p = 0.10, n =  45, E[r] =  -7.3\n",
      "     67: p = 0.10, n =  76, E[r] =  -6.5\n",
      "  x  71: p = 0.11, n = 124, E[r] =  -5.7\n",
      "     82: p = 0.13, n = 112, E[r] =  -6.1\n",
      "     87: p = 0.15, n =  87, E[r] =  -6.8\n",
      "     92: p = 0.16, n = 143, E[r] =  -6.1\n",
      "Alpha0.5 (player 2) plays card 71\n",
      "Merle    (player 1) plays card 83\n",
      "------------------------------------------------------------------------------------------------------------------------\n",
      "Board:\n",
      "   62   71    _    _    _    * \n",
      "   81   93  101    _    _    * \n",
      "   80:  83    _    _    _    * \n",
      "   52    _    _    _    _    * \n",
      "Players:\n",
      "  Merle    (player 1):   0 Hornochsen, cards  15.  23   26   44+  73   78   79   97 \n",
      "  Alpha0.5 (player 2):   0 Hornochsen, cards   1   31   33+  64   67   82   87   92 \n",
      "------------------------------------------------------------------------------------------------------------------------\n"
     ]
    },
    {
     "name": "stdin",
     "output_type": "stream",
     "text": [
      "It is your turn, Merle! You have the following cards:  15  23  26  44  73  78  79  97. Choose one to play! 78\n"
     ]
    },
    {
     "name": "stderr",
     "output_type": "stream",
     "text": [
      "AlphaAlmostZero thoughts:\n",
      "      1: p = 0.11, n =  85, E[r] =  -5.7\n",
      "     31: p = 0.09, n =  75, E[r] =  -5.6\n",
      "     33: p = 0.09, n =  34, E[r] =  -7.3\n",
      "     64: p = 0.12, n =  74, E[r] =  -6.0\n",
      "     67: p = 0.12, n =  92, E[r] =  -5.7\n",
      "     82: p = 0.15, n = 153, E[r] =  -5.3\n",
      "  x  87: p = 0.16, n = 173, E[r] =  -5.2\n",
      "     92: p = 0.17, n = 114, E[r] =  -5.9\n",
      "Merle    (player 1) plays card 78\n",
      "Alpha0.5 (player 2) plays card 87\n",
      "------------------------------------------------------------------------------------------------------------------------\n",
      "Board:\n",
      "   62   71   78    _    _    * \n",
      "   81   93  101    _    _    * \n",
      "   80:  83   87    _    _    * \n",
      "   52    _    _    _    _    * \n",
      "Players:\n",
      "  Merle    (player 1):   0 Hornochsen, cards  15.  23   26   44+  73   79   97 \n",
      "  Alpha0.5 (player 2):   0 Hornochsen, cards   1   31   33+  64   67   82   92 \n",
      "------------------------------------------------------------------------------------------------------------------------\n"
     ]
    },
    {
     "name": "stdin",
     "output_type": "stream",
     "text": [
      "It is your turn, Merle! You have the following cards:  15  23  26  44  73  79  97. Choose one to play! 97\n"
     ]
    },
    {
     "name": "stderr",
     "output_type": "stream",
     "text": [
      "AlphaAlmostZero thoughts:\n",
      "  x   1: p = 0.12, n = 195, E[r] =  -4.4\n",
      "     31: p = 0.10, n =  71, E[r] =  -5.2\n",
      "     33: p = 0.10, n =  71, E[r] =  -5.3\n",
      "     64: p = 0.13, n =  95, E[r] =  -5.2\n",
      "     67: p = 0.14, n =  93, E[r] =  -5.3\n",
      "     82: p = 0.18, n =  89, E[r] =  -5.8\n",
      "     92: p = 0.22, n = 186, E[r] =  -5.0\n",
      "Alpha0.5 (player 2) plays card 1\n",
      "  ...chooses to replace row 4\n",
      "  ...and gains 1 Hornochsen\n",
      "Merle    (player 1) plays card 97\n",
      "------------------------------------------------------------------------------------------------------------------------\n",
      "Board:\n",
      "   62   71   78    _    _    * \n",
      "   81   93  101    _    _    * \n",
      "   80:  83   87   97    _    * \n",
      "    1    _    _    _    _    * \n",
      "Players:\n",
      "  Merle    (player 1):   0 Hornochsen, cards  15.  23   26   44+  73   79 \n",
      "  Alpha0.5 (player 2):   1 Hornochsen, cards  31   33+  64   67   82   92 \n",
      "------------------------------------------------------------------------------------------------------------------------\n"
     ]
    },
    {
     "name": "stdin",
     "output_type": "stream",
     "text": [
      "It is your turn, Merle! You have the following cards:  15  23  26  44  73  79. Choose one to play! 79\n"
     ]
    },
    {
     "name": "stderr",
     "output_type": "stream",
     "text": [
      "AlphaAlmostZero thoughts:\n",
      "     31: p = 0.12, n = 122, E[r] =  -3.8\n",
      "     33: p = 0.12, n =  98, E[r] =  -4.0\n",
      "  x  64: p = 0.15, n = 194, E[r] =  -3.5\n",
      "     67: p = 0.15, n = 120, E[r] =  -4.0\n",
      "     82: p = 0.20, n =  98, E[r] =  -4.8\n",
      "     92: p = 0.26, n = 168, E[r] =  -4.3\n",
      "Alpha0.5 (player 2) plays card 64\n",
      "Merle    (player 1) plays card 79\n",
      "------------------------------------------------------------------------------------------------------------------------\n",
      "Board:\n",
      "   62   71   78   79    _    * \n",
      "   81   93  101    _    _    * \n",
      "   80:  83   87   97    _    * \n",
      "    1   64    _    _    _    * \n",
      "Players:\n",
      "  Merle    (player 1):   0 Hornochsen, cards  15.  23   26   44+  73 \n",
      "  Alpha0.5 (player 2):   1 Hornochsen, cards  31   33+  67   82   92 \n",
      "------------------------------------------------------------------------------------------------------------------------\n"
     ]
    },
    {
     "name": "stdin",
     "output_type": "stream",
     "text": [
      "It is your turn, Merle! You have the following cards:  15  23  26  44  73. Choose one to play! 15\n"
     ]
    },
    {
     "name": "stderr",
     "output_type": "stream",
     "text": [
      "AlphaAlmostZero thoughts:\n",
      "     31: p = 0.07, n =  27, E[r] =  -6.0\n",
      "     33: p = 0.08, n =  47, E[r] =  -4.6\n",
      "     67: p = 0.18, n = 110, E[r] =  -4.6\n",
      "     82: p = 0.28, n = 144, E[r] =  -4.9\n",
      "  x  92: p = 0.39, n = 472, E[r] =  -3.6\n",
      "Merle    (player 1) plays card 15\n",
      "  ...chooses to replace row 4\n",
      "  ...and gains 2 Hornochsen\n",
      "Alpha0.5 (player 2) plays card 92\n",
      "------------------------------------------------------------------------------------------------------------------------\n",
      "Board:\n",
      "   62   71   78   79   92    * \n",
      "   81   93  101    _    _    * \n",
      "   80:  83   87   97    _    * \n",
      "   15.   _    _    _    _    * \n",
      "Players:\n",
      "  Merle    (player 1):   2 Hornochsen, cards  23   26   44+  73 \n",
      "  Alpha0.5 (player 2):   1 Hornochsen, cards  31   33+  67   82 \n",
      "------------------------------------------------------------------------------------------------------------------------\n"
     ]
    },
    {
     "name": "stdin",
     "output_type": "stream",
     "text": [
      "It is your turn, Merle! You have the following cards:  23  26  44  73. Choose one to play! 23\n"
     ]
    },
    {
     "name": "stderr",
     "output_type": "stream",
     "text": [
      "AlphaAlmostZero thoughts:\n",
      "  x  31: p = 0.24, n =  77, E[r] =  -2.8\n",
      "     33: p = 0.23, n =  52, E[r] =  -3.5\n",
      "     67: p = 0.24, n =  59, E[r] =  -3.3\n",
      "     82: p = 0.28, n =  52, E[r] =  -3.9\n",
      "Merle    (player 1) plays card 23\n",
      "Alpha0.5 (player 2) plays card 31\n",
      "------------------------------------------------------------------------------------------------------------------------\n",
      "Board:\n",
      "   62   71   78   79   92    * \n",
      "   81   93  101    _    _    * \n",
      "   80:  83   87   97    _    * \n",
      "   15.  23   31    _    _    * \n",
      "Players:\n",
      "  Merle    (player 1):   2 Hornochsen, cards  26   44+  73 \n",
      "  Alpha0.5 (player 2):   1 Hornochsen, cards  33+  67   82 \n",
      "------------------------------------------------------------------------------------------------------------------------\n"
     ]
    },
    {
     "name": "stdin",
     "output_type": "stream",
     "text": [
      "It is your turn, Merle! You have the following cards:  26  44  73. Choose one to play! 73\n"
     ]
    },
    {
     "name": "stderr",
     "output_type": "stream",
     "text": [
      "AlphaAlmostZero thoughts:\n",
      "     33: p = 0.30, n =  12, E[r] =  -5.1\n",
      "     67: p = 0.30, n =  17, E[r] =  -3.2\n",
      "  x  82: p = 0.40, n =  31, E[r] =  -2.1\n",
      "Merle    (player 1) plays card 73\n",
      "Alpha0.5 (player 2) plays card 82\n",
      "------------------------------------------------------------------------------------------------------------------------\n",
      "Board:\n",
      "   62   71   78   79   92    * \n",
      "   81   93  101    _    _    * \n",
      "   80:  83   87   97    _    * \n",
      "   15.  23   31   73   82    * \n",
      "Players:\n",
      "  Merle    (player 1):   2 Hornochsen, cards  26   44+\n",
      "  Alpha0.5 (player 2):   1 Hornochsen, cards  33+  67 \n",
      "------------------------------------------------------------------------------------------------------------------------\n"
     ]
    },
    {
     "name": "stdin",
     "output_type": "stream",
     "text": [
      "It is your turn, Merle! You have the following cards:  26  44. Choose one to play! 44\n"
     ]
    },
    {
     "name": "stderr",
     "output_type": "stream",
     "text": [
      "AlphaAlmostZero thoughts:\n",
      "     33: p = 0.34, n =   6, E[r] =  -2.0\n",
      "  x  67: p = 0.66, n =  14, E[r] =  -1.5\n",
      "Merle    (player 1) plays card 44\n",
      "  ...chooses to replace row 2\n",
      "  ...and gains 3 Hornochsen\n",
      "Alpha0.5 (player 2) plays card 67\n",
      "------------------------------------------------------------------------------------------------------------------------\n",
      "Board:\n",
      "   62   71   78   79   92    * \n",
      "   44+  67    _    _    _    * \n",
      "   80:  83   87   97    _    * \n",
      "   15.  23   31   73   82    * \n",
      "Players:\n",
      "  Merle    (player 1):   5 Hornochsen, cards  26 \n",
      "  Alpha0.5 (player 2):   1 Hornochsen, cards  33+\n",
      "------------------------------------------------------------------------------------------------------------------------\n"
     ]
    },
    {
     "name": "stdin",
     "output_type": "stream",
     "text": [
      "It is your turn, Merle! You have the following cards:  26. Choose one to play! 26\n"
     ]
    },
    {
     "name": "stderr",
     "output_type": "stream",
     "text": [
      "Merle    (player 1) plays card 26\n",
      "  ...chooses to replace row 1\n",
      "  ...and gains 5 Hornochsen\n",
      "Alpha0.5 (player 2) plays card 33\n",
      "------------------------------------------------------------------------------------------------------------------------\n",
      "Board:\n",
      "   26   33+   _    _    _    * \n",
      "   44+  67    _    _    _    * \n",
      "   80:  83   87   97    _    * \n",
      "   15.  23   31   73   82    * \n",
      "Players:\n",
      "  Merle    (player 1):  10 Hornochsen, no cards \n",
      "  Alpha0.5 (player 2):   1 Hornochsen, no cards \n",
      "The game is over! Alpha0.5 (player 2) wins, Merle    (player 1) loses. Congratulations!\n",
      "------------------------------------------------------------------------------------------------------------------------\n"
     ]
    }
   ],
   "source": [
    "session.play_game(render=True)"
   ]
  },
  {
   "cell_type": "code",
   "execution_count": 54,
   "metadata": {},
   "outputs": [
    {
     "name": "stderr",
     "output_type": "stream",
     "text": [
      "Dealing cards\n",
      "------------------------------------------------------------------------------------------------------------------------\n",
      "Board:\n",
      "   18    _    _    _    _    * \n",
      "   74    _    _    _    _    * \n",
      "  100:   _    _    _    _    * \n",
      "   35.   _    _    _    _    * \n",
      "Players:\n",
      "  Merle    (player 1):   0 Hornochsen, cards  20:  21   43   53   60:  64   67   68   80:  96 \n",
      "  Alpha0.5 (player 2):   0 Hornochsen, cards  24   26   29   36   48   66+  72   77+  85.  99+\n",
      "------------------------------------------------------------------------------------------------------------------------\n"
     ]
    },
    {
     "name": "stdin",
     "output_type": "stream",
     "text": [
      "It is your turn, Merle! You have the following cards:  20  21  43  53  60  64  67  68  80  96. Choose one to play! 60\n"
     ]
    },
    {
     "name": "stderr",
     "output_type": "stream",
     "text": [
      "AlphaAlmostZero thoughts:\n",
      "     24: p = 0.11, n =  83, E[r] =  -8.3\n",
      "     26: p = 0.11, n =  71, E[r] =  -8.6\n",
      "     29: p = 0.10, n =  71, E[r] =  -8.6\n",
      "     36: p = 0.10, n =  62, E[r] =  -8.7\n",
      "     48: p = 0.09, n =  62, E[r] =  -8.5\n",
      "     66: p = 0.09, n =  50, E[r] =  -9.0\n",
      "     72: p = 0.09, n =  56, E[r] =  -8.8\n",
      "     77: p = 0.09, n = 102, E[r] =  -7.7\n",
      "  x  85: p = 0.10, n = 147, E[r] =  -7.2\n",
      "     99: p = 0.12, n =  96, E[r] =  -8.2\n",
      "Merle    (player 1) plays card 60\n",
      "Alpha0.5 (player 2) plays card 85\n",
      "------------------------------------------------------------------------------------------------------------------------\n",
      "Board:\n",
      "   18    _    _    _    _    * \n",
      "   74   85.   _    _    _    * \n",
      "  100:   _    _    _    _    * \n",
      "   35.  60:   _    _    _    * \n",
      "Players:\n",
      "  Merle    (player 1):   0 Hornochsen, cards  20:  21   43   53   64   67   68   80:  96 \n",
      "  Alpha0.5 (player 2):   0 Hornochsen, cards  24   26   29   36   48   66+  72   77+  99+\n",
      "------------------------------------------------------------------------------------------------------------------------\n"
     ]
    },
    {
     "name": "stdin",
     "output_type": "stream",
     "text": [
      "It is your turn, Merle! You have the following cards:  20  21  43  53  64  67  68  80  96. Choose one to play! 64\n"
     ]
    },
    {
     "name": "stderr",
     "output_type": "stream",
     "text": [
      "AlphaAlmostZero thoughts:\n",
      "     24: p = 0.10, n = 111, E[r] =  -7.3\n",
      "     26: p = 0.10, n =  79, E[r] =  -7.8\n",
      "     29: p = 0.10, n =  78, E[r] =  -7.9\n",
      "     36: p = 0.09, n =  33, E[r] = -10.3\n",
      "  x  48: p = 0.09, n = 121, E[r] =  -7.0\n",
      "     66: p = 0.10, n =  90, E[r] =  -7.7\n",
      "     72: p = 0.11, n =  99, E[r] =  -7.7\n",
      "     77: p = 0.12, n =  52, E[r] =  -9.7\n",
      "     99: p = 0.18, n = 137, E[r] =  -7.9\n",
      "Alpha0.5 (player 2) plays card 48\n",
      "Merle    (player 1) plays card 64\n",
      "------------------------------------------------------------------------------------------------------------------------\n",
      "Board:\n",
      "   18   48    _    _    _    * \n",
      "   74   85.   _    _    _    * \n",
      "  100:   _    _    _    _    * \n",
      "   35.  60:  64    _    _    * \n",
      "Players:\n",
      "  Merle    (player 1):   0 Hornochsen, cards  20:  21   43   53   67   68   80:  96 \n",
      "  Alpha0.5 (player 2):   0 Hornochsen, cards  24   26   29   36   66+  72   77+  99+\n",
      "------------------------------------------------------------------------------------------------------------------------\n"
     ]
    },
    {
     "name": "stdin",
     "output_type": "stream",
     "text": [
      "It is your turn, Merle! You have the following cards:  20  21  43  53  67  68  80  96. Choose one to play! 80\n"
     ]
    },
    {
     "name": "stderr",
     "output_type": "stream",
     "text": [
      "AlphaAlmostZero thoughts:\n",
      "     24: p = 0.10, n =  42, E[r] = -10.3\n",
      "     26: p = 0.10, n =  57, E[r] =  -9.3\n",
      "     29: p = 0.10, n =  73, E[r] =  -8.5\n",
      "     36: p = 0.10, n =  82, E[r] =  -8.2\n",
      "     66: p = 0.13, n =  58, E[r] =  -9.9\n",
      "     72: p = 0.13, n = 125, E[r] =  -8.0\n",
      "  x  77: p = 0.14, n = 152, E[r] =  -7.9\n",
      "     99: p = 0.21, n = 211, E[r] =  -7.9\n",
      "Alpha0.5 (player 2) plays card 77\n",
      "Merle    (player 1) plays card 80\n",
      "------------------------------------------------------------------------------------------------------------------------\n",
      "Board:\n",
      "   18   48    _    _    _    * \n",
      "   74   85.   _    _    _    * \n",
      "  100:   _    _    _    _    * \n",
      "   35.  60:  64   77+  80:   * \n",
      "Players:\n",
      "  Merle    (player 1):   0 Hornochsen, cards  20:  21   43   53   67   68   96 \n",
      "  Alpha0.5 (player 2):   0 Hornochsen, cards  24   26   29   36   66+  72   99+\n",
      "------------------------------------------------------------------------------------------------------------------------\n"
     ]
    },
    {
     "name": "stdin",
     "output_type": "stream",
     "text": [
      "It is your turn, Merle! You have the following cards:  20  21  43  53  67  68  96. Choose one to play! 53\n"
     ]
    },
    {
     "name": "stderr",
     "output_type": "stream",
     "text": [
      "AlphaAlmostZero thoughts:\n",
      "     24: p = 0.14, n =  45, E[r] =  -9.9\n",
      "     26: p = 0.14, n =  64, E[r] =  -8.5\n",
      "     29: p = 0.14, n =  66, E[r] =  -8.2\n",
      "     36: p = 0.13, n =  83, E[r] =  -7.6\n",
      "     66: p = 0.12, n =  23, E[r] = -12.9\n",
      "     72: p = 0.13, n =  78, E[r] =  -7.8\n",
      "  x  99: p = 0.20, n = 441, E[r] =  -5.8\n",
      "Merle    (player 1) plays card 53\n",
      "Alpha0.5 (player 2) plays card 99\n",
      "------------------------------------------------------------------------------------------------------------------------\n",
      "Board:\n",
      "   18   48   53    _    _    * \n",
      "   74   85.  99+   _    _    * \n",
      "  100:   _    _    _    _    * \n",
      "   35.  60:  64   77+  80:   * \n",
      "Players:\n",
      "  Merle    (player 1):   0 Hornochsen, cards  20:  21   43   67   68   96 \n",
      "  Alpha0.5 (player 2):   0 Hornochsen, cards  24   26   29   36   66+  72 \n",
      "------------------------------------------------------------------------------------------------------------------------\n"
     ]
    },
    {
     "name": "stdin",
     "output_type": "stream",
     "text": [
      "It is your turn, Merle! You have the following cards:  20  21  43  67  68  96. Choose one to play! 68\n"
     ]
    },
    {
     "name": "stderr",
     "output_type": "stream",
     "text": [
      "AlphaAlmostZero thoughts:\n",
      "     24: p = 0.15, n = 126, E[r] =  -6.3\n",
      "     26: p = 0.15, n =  81, E[r] =  -7.2\n",
      "     29: p = 0.15, n = 113, E[r] =  -6.5\n",
      "     36: p = 0.16, n =  98, E[r] =  -6.8\n",
      "     66: p = 0.19, n = 179, E[r] =  -6.1\n",
      "  x  72: p = 0.20, n = 203, E[r] =  -6.0\n",
      "Merle    (player 1) plays card 68\n",
      "Alpha0.5 (player 2) plays card 72\n",
      "------------------------------------------------------------------------------------------------------------------------\n",
      "Board:\n",
      "   18   48   53   68   72    * \n",
      "   74   85.  99+   _    _    * \n",
      "  100:   _    _    _    _    * \n",
      "   35.  60:  64   77+  80:   * \n",
      "Players:\n",
      "  Merle    (player 1):   0 Hornochsen, cards  20:  21   43   67   96 \n",
      "  Alpha0.5 (player 2):   0 Hornochsen, cards  24   26   29   36   66+\n",
      "------------------------------------------------------------------------------------------------------------------------\n"
     ]
    },
    {
     "name": "stdin",
     "output_type": "stream",
     "text": [
      "It is your turn, Merle! You have the following cards:  20  21  43  67  96. Choose one to play! 96\n"
     ]
    },
    {
     "name": "stderr",
     "output_type": "stream",
     "text": [
      "AlphaAlmostZero thoughts:\n",
      "     24: p = 0.19, n = 174, E[r] =  -5.9\n",
      "     26: p = 0.19, n = 176, E[r] =  -5.8\n",
      "     29: p = 0.19, n = 154, E[r] =  -6.0\n",
      "  x  36: p = 0.19, n = 178, E[r] =  -5.8\n",
      "     66: p = 0.24, n = 118, E[r] =  -7.0\n",
      "Alpha0.5 (player 2) plays card 36\n",
      "  ...chooses to replace row 3\n",
      "  ...and gains 3 Hornochsen\n",
      "Merle    (player 1) plays card 96\n",
      "  ...and gains 14 Hornochsen\n",
      "------------------------------------------------------------------------------------------------------------------------\n",
      "Board:\n",
      "   18   48   53   68   72    * \n",
      "   74   85.  99+   _    _    * \n",
      "   36    _    _    _    _    * \n",
      "   96    _    _    _    _    * \n",
      "Players:\n",
      "  Merle    (player 1):  14 Hornochsen, cards  20:  21   43   67 \n",
      "  Alpha0.5 (player 2):   3 Hornochsen, cards  24   26   29   66+\n",
      "------------------------------------------------------------------------------------------------------------------------\n"
     ]
    },
    {
     "name": "stdin",
     "output_type": "stream",
     "text": [
      "It is your turn, Merle! You have the following cards:  20  21  43  67. Choose one to play! 20\n"
     ]
    },
    {
     "name": "stderr",
     "output_type": "stream",
     "text": [
      "AlphaAlmostZero thoughts:\n",
      "     24: p = 0.27, n =  71, E[r] =  -2.0\n",
      "  x  26: p = 0.26, n =  85, E[r] =  -1.7\n",
      "     29: p = 0.25, n =  50, E[r] =  -2.3\n",
      "     66: p = 0.22, n =  34, E[r] =  -2.8\n",
      "Merle    (player 1) plays card 20\n",
      "  ...chooses to replace row 3\n",
      "  ...and gains 1 Hornochsen\n",
      "Alpha0.5 (player 2) plays card 26\n",
      "------------------------------------------------------------------------------------------------------------------------\n",
      "Board:\n",
      "   18   48   53   68   72    * \n",
      "   74   85.  99+   _    _    * \n",
      "   20:  26    _    _    _    * \n",
      "   96    _    _    _    _    * \n",
      "Players:\n",
      "  Merle    (player 1):  15 Hornochsen, cards  21   43   67 \n",
      "  Alpha0.5 (player 2):   3 Hornochsen, cards  24   29   66+\n",
      "------------------------------------------------------------------------------------------------------------------------\n"
     ]
    },
    {
     "name": "stdin",
     "output_type": "stream",
     "text": [
      "It is your turn, Merle! You have the following cards:  21  43  67. Choose one to play! 67\n"
     ]
    },
    {
     "name": "stderr",
     "output_type": "stream",
     "text": [
      "AlphaAlmostZero thoughts:\n",
      "     24: p = 0.38, n =  24, E[r] =  -1.4\n",
      "  x  29: p = 0.35, n =  23, E[r] =  -1.3\n",
      "     66: p = 0.27, n =  13, E[r] =  -2.3\n",
      "Alpha0.5 (player 2) plays card 29\n",
      "Merle    (player 1) plays card 67\n",
      "------------------------------------------------------------------------------------------------------------------------\n",
      "Board:\n",
      "   18   48   53   68   72    * \n",
      "   74   85.  99+   _    _    * \n",
      "   20:  26   29   67    _    * \n",
      "   96    _    _    _    _    * \n",
      "Players:\n",
      "  Merle    (player 1):  15 Hornochsen, cards  21   43 \n",
      "  Alpha0.5 (player 2):   3 Hornochsen, cards  24   66+\n",
      "------------------------------------------------------------------------------------------------------------------------\n"
     ]
    },
    {
     "name": "stdin",
     "output_type": "stream",
     "text": [
      "It is your turn, Merle! You have the following cards:  21  43. Choose one to play! 21\n"
     ]
    },
    {
     "name": "stderr",
     "output_type": "stream",
     "text": [
      "AlphaAlmostZero thoughts:\n",
      "  x  24: p = 0.56, n =  17, E[r] =  -0.9\n",
      "     66: p = 0.44, n =   3, E[r] =  -5.0\n",
      "Merle    (player 1) plays card 21\n",
      "  ...chooses to replace row 4\n",
      "  ...and gains 1 Hornochsen\n",
      "Alpha0.5 (player 2) plays card 24\n",
      "------------------------------------------------------------------------------------------------------------------------\n",
      "Board:\n",
      "   18   48   53   68   72    * \n",
      "   74   85.  99+   _    _    * \n",
      "   20:  26   29   67    _    * \n",
      "   21   24    _    _    _    * \n",
      "Players:\n",
      "  Merle    (player 1):  16 Hornochsen, cards  43 \n",
      "  Alpha0.5 (player 2):   3 Hornochsen, cards  66+\n",
      "------------------------------------------------------------------------------------------------------------------------\n"
     ]
    },
    {
     "name": "stdin",
     "output_type": "stream",
     "text": [
      "It is your turn, Merle! You have the following cards:  43. Choose one to play! 43\n"
     ]
    },
    {
     "name": "stderr",
     "output_type": "stream",
     "text": [
      "Merle    (player 1) plays card 43\n",
      "Alpha0.5 (player 2) plays card 66\n",
      "------------------------------------------------------------------------------------------------------------------------\n",
      "Board:\n",
      "   18   48   53   68   72    * \n",
      "   74   85.  99+   _    _    * \n",
      "   20:  26   29   67    _    * \n",
      "   21   24   43   66+   _    * \n",
      "Players:\n",
      "  Merle    (player 1):  16 Hornochsen, no cards \n",
      "  Alpha0.5 (player 2):   3 Hornochsen, no cards \n",
      "The game is over! Alpha0.5 (player 2) wins, Merle    (player 1) loses. Congratulations!\n",
      "------------------------------------------------------------------------------------------------------------------------\n"
     ]
    }
   ],
   "source": [
    "session.play_game(render=True)"
   ]
  },
  {
   "cell_type": "code",
   "execution_count": 55,
   "metadata": {},
   "outputs": [
    {
     "name": "stderr",
     "output_type": "stream",
     "text": [
      "Dealing cards\n",
      "------------------------------------------------------------------------------------------------------------------------\n",
      "Board:\n",
      "   34    _    _    _    _    * \n",
      "   19    _    _    _    _    * \n",
      "   97    _    _    _    _    * \n",
      "   13    _    _    _    _    * \n",
      "Players:\n",
      "  Merle    (player 1):   0 Hornochsen, cards   9   11+  12   39   50:  59   62   65.  91   99+\n",
      "  Alpha0.5 (player 2):   0 Hornochsen, cards   2   24   25.  27   32   42   66+  67   77+  87 \n",
      "------------------------------------------------------------------------------------------------------------------------\n"
     ]
    },
    {
     "name": "stdin",
     "output_type": "stream",
     "text": [
      "It is your turn, Merle! You have the following cards:   9  11  12  39  50  59  62  65  91  99. Choose one to play! 9\n"
     ]
    },
    {
     "name": "stderr",
     "output_type": "stream",
     "text": [
      "AlphaAlmostZero thoughts:\n",
      "      2: p = 0.11, n =  89, E[r] =  -7.6\n",
      "     24: p = 0.10, n =  54, E[r] =  -8.5\n",
      "     25: p = 0.10, n =  77, E[r] =  -7.7\n",
      "     27: p = 0.10, n =  76, E[r] =  -7.8\n",
      "     32: p = 0.10, n =  57, E[r] =  -8.3\n",
      "     42: p = 0.09, n =  79, E[r] =  -7.6\n",
      "     66: p = 0.10, n =  63, E[r] =  -8.2\n",
      "     67: p = 0.10, n =  82, E[r] =  -7.7\n",
      "  x  77: p = 0.11, n = 135, E[r] =  -7.0\n",
      "     87: p = 0.11, n =  88, E[r] =  -7.6\n",
      "Merle    (player 1) plays card 9\n",
      "  ...chooses to replace row 1\n",
      "  ...and gains 1 Hornochsen\n",
      "Alpha0.5 (player 2) plays card 77\n",
      "------------------------------------------------------------------------------------------------------------------------\n",
      "Board:\n",
      "    9    _    _    _    _    * \n",
      "   19   77+   _    _    _    * \n",
      "   97    _    _    _    _    * \n",
      "   13    _    _    _    _    * \n",
      "Players:\n",
      "  Merle    (player 1):   1 Hornochsen, cards  11+  12   39   50:  59   62   65.  91   99+\n",
      "  Alpha0.5 (player 2):   0 Hornochsen, cards   2   24   25.  27   32   42   66+  67   87 \n",
      "------------------------------------------------------------------------------------------------------------------------\n"
     ]
    },
    {
     "name": "stdin",
     "output_type": "stream",
     "text": [
      "It is your turn, Merle! You have the following cards:  11  12  39  50  59  62  65  91  99. Choose one to play! 11\n"
     ]
    },
    {
     "name": "stderr",
     "output_type": "stream",
     "text": [
      "AlphaAlmostZero thoughts:\n",
      "      2: p = 0.11, n =  80, E[r] =  -7.2\n",
      "  x  24: p = 0.10, n = 121, E[r] =  -6.6\n",
      "     25: p = 0.10, n =  91, E[r] =  -6.9\n",
      "     27: p = 0.10, n =  82, E[r] =  -7.1\n",
      "     32: p = 0.10, n =  53, E[r] =  -7.9\n",
      "     42: p = 0.10, n =  82, E[r] =  -6.9\n",
      "     66: p = 0.11, n = 123, E[r] =  -6.7\n",
      "     67: p = 0.11, n =  75, E[r] =  -7.4\n",
      "     87: p = 0.14, n =  93, E[r] =  -7.3\n",
      "Merle    (player 1) plays card 11\n",
      "Alpha0.5 (player 2) plays card 24\n",
      "------------------------------------------------------------------------------------------------------------------------\n",
      "Board:\n",
      "    9   11+   _    _    _    * \n",
      "   19   77+   _    _    _    * \n",
      "   97    _    _    _    _    * \n",
      "   13   24    _    _    _    * \n",
      "Players:\n",
      "  Merle    (player 1):   1 Hornochsen, cards  12   39   50:  59   62   65.  91   99+\n",
      "  Alpha0.5 (player 2):   0 Hornochsen, cards   2   25.  27   32   42   66+  67   87 \n",
      "------------------------------------------------------------------------------------------------------------------------\n"
     ]
    },
    {
     "name": "stdin",
     "output_type": "stream",
     "text": [
      "It is your turn, Merle! You have the following cards:  12  39  50  59  62  65  91  99. Choose one to play! 12\n"
     ]
    },
    {
     "name": "stderr",
     "output_type": "stream",
     "text": [
      "AlphaAlmostZero thoughts:\n",
      "      2: p = 0.12, n =  86, E[r] =  -8.3\n",
      "     25: p = 0.11, n =  36, E[r] = -10.5\n",
      "     27: p = 0.11, n =  61, E[r] =  -8.7\n",
      "     32: p = 0.11, n =  42, E[r] =  -9.9\n",
      "     42: p = 0.11, n =  92, E[r] =  -7.9\n",
      "     66: p = 0.14, n = 150, E[r] =  -7.5\n",
      "     67: p = 0.14, n =  80, E[r] =  -8.8\n",
      "  x  87: p = 0.18, n = 253, E[r] =  -7.2\n",
      "Merle    (player 1) plays card 12\n",
      "Alpha0.5 (player 2) plays card 87\n",
      "------------------------------------------------------------------------------------------------------------------------\n",
      "Board:\n",
      "    9   11+  12    _    _    * \n",
      "   19   77+  87    _    _    * \n",
      "   97    _    _    _    _    * \n",
      "   13   24    _    _    _    * \n",
      "Players:\n",
      "  Merle    (player 1):   1 Hornochsen, cards  39   50:  59   62   65.  91   99+\n",
      "  Alpha0.5 (player 2):   0 Hornochsen, cards   2   25.  27   32   42   66+  67 \n",
      "------------------------------------------------------------------------------------------------------------------------\n"
     ]
    },
    {
     "name": "stdin",
     "output_type": "stream",
     "text": [
      "It is your turn, Merle! You have the following cards:  39  50  59  62  65  91  99. Choose one to play! 99\n"
     ]
    },
    {
     "name": "stderr",
     "output_type": "stream",
     "text": [
      "AlphaAlmostZero thoughts:\n",
      "      2: p = 0.16, n =  98, E[r] =  -8.6\n",
      "     25: p = 0.13, n =  66, E[r] =  -9.0\n",
      "     27: p = 0.13, n =  76, E[r] =  -8.7\n",
      "     32: p = 0.13, n =  77, E[r] =  -8.7\n",
      "     42: p = 0.13, n =  73, E[r] =  -8.8\n",
      "  x  66: p = 0.16, n = 277, E[r] =  -6.9\n",
      "     67: p = 0.16, n = 133, E[r] =  -7.9\n",
      "Alpha0.5 (player 2) plays card 66\n",
      "Merle    (player 1) plays card 99\n",
      "------------------------------------------------------------------------------------------------------------------------\n",
      "Board:\n",
      "    9   11+  12    _    _    * \n",
      "   19   77+  87    _    _    * \n",
      "   97   99+   _    _    _    * \n",
      "   13   24   66+   _    _    * \n",
      "Players:\n",
      "  Merle    (player 1):   1 Hornochsen, cards  39   50:  59   62   65.  91 \n",
      "  Alpha0.5 (player 2):   0 Hornochsen, cards   2   25.  27   32   42   67 \n",
      "------------------------------------------------------------------------------------------------------------------------\n"
     ]
    },
    {
     "name": "stdin",
     "output_type": "stream",
     "text": [
      "It is your turn, Merle! You have the following cards:  39  50  59  62  65  91. Choose one to play! 62\n"
     ]
    },
    {
     "name": "stderr",
     "output_type": "stream",
     "text": [
      "AlphaAlmostZero thoughts:\n",
      "      2: p = 0.17, n =  77, E[r] = -11.1\n",
      "  x  25: p = 0.15, n = 186, E[r] =  -9.1\n",
      "     27: p = 0.15, n = 101, E[r] = -10.0\n",
      "     32: p = 0.15, n = 143, E[r] =  -9.4\n",
      "     42: p = 0.16, n =  99, E[r] = -10.3\n",
      "     67: p = 0.22, n = 194, E[r] =  -9.5\n",
      "Alpha0.5 (player 2) plays card 25\n",
      "Merle    (player 1) plays card 62\n",
      "------------------------------------------------------------------------------------------------------------------------\n",
      "Board:\n",
      "    9   11+  12   25.  62    * \n",
      "   19   77+  87    _    _    * \n",
      "   97   99+   _    _    _    * \n",
      "   13   24   66+   _    _    * \n",
      "Players:\n",
      "  Merle    (player 1):   1 Hornochsen, cards  39   50:  59   65.  91 \n",
      "  Alpha0.5 (player 2):   0 Hornochsen, cards   2   27   32   42   67 \n",
      "------------------------------------------------------------------------------------------------------------------------\n"
     ]
    },
    {
     "name": "stdin",
     "output_type": "stream",
     "text": [
      "It is your turn, Merle! You have the following cards:  39  50  59  65  91. Choose one to play! 91\n"
     ]
    },
    {
     "name": "stderr",
     "output_type": "stream",
     "text": [
      "AlphaAlmostZero thoughts:\n",
      "      2: p = 0.19, n =  48, E[r] = -12.3\n",
      "     27: p = 0.18, n =  38, E[r] = -13.3\n",
      "     32: p = 0.18, n =  31, E[r] = -14.8\n",
      "     42: p = 0.19, n =  46, E[r] = -12.5\n",
      "  x  67: p = 0.26, n = 637, E[r] =  -7.1\n",
      "Alpha0.5 (player 2) plays card 67\n",
      "Merle    (player 1) plays card 91\n",
      "------------------------------------------------------------------------------------------------------------------------\n",
      "Board:\n",
      "    9   11+  12   25.  62    * \n",
      "   19   77+  87   91    _    * \n",
      "   97   99+   _    _    _    * \n",
      "   13   24   66+  67    _    * \n",
      "Players:\n",
      "  Merle    (player 1):   1 Hornochsen, cards  39   50:  59   65.\n",
      "  Alpha0.5 (player 2):   0 Hornochsen, cards   2   27   32   42 \n",
      "------------------------------------------------------------------------------------------------------------------------\n"
     ]
    },
    {
     "name": "stdin",
     "output_type": "stream",
     "text": [
      "It is your turn, Merle! You have the following cards:  39  50  59  65. Choose one to play! 50\n"
     ]
    },
    {
     "name": "stderr",
     "output_type": "stream",
     "text": [
      "AlphaAlmostZero thoughts:\n",
      "      2: p = 0.25, n =  57, E[r] =  -9.3\n",
      "     27: p = 0.23, n =  49, E[r] =  -9.4\n",
      "     32: p = 0.24, n =  56, E[r] =  -9.2\n",
      "  x  42: p = 0.27, n =  78, E[r] =  -8.8\n",
      "Alpha0.5 (player 2) plays card 42\n",
      "  ...chooses to replace row 3\n",
      "  ...and gains 6 Hornochsen\n",
      "Merle    (player 1) plays card 50\n",
      "------------------------------------------------------------------------------------------------------------------------\n",
      "Board:\n",
      "    9   11+  12   25.  62    * \n",
      "   19   77+  87   91    _    * \n",
      "   42   50:   _    _    _    * \n",
      "   13   24   66+  67    _    * \n",
      "Players:\n",
      "  Merle    (player 1):   1 Hornochsen, cards  39   59   65.\n",
      "  Alpha0.5 (player 2):   6 Hornochsen, cards   2   27   32 \n",
      "------------------------------------------------------------------------------------------------------------------------\n"
     ]
    },
    {
     "name": "stdin",
     "output_type": "stream",
     "text": [
      "It is your turn, Merle! You have the following cards:  39  59  65. Choose one to play! 59\n"
     ]
    },
    {
     "name": "stderr",
     "output_type": "stream",
     "text": [
      "AlphaAlmostZero thoughts:\n",
      "  x   2: p = 0.39, n =  25, E[r] =  -6.1\n",
      "     27: p = 0.31, n =  17, E[r] =  -6.8\n",
      "     32: p = 0.30, n =  18, E[r] =  -6.4\n",
      "Alpha0.5 (player 2) plays card 2\n",
      "  ...chooses to replace row 3\n",
      "  ...and gains 4 Hornochsen\n",
      "Merle    (player 1) plays card 59\n",
      "------------------------------------------------------------------------------------------------------------------------\n",
      "Board:\n",
      "    9   11+  12   25.  62    * \n",
      "   19   77+  87   91    _    * \n",
      "    2   59    _    _    _    * \n",
      "   13   24   66+  67    _    * \n",
      "Players:\n",
      "  Merle    (player 1):   1 Hornochsen, cards  39   65.\n",
      "  Alpha0.5 (player 2):  10 Hornochsen, cards  27   32 \n",
      "------------------------------------------------------------------------------------------------------------------------\n"
     ]
    },
    {
     "name": "stdin",
     "output_type": "stream",
     "text": [
      "It is your turn, Merle! You have the following cards:  39  65. Choose one to play! 39\n"
     ]
    },
    {
     "name": "stderr",
     "output_type": "stream",
     "text": [
      "AlphaAlmostZero thoughts:\n",
      "  x  27: p = 0.50, n =  11, E[r] =  -2.4\n",
      "     32: p = 0.50, n =   9, E[r] =  -2.4\n",
      "Alpha0.5 (player 2) plays card 27\n",
      "  ...chooses to replace row 3\n",
      "  ...and gains 2 Hornochsen\n",
      "Merle    (player 1) plays card 39\n",
      "------------------------------------------------------------------------------------------------------------------------\n",
      "Board:\n",
      "    9   11+  12   25.  62    * \n",
      "   19   77+  87   91    _    * \n",
      "   27   39    _    _    _    * \n",
      "   13   24   66+  67    _    * \n",
      "Players:\n",
      "  Merle    (player 1):   1 Hornochsen, cards  65.\n",
      "  Alpha0.5 (player 2):  12 Hornochsen, cards  32 \n",
      "------------------------------------------------------------------------------------------------------------------------\n"
     ]
    },
    {
     "name": "stdin",
     "output_type": "stream",
     "text": [
      "It is your turn, Merle! You have the following cards:  65. Choose one to play! 65\n"
     ]
    },
    {
     "name": "stderr",
     "output_type": "stream",
     "text": [
      "Alpha0.5 (player 2) plays card 32\n",
      "  ...chooses to replace row 3\n",
      "  ...and gains 2 Hornochsen\n",
      "Merle    (player 1) plays card 65\n",
      "  ...and gains 10 Hornochsen\n",
      "------------------------------------------------------------------------------------------------------------------------\n",
      "Board:\n",
      "   65.   _    _    _    _    * \n",
      "   19   77+  87   91    _    * \n",
      "   32    _    _    _    _    * \n",
      "   13   24   66+  67    _    * \n",
      "Players:\n",
      "  Merle    (player 1):  11 Hornochsen, no cards \n",
      "  Alpha0.5 (player 2):  14 Hornochsen, no cards \n",
      "The game is over! Merle    (player 1) wins, Alpha0.5 (player 2) loses. Congratulations!\n",
      "------------------------------------------------------------------------------------------------------------------------\n"
     ]
    }
   ],
   "source": [
    "session.play_game(render=True)"
   ]
  },
  {
   "cell_type": "code",
   "execution_count": 56,
   "metadata": {},
   "outputs": [
    {
     "name": "stderr",
     "output_type": "stream",
     "text": [
      "Dealing cards\n",
      "------------------------------------------------------------------------------------------------------------------------\n",
      "Board:\n",
      "   31    _    _    _    _    * \n",
      "   26    _    _    _    _    * \n",
      "   88+   _    _    _    _    * \n",
      "   34    _    _    _    _    * \n",
      "Players:\n",
      "  Merle    (player 1):   0 Hornochsen, cards   4    8   21   41   52   57   63   64   98  102 \n",
      "  Alpha0.5 (player 2):   0 Hornochsen, cards  11+  15.  16   27   60:  79   83   86   91   96 \n",
      "------------------------------------------------------------------------------------------------------------------------\n"
     ]
    },
    {
     "name": "stdin",
     "output_type": "stream",
     "text": [
      "It is your turn, Merle! You have the following cards:   4   8  21  41  52  57  63  64  98 102. Choose one to play! 63\n"
     ]
    },
    {
     "name": "stderr",
     "output_type": "stream",
     "text": [
      "AlphaAlmostZero thoughts:\n",
      "     11: p = 0.11, n =  39, E[r] = -11.6\n",
      "     15: p = 0.10, n =  80, E[r] =  -9.4\n",
      "     16: p = 0.10, n =  73, E[r] =  -9.6\n",
      "     27: p = 0.09, n =  72, E[r] =  -9.3\n",
      "     60: p = 0.09, n =  45, E[r] = -10.4\n",
      "     79: p = 0.10, n =  89, E[r] =  -9.1\n",
      "     83: p = 0.10, n =  81, E[r] =  -9.3\n",
      "  x  86: p = 0.10, n = 132, E[r] =  -8.6\n",
      "     91: p = 0.11, n = 113, E[r] =  -8.9\n",
      "     96: p = 0.11, n =  76, E[r] =  -9.7\n",
      "Merle    (player 1) plays card 63\n",
      "Alpha0.5 (player 2) plays card 86\n",
      "------------------------------------------------------------------------------------------------------------------------\n",
      "Board:\n",
      "   31    _    _    _    _    * \n",
      "   26    _    _    _    _    * \n",
      "   88+   _    _    _    _    * \n",
      "   34   63   86    _    _    * \n",
      "Players:\n",
      "  Merle    (player 1):   0 Hornochsen, cards   4    8   21   41   52   57   64   98  102 \n",
      "  Alpha0.5 (player 2):   0 Hornochsen, cards  11+  15.  16   27   60:  79   83   91   96 \n",
      "------------------------------------------------------------------------------------------------------------------------\n"
     ]
    },
    {
     "name": "stdin",
     "output_type": "stream",
     "text": [
      "It is your turn, Merle! You have the following cards:   4   8  21  41  52  57  64  98 102. Choose one to play! 57\n"
     ]
    },
    {
     "name": "stderr",
     "output_type": "stream",
     "text": [
      "AlphaAlmostZero thoughts:\n",
      "     11: p = 0.14, n =  86, E[r] =  -9.0\n",
      "     15: p = 0.13, n =  98, E[r] =  -8.5\n",
      "     16: p = 0.13, n = 119, E[r] =  -8.1\n",
      "     27: p = 0.11, n =  80, E[r] =  -8.7\n",
      "     60: p = 0.09, n =  58, E[r] =  -8.8\n",
      "     79: p = 0.09, n =  94, E[r] =  -8.0\n",
      "  x  83: p = 0.10, n = 104, E[r] =  -7.8\n",
      "     91: p = 0.10, n =  90, E[r] =  -8.2\n",
      "     96: p = 0.11, n =  71, E[r] =  -8.9\n",
      "Merle    (player 1) plays card 57\n",
      "Alpha0.5 (player 2) plays card 83\n",
      "------------------------------------------------------------------------------------------------------------------------\n",
      "Board:\n",
      "   31   57   83    _    _    * \n",
      "   26    _    _    _    _    * \n",
      "   88+   _    _    _    _    * \n",
      "   34   63   86    _    _    * \n",
      "Players:\n",
      "  Merle    (player 1):   0 Hornochsen, cards   4    8   21   41   52   64   98  102 \n",
      "  Alpha0.5 (player 2):   0 Hornochsen, cards  11+  15.  16   27   60:  79   91   96 \n",
      "------------------------------------------------------------------------------------------------------------------------\n"
     ]
    },
    {
     "name": "stdin",
     "output_type": "stream",
     "text": [
      "It is your turn, Merle! You have the following cards:   4   8  21  41  52  64  98 102. Choose one to play! 98\n"
     ]
    },
    {
     "name": "stderr",
     "output_type": "stream",
     "text": [
      "AlphaAlmostZero thoughts:\n",
      "     11: p = 0.12, n =  93, E[r] =  -8.1\n",
      "  x  15: p = 0.11, n = 110, E[r] =  -7.6\n",
      "     16: p = 0.11, n = 105, E[r] =  -7.7\n",
      "     27: p = 0.10, n =  67, E[r] =  -8.5\n",
      "     60: p = 0.11, n =  97, E[r] =  -7.9\n",
      "     79: p = 0.13, n =  82, E[r] =  -8.6\n",
      "     91: p = 0.15, n = 132, E[r] =  -7.7\n",
      "     96: p = 0.16, n = 114, E[r] =  -8.2\n",
      "Alpha0.5 (player 2) plays card 15\n",
      "  ...chooses to replace row 2\n",
      "  ...and gains 1 Hornochsen\n",
      "Merle    (player 1) plays card 98\n",
      "------------------------------------------------------------------------------------------------------------------------\n",
      "Board:\n",
      "   31   57   83    _    _    * \n",
      "   15.   _    _    _    _    * \n",
      "   88+  98    _    _    _    * \n",
      "   34   63   86    _    _    * \n",
      "Players:\n",
      "  Merle    (player 1):   0 Hornochsen, cards   4    8   21   41   52   64  102 \n",
      "  Alpha0.5 (player 2):   1 Hornochsen, cards  11+  16   27   60:  79   91   96 \n",
      "------------------------------------------------------------------------------------------------------------------------\n"
     ]
    },
    {
     "name": "stdin",
     "output_type": "stream",
     "text": [
      "It is your turn, Merle! You have the following cards:   4   8  21  41  52  64 102. Choose one to play! 21\n"
     ]
    },
    {
     "name": "stderr",
     "output_type": "stream",
     "text": [
      "AlphaAlmostZero thoughts:\n",
      "     11: p = 0.10, n =  62, E[r] =  -7.5\n",
      "  x  16: p = 0.10, n = 108, E[r] =  -6.6\n",
      "     27: p = 0.10, n =  60, E[r] =  -7.6\n",
      "     60: p = 0.13, n = 122, E[r] =  -6.9\n",
      "     79: p = 0.17, n = 132, E[r] =  -7.1\n",
      "     91: p = 0.20, n = 151, E[r] =  -7.2\n",
      "     96: p = 0.21, n = 165, E[r] =  -7.2\n",
      "Alpha0.5 (player 2) plays card 16\n",
      "Merle    (player 1) plays card 21\n",
      "------------------------------------------------------------------------------------------------------------------------\n",
      "Board:\n",
      "   31   57   83    _    _    * \n",
      "   15.  16   21    _    _    * \n",
      "   88+  98    _    _    _    * \n",
      "   34   63   86    _    _    * \n",
      "Players:\n",
      "  Merle    (player 1):   0 Hornochsen, cards   4    8   41   52   64  102 \n",
      "  Alpha0.5 (player 2):   1 Hornochsen, cards  11+  27   60:  79   91   96 \n",
      "------------------------------------------------------------------------------------------------------------------------\n"
     ]
    },
    {
     "name": "stdin",
     "output_type": "stream",
     "text": [
      "It is your turn, Merle! You have the following cards:   4   8  41  52  64 102. Choose one to play! 64\n"
     ]
    },
    {
     "name": "stderr",
     "output_type": "stream",
     "text": [
      "AlphaAlmostZero thoughts:\n",
      "     11: p = 0.10, n =  42, E[r] =  -9.5\n",
      "  x  27: p = 0.10, n = 135, E[r] =  -6.8\n",
      "     60: p = 0.13, n =  61, E[r] =  -8.9\n",
      "     79: p = 0.17, n = 147, E[r] =  -7.5\n",
      "     91: p = 0.23, n = 139, E[r] =  -8.3\n",
      "     96: p = 0.27, n = 276, E[r] =  -7.2\n",
      "Alpha0.5 (player 2) plays card 27\n",
      "Merle    (player 1) plays card 64\n",
      "------------------------------------------------------------------------------------------------------------------------\n",
      "Board:\n",
      "   31   57   83    _    _    * \n",
      "   15.  16   21   27   64    * \n",
      "   88+  98    _    _    _    * \n",
      "   34   63   86    _    _    * \n",
      "Players:\n",
      "  Merle    (player 1):   0 Hornochsen, cards   4    8   41   52  102 \n",
      "  Alpha0.5 (player 2):   1 Hornochsen, cards  11+  60:  79   91   96 \n",
      "------------------------------------------------------------------------------------------------------------------------\n"
     ]
    },
    {
     "name": "stdin",
     "output_type": "stream",
     "text": [
      "It is your turn, Merle! You have the following cards:   4   8  41  52 102. Choose one to play! 102\n"
     ]
    },
    {
     "name": "stderr",
     "output_type": "stream",
     "text": [
      "AlphaAlmostZero thoughts:\n",
      "     11: p = 0.09, n =  50, E[r] =  -6.7\n",
      "     60: p = 0.13, n =  89, E[r] =  -6.1\n",
      "     79: p = 0.20, n =  86, E[r] =  -7.3\n",
      "     91: p = 0.27, n = 209, E[r] =  -5.8\n",
      "  x  96: p = 0.30, n = 366, E[r] =  -5.2\n",
      "Alpha0.5 (player 2) plays card 96\n",
      "Merle    (player 1) plays card 102\n",
      "------------------------------------------------------------------------------------------------------------------------\n",
      "Board:\n",
      "   31   57   83    _    _    * \n",
      "   15.  16   21   27   64    * \n",
      "   88+  98  102    _    _    * \n",
      "   34   63   86   96    _    * \n",
      "Players:\n",
      "  Merle    (player 1):   0 Hornochsen, cards   4    8   41   52 \n",
      "  Alpha0.5 (player 2):   1 Hornochsen, cards  11+  60:  79   91 \n",
      "------------------------------------------------------------------------------------------------------------------------\n"
     ]
    },
    {
     "name": "stdin",
     "output_type": "stream",
     "text": [
      "It is your turn, Merle! You have the following cards:   4   8  41  52. Choose one to play! 4\n"
     ]
    },
    {
     "name": "stderr",
     "output_type": "stream",
     "text": [
      "AlphaAlmostZero thoughts:\n",
      "     11: p = 0.07, n =  11, E[r] =  -7.3\n",
      "     60: p = 0.17, n =  44, E[r] =  -5.7\n",
      "     79: p = 0.30, n =  59, E[r] =  -6.4\n",
      "  x  91: p = 0.45, n = 126, E[r] =  -5.6\n",
      "Merle    (player 1) plays card 4\n",
      "  ...chooses to replace row 1\n",
      "  ...and gains 3 Hornochsen\n",
      "Alpha0.5 (player 2) plays card 91\n",
      "  ...and gains 6 Hornochsen\n",
      "------------------------------------------------------------------------------------------------------------------------\n",
      "Board:\n",
      "    4    _    _    _    _    * \n",
      "   91    _    _    _    _    * \n",
      "   88+  98  102    _    _    * \n",
      "   34   63   86   96    _    * \n",
      "Players:\n",
      "  Merle    (player 1):   3 Hornochsen, cards   8   41   52 \n",
      "  Alpha0.5 (player 2):   7 Hornochsen, cards  11+  60:  79 \n",
      "------------------------------------------------------------------------------------------------------------------------\n"
     ]
    },
    {
     "name": "stdin",
     "output_type": "stream",
     "text": [
      "It is your turn, Merle! You have the following cards:   8  41  52. Choose one to play! 8\n"
     ]
    },
    {
     "name": "stderr",
     "output_type": "stream",
     "text": [
      "AlphaAlmostZero thoughts:\n",
      "     11: p = 0.51, n =  25, E[r] =  -2.9\n",
      "  x  60: p = 0.25, n =  20, E[r] =  -1.0\n",
      "     79: p = 0.24, n =  15, E[r] =  -1.9\n",
      "Merle    (player 1) plays card 8\n",
      "Alpha0.5 (player 2) plays card 60\n",
      "------------------------------------------------------------------------------------------------------------------------\n",
      "Board:\n",
      "    4    8   60:   _    _    * \n",
      "   91    _    _    _    _    * \n",
      "   88+  98  102    _    _    * \n",
      "   34   63   86   96    _    * \n",
      "Players:\n",
      "  Merle    (player 1):   3 Hornochsen, cards  41   52 \n",
      "  Alpha0.5 (player 2):   7 Hornochsen, cards  11+  79 \n",
      "------------------------------------------------------------------------------------------------------------------------\n"
     ]
    },
    {
     "name": "stdin",
     "output_type": "stream",
     "text": [
      "It is your turn, Merle! You have the following cards:  41  52. Choose one to play! 41\n"
     ]
    },
    {
     "name": "stderr",
     "output_type": "stream",
     "text": [
      "AlphaAlmostZero thoughts:\n",
      "  x  11: p = 0.54, n =  12, E[r] =  -0.9\n",
      "     79: p = 0.46, n =   8, E[r] =  -1.1\n",
      "Alpha0.5 (player 2) plays card 11\n",
      "  ...chooses to replace row 2\n",
      "  ...and gains 1 Hornochsen\n",
      "Merle    (player 1) plays card 41\n",
      "------------------------------------------------------------------------------------------------------------------------\n",
      "Board:\n",
      "    4    8   60:   _    _    * \n",
      "   11+  41    _    _    _    * \n",
      "   88+  98  102    _    _    * \n",
      "   34   63   86   96    _    * \n",
      "Players:\n",
      "  Merle    (player 1):   3 Hornochsen, cards  52 \n",
      "  Alpha0.5 (player 2):   8 Hornochsen, cards  79 \n",
      "------------------------------------------------------------------------------------------------------------------------\n"
     ]
    },
    {
     "name": "stdin",
     "output_type": "stream",
     "text": [
      "It is your turn, Merle! You have the following cards:  52. Choose one to play! 52\n"
     ]
    },
    {
     "name": "stderr",
     "output_type": "stream",
     "text": [
      "Merle    (player 1) plays card 52\n",
      "Alpha0.5 (player 2) plays card 79\n",
      "------------------------------------------------------------------------------------------------------------------------\n",
      "Board:\n",
      "    4    8   60:  79    _    * \n",
      "   11+  41   52    _    _    * \n",
      "   88+  98  102    _    _    * \n",
      "   34   63   86   96    _    * \n",
      "Players:\n",
      "  Merle    (player 1):   3 Hornochsen, no cards \n",
      "  Alpha0.5 (player 2):   8 Hornochsen, no cards \n",
      "The game is over! Merle    (player 1) wins, Alpha0.5 (player 2) loses. Congratulations!\n",
      "------------------------------------------------------------------------------------------------------------------------\n"
     ]
    }
   ],
   "source": [
    "session.play_game(render=True)"
   ]
  },
  {
   "cell_type": "code",
   "execution_count": 57,
   "metadata": {},
   "outputs": [
    {
     "name": "stderr",
     "output_type": "stream",
     "text": [
      "Dealing cards\n",
      "------------------------------------------------------------------------------------------------------------------------\n",
      "Board:\n",
      "   78    _    _    _    _    * \n",
      "   33+   _    _    _    _    * \n",
      "    8    _    _    _    _    * \n",
      "   23    _    _    _    _    * \n",
      "Players:\n",
      "  Merle    (player 1):   0 Hornochsen, cards  25.  31   57   58   60:  63   66+  83   93  101 \n",
      "  Alpha0.5 (player 2):   0 Hornochsen, cards  19   32   48   56   59   68   90:  98  102  104 \n",
      "------------------------------------------------------------------------------------------------------------------------\n"
     ]
    },
    {
     "name": "stdin",
     "output_type": "stream",
     "text": [
      "It is your turn, Merle! You have the following cards:  25  31  57  58  60  63  66  83  93 101. Choose one to play! 57\n"
     ]
    },
    {
     "name": "stderr",
     "output_type": "stream",
     "text": [
      "AlphaAlmostZero thoughts:\n",
      "     19: p = 0.08, n =  46, E[r] =  -7.9\n",
      "     32: p = 0.07, n =  51, E[r] =  -7.3\n",
      "     48: p = 0.07, n =  31, E[r] =  -8.7\n",
      "     56: p = 0.08, n =  31, E[r] =  -9.0\n",
      "     59: p = 0.08, n =  28, E[r] =  -9.6\n",
      "     68: p = 0.09, n =  41, E[r] =  -8.5\n",
      "     90: p = 0.12, n =  83, E[r] =  -7.4\n",
      "  x  98: p = 0.13, n = 207, E[r] =  -6.1\n",
      "    102: p = 0.14, n = 140, E[r] =  -6.7\n",
      "    104: p = 0.14, n = 142, E[r] =  -6.8\n",
      "Merle    (player 1) plays card 57\n",
      "Alpha0.5 (player 2) plays card 98\n",
      "------------------------------------------------------------------------------------------------------------------------\n",
      "Board:\n",
      "   78   98    _    _    _    * \n",
      "   33+  57    _    _    _    * \n",
      "    8    _    _    _    _    * \n",
      "   23    _    _    _    _    * \n",
      "Players:\n",
      "  Merle    (player 1):   0 Hornochsen, cards  25.  31   58   60:  63   66+  83   93  101 \n",
      "  Alpha0.5 (player 2):   0 Hornochsen, cards  19   32   48   56   59   68   90: 102  104 \n",
      "------------------------------------------------------------------------------------------------------------------------\n"
     ]
    },
    {
     "name": "stdin",
     "output_type": "stream",
     "text": [
      "It is your turn, Merle! You have the following cards:  25  31  58  60  63  66  83  93 101. Choose one to play! 101\n"
     ]
    },
    {
     "name": "stderr",
     "output_type": "stream",
     "text": [
      "AlphaAlmostZero thoughts:\n",
      "     19: p = 0.08, n =  74, E[r] =  -6.4\n",
      "     32: p = 0.08, n =  72, E[r] =  -6.3\n",
      "     48: p = 0.09, n =  64, E[r] =  -6.9\n",
      "     56: p = 0.10, n =  54, E[r] =  -7.3\n",
      "     59: p = 0.10, n =  37, E[r] =  -8.8\n",
      "     68: p = 0.11, n =  34, E[r] =  -9.4\n",
      "  x  90: p = 0.13, n = 201, E[r] =  -5.7\n",
      "    102: p = 0.15, n = 118, E[r] =  -6.6\n",
      "    104: p = 0.15, n = 146, E[r] =  -6.3\n",
      "Alpha0.5 (player 2) plays card 90\n",
      "Merle    (player 1) plays card 101\n",
      "------------------------------------------------------------------------------------------------------------------------\n",
      "Board:\n",
      "   78   98  101    _    _    * \n",
      "   33+  57   90:   _    _    * \n",
      "    8    _    _    _    _    * \n",
      "   23    _    _    _    _    * \n",
      "Players:\n",
      "  Merle    (player 1):   0 Hornochsen, cards  25.  31   58   60:  63   66+  83   93 \n",
      "  Alpha0.5 (player 2):   0 Hornochsen, cards  19   32   48   56   59   68  102  104 \n",
      "------------------------------------------------------------------------------------------------------------------------\n"
     ]
    },
    {
     "name": "stdin",
     "output_type": "stream",
     "text": [
      "It is your turn, Merle! You have the following cards:  25  31  58  60  63  66  83  93. Choose one to play! 93\n"
     ]
    },
    {
     "name": "stderr",
     "output_type": "stream",
     "text": [
      "AlphaAlmostZero thoughts:\n",
      "  x  19: p = 0.10, n = 134, E[r] =  -4.1\n",
      "     32: p = 0.10, n =  99, E[r] =  -4.4\n",
      "     48: p = 0.10, n =  61, E[r] =  -5.2\n",
      "     56: p = 0.11, n =  83, E[r] =  -4.9\n",
      "     59: p = 0.11, n =  77, E[r] =  -5.0\n",
      "     68: p = 0.12, n =  69, E[r] =  -5.3\n",
      "    102: p = 0.18, n = 143, E[r] =  -4.7\n",
      "    104: p = 0.18, n = 134, E[r] =  -4.8\n",
      "Alpha0.5 (player 2) plays card 19\n",
      "Merle    (player 1) plays card 93\n",
      "------------------------------------------------------------------------------------------------------------------------\n",
      "Board:\n",
      "   78   98  101    _    _    * \n",
      "   33+  57   90:  93    _    * \n",
      "    8   19    _    _    _    * \n",
      "   23    _    _    _    _    * \n",
      "Players:\n",
      "  Merle    (player 1):   0 Hornochsen, cards  25.  31   58   60:  63   66+  83 \n",
      "  Alpha0.5 (player 2):   0 Hornochsen, cards  32   48   56   59   68  102  104 \n",
      "------------------------------------------------------------------------------------------------------------------------\n"
     ]
    },
    {
     "name": "stdin",
     "output_type": "stream",
     "text": [
      "It is your turn, Merle! You have the following cards:  25  31  58  60  63  66  83. Choose one to play! 58\n"
     ]
    },
    {
     "name": "stderr",
     "output_type": "stream",
     "text": [
      "AlphaAlmostZero thoughts:\n",
      "     32: p = 0.12, n =  56, E[r] =  -6.0\n",
      "     48: p = 0.12, n =  33, E[r] =  -8.1\n",
      "     56: p = 0.13, n =  49, E[r] =  -6.6\n",
      "     59: p = 0.13, n =  64, E[r] =  -5.9\n",
      "     68: p = 0.14, n =  69, E[r] =  -5.7\n",
      "  x 102: p = 0.18, n = 446, E[r] =  -3.4\n",
      "    104: p = 0.19, n =  83, E[r] =  -6.1\n",
      "Merle    (player 1) plays card 58\n",
      "Alpha0.5 (player 2) plays card 102\n",
      "------------------------------------------------------------------------------------------------------------------------\n",
      "Board:\n",
      "   78   98  101  102    _    * \n",
      "   33+  57   90:  93    _    * \n",
      "    8   19    _    _    _    * \n",
      "   23   58    _    _    _    * \n",
      "Players:\n",
      "  Merle    (player 1):   0 Hornochsen, cards  25.  31   60:  63   66+  83 \n",
      "  Alpha0.5 (player 2):   0 Hornochsen, cards  32   48   56   59   68  104 \n",
      "------------------------------------------------------------------------------------------------------------------------\n"
     ]
    },
    {
     "name": "stdin",
     "output_type": "stream",
     "text": [
      "It is your turn, Merle! You have the following cards:  25  31  60  63  66  83. Choose one to play! 25\n"
     ]
    },
    {
     "name": "stderr",
     "output_type": "stream",
     "text": [
      "AlphaAlmostZero thoughts:\n",
      "  x  32: p = 0.15, n = 152, E[r] =  -3.1\n",
      "     48: p = 0.15, n = 112, E[r] =  -3.6\n",
      "     56: p = 0.14, n =  96, E[r] =  -3.7\n",
      "     59: p = 0.14, n = 124, E[r] =  -3.4\n",
      "     68: p = 0.15, n = 117, E[r] =  -3.5\n",
      "    104: p = 0.27, n = 199, E[r] =  -3.5\n",
      "Merle    (player 1) plays card 25\n",
      "Alpha0.5 (player 2) plays card 32\n",
      "------------------------------------------------------------------------------------------------------------------------\n",
      "Board:\n",
      "   78   98  101  102    _    * \n",
      "   33+  57   90:  93    _    * \n",
      "    8   19   25.  32    _    * \n",
      "   23   58    _    _    _    * \n",
      "Players:\n",
      "  Merle    (player 1):   0 Hornochsen, cards  31   60:  63   66+  83 \n",
      "  Alpha0.5 (player 2):   0 Hornochsen, cards  48   56   59   68  104 \n",
      "------------------------------------------------------------------------------------------------------------------------\n"
     ]
    },
    {
     "name": "stdin",
     "output_type": "stream",
     "text": [
      "It is your turn, Merle! You have the following cards:  31  60  63  66  83. Choose one to play! 66\n"
     ]
    },
    {
     "name": "stderr",
     "output_type": "stream",
     "text": [
      "AlphaAlmostZero thoughts:\n",
      "     48: p = 0.12, n =  87, E[r] =  -4.9\n",
      "     56: p = 0.14, n =  55, E[r] =  -6.1\n",
      "     59: p = 0.14, n =  59, E[r] =  -6.1\n",
      "  x  68: p = 0.17, n = 305, E[r] =  -3.9\n",
      "    104: p = 0.43, n = 294, E[r] =  -4.9\n",
      "Merle    (player 1) plays card 66\n",
      "Alpha0.5 (player 2) plays card 68\n",
      "------------------------------------------------------------------------------------------------------------------------\n",
      "Board:\n",
      "   78   98  101  102    _    * \n",
      "   33+  57   90:  93    _    * \n",
      "    8   19   25.  32    _    * \n",
      "   23   58   66+  68    _    * \n",
      "Players:\n",
      "  Merle    (player 1):   0 Hornochsen, cards  31   60:  63   83 \n",
      "  Alpha0.5 (player 2):   0 Hornochsen, cards  48   56   59  104 \n",
      "------------------------------------------------------------------------------------------------------------------------\n"
     ]
    },
    {
     "name": "stdin",
     "output_type": "stream",
     "text": [
      "It is your turn, Merle! You have the following cards:  31  60  63  83. Choose one to play! 83\n"
     ]
    },
    {
     "name": "stderr",
     "output_type": "stream",
     "text": [
      "AlphaAlmostZero thoughts:\n",
      "  x  48: p = 0.09, n =  25, E[r] =  -4.4\n",
      "     56: p = 0.12, n =  11, E[r] =  -9.0\n",
      "     59: p = 0.14, n =  30, E[r] =  -4.9\n",
      "    104: p = 0.65, n = 174, E[r] =  -4.5\n",
      "Alpha0.5 (player 2) plays card 48\n",
      "Merle    (player 1) plays card 83\n",
      "------------------------------------------------------------------------------------------------------------------------\n",
      "Board:\n",
      "   78   98  101  102    _    * \n",
      "   33+  57   90:  93    _    * \n",
      "    8   19   25.  32   48    * \n",
      "   23   58   66+  68   83    * \n",
      "Players:\n",
      "  Merle    (player 1):   0 Hornochsen, cards  31   60:  63 \n",
      "  Alpha0.5 (player 2):   0 Hornochsen, cards  56   59  104 \n",
      "------------------------------------------------------------------------------------------------------------------------\n"
     ]
    },
    {
     "name": "stdin",
     "output_type": "stream",
     "text": [
      "It is your turn, Merle! You have the following cards:  31  60  63. Choose one to play! 31\n"
     ]
    },
    {
     "name": "stderr",
     "output_type": "stream",
     "text": [
      "AlphaAlmostZero thoughts:\n",
      "     56: p = 0.14, n =   4, E[r] =  -6.2\n",
      "     59: p = 0.15, n =   4, E[r] =  -6.2\n",
      "  x 104: p = 0.71, n =  52, E[r] =  -4.2\n",
      "Merle    (player 1) plays card 31\n",
      "  ...chooses to replace row 1\n",
      "  ...and gains 4 Hornochsen\n",
      "Alpha0.5 (player 2) plays card 104\n",
      "------------------------------------------------------------------------------------------------------------------------\n",
      "Board:\n",
      "   31    _    _    _    _    * \n",
      "   33+  57   90:  93  104    * \n",
      "    8   19   25.  32   48    * \n",
      "   23   58   66+  68   83    * \n",
      "Players:\n",
      "  Merle    (player 1):   4 Hornochsen, cards  60:  63 \n",
      "  Alpha0.5 (player 2):   0 Hornochsen, cards  56   59 \n",
      "------------------------------------------------------------------------------------------------------------------------\n"
     ]
    },
    {
     "name": "stdin",
     "output_type": "stream",
     "text": [
      "It is your turn, Merle! You have the following cards:  60  63. Choose one to play! 60\n"
     ]
    },
    {
     "name": "stderr",
     "output_type": "stream",
     "text": [
      "../rl_6_nimmt/agents/mcts.py:302: RuntimeWarning: invalid value encountered in true_divide\n",
      "  q = np.clip((q - min_return) / (max_return - min_return), 0., 1.)\n",
      "AlphaAlmostZero thoughts:\n",
      "  x  56: p = 0.50, n =  11, E[r] =  -5.5\n",
      "     59: p = 0.50, n =   9, E[r] =  -6.0\n",
      "Alpha0.5 (player 2) plays card 56\n",
      "  ...and gains 6 Hornochsen\n",
      "Merle    (player 1) plays card 60\n",
      "------------------------------------------------------------------------------------------------------------------------\n",
      "Board:\n",
      "   31    _    _    _    _    * \n",
      "   33+  57   90:  93  104    * \n",
      "   56   60:   _    _    _    * \n",
      "   23   58   66+  68   83    * \n",
      "Players:\n",
      "  Merle    (player 1):   4 Hornochsen, cards  63 \n",
      "  Alpha0.5 (player 2):   6 Hornochsen, cards  59 \n",
      "------------------------------------------------------------------------------------------------------------------------\n"
     ]
    },
    {
     "name": "stdin",
     "output_type": "stream",
     "text": [
      "It is your turn, Merle! You have the following cards:  63. Choose one to play! 63\n"
     ]
    },
    {
     "name": "stderr",
     "output_type": "stream",
     "text": [
      "Alpha0.5 (player 2) plays card 59\n",
      "Merle    (player 1) plays card 63\n",
      "------------------------------------------------------------------------------------------------------------------------\n",
      "Board:\n",
      "   31   59    _    _    _    * \n",
      "   33+  57   90:  93  104    * \n",
      "   56   60:  63    _    _    * \n",
      "   23   58   66+  68   83    * \n",
      "Players:\n",
      "  Merle    (player 1):   4 Hornochsen, no cards \n",
      "  Alpha0.5 (player 2):   6 Hornochsen, no cards \n",
      "The game is over! Merle    (player 1) wins, Alpha0.5 (player 2) loses. Congratulations!\n",
      "------------------------------------------------------------------------------------------------------------------------\n"
     ]
    }
   ],
   "source": [
    "session.play_game(render=True)"
   ]
  },
  {
   "cell_type": "code",
   "execution_count": null,
   "metadata": {},
   "outputs": [],
   "source": []
  }
 ],
 "metadata": {
  "kernelspec": {
   "display_name": "Python (rl)",
   "language": "python",
   "name": "rl"
  },
  "language_info": {
   "codemirror_mode": {
    "name": "ipython",
    "version": 3
   },
   "file_extension": ".py",
   "mimetype": "text/x-python",
   "name": "python",
   "nbconvert_exporter": "python",
   "pygments_lexer": "ipython3",
   "version": "3.8.2"
  }
 },
 "nbformat": 4,
 "nbformat_minor": 4
}
