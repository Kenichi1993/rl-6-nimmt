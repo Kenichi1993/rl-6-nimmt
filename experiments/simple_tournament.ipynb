{
 "cells": [
  {
   "cell_type": "markdown",
   "metadata": {},
   "source": [
    "# Small Nimm 6 tournament"
   ]
  },
  {
   "cell_type": "code",
   "execution_count": 1,
   "metadata": {},
   "outputs": [],
   "source": [
    "import numpy as np\n",
    "import logging\n",
    "import sys\n",
    "import torch\n",
    "import pickle\n",
    "from tqdm import tqdm\n",
    "from matplotlib import pyplot as plt\n",
    "\n",
    "sys.path.append(\"../\")\n",
    "\n",
    "from rl_6_nimmt import Tournament, GameSession\n",
    "from rl_6_nimmt.agents import Human, DrunkHamster, BatchedACERAgent, Noisy_D3QN_PRB_NStep, MCSAgent, PolicyMCSAgent, PUCTAgent\n",
    "\n",
    "logging.basicConfig(format=\"%(message)s\",level=logging.INFO)\n",
    "for name in logging.root.manager.loggerDict:\n",
    "    if not \"rl_6_nimmt\" in name:\n",
    "        logging.getLogger(name).setLevel(logging.WARNING)\n"
   ]
  },
  {
   "cell_type": "markdown",
   "metadata": {},
   "source": [
    "## Agents"
   ]
  },
  {
   "cell_type": "code",
   "execution_count": 2,
   "metadata": {},
   "outputs": [],
   "source": [
    "agents = {}\n",
    "    \n",
    "agents[f\"Random\"] = DrunkHamster()\n",
    "agents[f\"D3QN\"] = Noisy_D3QN_PRB_NStep(history_length=int(1e5), n_steps=10)\n",
    "agents[f\"ACER\"] = BatchedACERAgent(minibatch=10)\n",
    "agents[f\"MCS\"] = MCSAgent(mc_max=100)\n",
    "agents[f\"PolicyMCS\"] = PolicyMCSAgent(mc_max=100)\n",
    "agents[f\"AlphaAlmostZero\"] = PUCTAgent(mc_max=100)\n",
    "\n",
    "for agent in agents.values():\n",
    "    try:\n",
    "        agent.train()\n",
    "    except:\n",
    "        pass\n",
    "    \n",
    "baseline_agents = [DrunkHamster()]\n",
    "\n",
    "merle = Human(\"Merle\")\n"
   ]
  },
  {
   "cell_type": "code",
   "execution_count": 3,
   "metadata": {},
   "outputs": [
    {
     "name": "stdout",
     "output_type": "stream",
     "text": [
      "Tournament after 0 games:\n",
      "----------------------------------------------------------------------------------------------------\n",
      " Agent                | Games | Tournament score | Tournament wins | Baseline score | Baseline wins \n",
      "----------------------------------------------------------------------------------------------------\n",
      "               Random |     0 |                - |               - |              - |             - \n",
      "                 D3QN |     0 |                - |               - |              - |             - \n",
      "                 ACER |     0 |                - |               - |              - |             - \n",
      "                  MCS |     0 |                - |               - |              - |             - \n",
      "            PolicyMCS |     0 |                - |               - |              - |             - \n",
      "      AlphaAlmostZero |     0 |                - |               - |              - |             - \n",
      "----------------------------------------------------------------------------------------------------\n"
     ]
    }
   ],
   "source": [
    "tournament = Tournament(min_players=2, max_players=2, baseline_agents=baseline_agents)\n",
    "\n",
    "for name, agent in agents.items():\n",
    "    tournament.add_player(name, agent)\n",
    "\n",
    "print(tournament)"
   ]
  },
  {
   "cell_type": "markdown",
   "metadata": {},
   "source": [
    "## Load existing state (skip when running this for the first time)"
   ]
  },
  {
   "cell_type": "code",
   "execution_count": 4,
   "metadata": {},
   "outputs": [],
   "source": [
    "# agents, tournament = pickle.load(open(\"./.tournament.pickle\", \"rb\"))\n",
    "\n",
    "# print(tournament)"
   ]
  },
  {
   "cell_type": "markdown",
   "metadata": {},
   "source": [
    "## Let the games begin"
   ]
  },
  {
   "cell_type": "code",
   "execution_count": null,
   "metadata": {},
   "outputs": [
    {
     "name": "stderr",
     "output_type": "stream",
     "text": [
      "  0%|          | 0/100 [00:00<?, ?it/s]"
     ]
    }
   ],
   "source": [
    "num_games = 10000\n",
    "block_len = 100\n",
    "\n",
    "try:\n",
    "    tqdm._instances.clear()  # Important after cancelling any step\n",
    "except:\n",
    "    pass\n",
    "\n",
    "while tournament.total_games < num_games:\n",
    "    for _ in tqdm(range(block_len)):\n",
    "        tournament.play_game()\n",
    "    print(tournament)\n",
    "        \n",
    "    if tournament.total_games < num_games:\n",
    "        tournament.evolve(max_players=8, max_per_descendant=3, copies=(2,2))\n"
   ]
  },
  {
   "cell_type": "code",
   "execution_count": null,
   "metadata": {},
   "outputs": [],
   "source": [
    "pickle.dump((agents, tournament), open( \"./.tournament.pickle\", \"wb\" ))"
   ]
  },
  {
   "cell_type": "markdown",
   "metadata": {},
   "source": [
    "## Let's see the results"
   ]
  },
  {
   "cell_type": "code",
   "execution_count": null,
   "metadata": {},
   "outputs": [],
   "source": [
    "print(tournament)"
   ]
  },
  {
   "cell_type": "code",
   "execution_count": null,
   "metadata": {},
   "outputs": [],
   "source": [
    "def plot_running_mean(x, y, n=10, **kwargs):\n",
    "    cumsum = np.cumsum(np.insert(y, 0, 0))\n",
    "    running_mean_y = (cumsum[n:] - cumsum[:-n]) / n\n",
    "    \n",
    "    cumsum = np.cumsum(np.insert(x, 0, 0))\n",
    "    running_mean_x = (cumsum[n:] - cumsum[:-n]) / n\n",
    "    \n",
    "    plt.plot(running_mean_x, running_mean_y, **kwargs)\n"
   ]
  },
  {
   "cell_type": "code",
   "execution_count": null,
   "metadata": {},
   "outputs": [],
   "source": [
    "labels = [\n",
    "    \"Mean Hornochsen in tournament\",\n",
    "    \"Mean Hornochsen vs baseline\",\n",
    "    \"Win fraction in tournament\",\n",
    "    \"Win fraction vs baseline\"\n",
    "]\n",
    "quantities = [\n",
    "    tournament.tournament_scores,\n",
    "    tournament.baseline_scores,\n",
    "    tournament.tournament_wins,\n",
    "    tournament.baseline_wins\n",
    "]\n",
    "fns = [lambda x : -x, lambda x : -x, lambda x : x, lambda x : x]\n",
    "baselines = [False, True, False, True]\n",
    "\n",
    "colors = {\n",
    "    \"DQN\": \"C0\",\n",
    "    \"ACER\": \"C1\",\n",
    "    \"MCS\": \"C2\",\n",
    "    \"AlphaAlmostZero\": \"C3\",\n",
    "    \"Random\": \"0.6\",\n",
    "}\n",
    "lss = {\n",
    "    \"DQN\": \"-\",\n",
    "    \"ACER\": \"-\",\n",
    "    \"MCS\": \"-\",\n",
    "    \"AlphaAlmostZero\": \"-\",\n",
    "    \"Random\": \"-\",\n",
    "}"
   ]
  },
  {
   "cell_type": "code",
   "execution_count": null,
   "metadata": {},
   "outputs": [],
   "source": [
    "fig = plt.figure(figsize=(10,10))\n",
    "\n",
    "for panel, (quantity, label, fn, baseline) in enumerate(zip(quantities, labels, fns, baselines)):\n",
    "    ax = plt.subplot(2,2,panel + 1)\n",
    "    \n",
    "    for name in tournament.agents.keys():\n",
    "        y = np.array(quantity[name])\n",
    "        x = 10 * np.arange(1, len(y) + 1) if baseline else np.arange(1, len(y) + 1)\n",
    "        plot_running_mean(x, fn(y), n=200, label=name, color=colors[name], ls=lss[name], lw=1.5)\n",
    "    \n",
    "    if panel == 0:\n",
    "        plt.legend(loc=\"center left\")\n",
    "        \n",
    "    plt.xlabel(\"Played tournament games\")\n",
    "    plt.ylabel(label)\n",
    "\n",
    "plt.tight_layout()\n",
    "plt.savefig(\"tournament_results.pdf\")\n"
   ]
  },
  {
   "cell_type": "markdown",
   "metadata": {},
   "source": [
    "## Winner vs Merle"
   ]
  },
  {
   "cell_type": "code",
   "execution_count": null,
   "metadata": {},
   "outputs": [],
   "source": [
    "opponent = agents[\"AlphaAlmostZero\"]\n",
    "opponent.mc_max = 1000\n",
    "\n",
    "session = GameSession(merle, opponent)\n",
    "\n",
    "# The DEBUG output shows the moves, which is nice\n",
    "for name in logging.root.manager.loggerDict:\n",
    "    if \"rl_6_nimmt\" in name:\n",
    "        logging.getLogger(name).setLevel(logging.DEBUG)\n",
    "        "
   ]
  },
  {
   "cell_type": "code",
   "execution_count": null,
   "metadata": {},
   "outputs": [],
   "source": [
    "session.play_game(render=True)"
   ]
  },
  {
   "cell_type": "code",
   "execution_count": null,
   "metadata": {},
   "outputs": [],
   "source": []
  }
 ],
 "metadata": {
  "kernelspec": {
   "display_name": "Python (rl)",
   "language": "python",
   "name": "rl"
  },
  "language_info": {
   "codemirror_mode": {
    "name": "ipython",
    "version": 3
   },
   "file_extension": ".py",
   "mimetype": "text/x-python",
   "name": "python",
   "nbconvert_exporter": "python",
   "pygments_lexer": "ipython3",
   "version": "3.8.2"
  }
 },
 "nbformat": 4,
 "nbformat_minor": 4
}
