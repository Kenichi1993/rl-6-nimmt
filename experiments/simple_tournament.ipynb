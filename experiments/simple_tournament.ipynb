{
 "cells": [
  {
   "cell_type": "markdown",
   "metadata": {},
   "source": [
    "# Small Nimmt 6 tournament"
   ]
  },
  {
   "cell_type": "code",
   "execution_count": 1,
   "metadata": {},
   "outputs": [],
   "source": [
    "import numpy as np\n",
    "import logging\n",
    "import sys\n",
    "import torch\n",
    "import pickle\n",
    "from tqdm import tqdm\n",
    "from matplotlib import pyplot as plt\n",
    "\n",
    "sys.path.append(\"../\")\n",
    "\n",
    "from rl_6_nimmt import Tournament, GameSession\n",
    "from rl_6_nimmt.agents import Human, DrunkHamster, MaskedReinforceAgent, BatchedReinforceAgent, BatchedACERAgent\n",
    "\n",
    "logging.basicConfig(format=\"%(message)s\",level=logging.INFO)\n",
    "for name in logging.root.manager.loggerDict:\n",
    "    if not \"rl_6_nimmt\" in name:\n",
    "        logging.getLogger(name).setLevel(logging.WARNING)\n"
   ]
  },
  {
   "cell_type": "markdown",
   "metadata": {},
   "source": [
    "## Agents"
   ]
  },
  {
   "cell_type": "code",
   "execution_count": 2,
   "metadata": {},
   "outputs": [],
   "source": [
    "agents = {}\n",
    "\n",
    "for i in range(1):\n",
    "    agents[f\"Batched REINFORCE {i+1}\"] = BatchedReinforceAgent(r_factor=0.1)\n",
    "    agents[f\"Batched REINFORCE {i+1}\"].train()\n",
    "    \n",
    "for i in range(1):\n",
    "    agents[f\"Masked REINFORCE {i+1}\"] = MaskedReinforceAgent(r_factor=0.1)\n",
    "    agents[f\"Masked REINFORCE {i+1}\"].train()\n",
    "    \n",
    "for i in range(2):\n",
    "    agents[f\"Batched ACER {i+1}\"] = BatchedACERAgent()\n",
    "    agents[f\"Batched ACER {i+1}\"].train()\n",
    "    \n",
    "for i in range(1):\n",
    "    agents[f\"Random {i+1}\"] = DrunkHamster()\n",
    "    \n",
    "baseline_agents = [DrunkHamster()]\n",
    "\n",
    "merle = Human(\"Merle\")\n"
   ]
  },
  {
   "cell_type": "code",
   "execution_count": 3,
   "metadata": {},
   "outputs": [
    {
     "name": "stdout",
     "output_type": "stream",
     "text": [
      "Tournament after 0 games:\n",
      "----------------------------------------------------------------------------------------------------\n",
      " Agent                | Games | Tournament score | Tournament wins | Baseline score | Baseline wins \n",
      "----------------------------------------------------------------------------------------------------\n",
      "  Batched REINFORCE 1 |     0 |                - |               - |              - |             - \n",
      "   Masked REINFORCE 1 |     0 |                - |               - |              - |             - \n",
      "       Batched ACER 1 |     0 |                - |               - |              - |             - \n",
      "       Batched ACER 2 |     0 |                - |               - |              - |             - \n",
      "             Random 1 |     0 |                - |               - |              - |             - \n",
      "----------------------------------------------------------------------------------------------------\n"
     ]
    }
   ],
   "source": [
    "tournament = Tournament(min_players=2, max_players=2, baseline_agents=baseline_agents)\n",
    "\n",
    "for name, agent in agents.items():\n",
    "    tournament.add_player(name, agent)\n",
    "\n",
    "print(tournament)"
   ]
  },
  {
   "cell_type": "markdown",
   "metadata": {},
   "source": [
    "## Load existing state (skip when running this for the first time)"
   ]
  },
  {
   "cell_type": "code",
   "execution_count": 4,
   "metadata": {},
   "outputs": [],
   "source": [
    "# agents, tournament = pickle.load(open(\"./.tournament.pickle\", \"rb\"))"
   ]
  },
  {
   "cell_type": "markdown",
   "metadata": {},
   "source": [
    "## Let the games begin"
   ]
  },
  {
   "cell_type": "code",
   "execution_count": 5,
   "metadata": {},
   "outputs": [
    {
     "name": "stderr",
     "output_type": "stream",
     "text": [
      "100%|██████████| 10000/10000 [14:20<00:00, 11.61it/s]\n",
      "  0%|          | 2/10000 [00:00<09:13, 18.06it/s]"
     ]
    },
    {
     "name": "stdout",
     "output_type": "stream",
     "text": [
      "Tournament after 10000 games:\n",
      "----------------------------------------------------------------------------------------------------\n",
      " Agent                | Games | Tournament score | Tournament wins | Baseline score | Baseline wins \n",
      "----------------------------------------------------------------------------------------------------\n",
      "  Batched REINFORCE 1 |  4085 |            -7.69 |            0.48 |          -7.76 |          0.53 \n",
      "   Masked REINFORCE 1 |  3958 |            -7.86 |            0.49 |          -7.88 |          0.52 \n",
      "       Batched ACER 1 |  4000 |            -7.24 |            0.52 |          -7.32 |          0.58 \n",
      "       Batched ACER 2 |  3964 |            -7.32 |            0.52 |          -7.34 |          0.53 \n",
      "             Random 1 |  3993 |            -7.98 |            0.49 |          -7.95 |          0.52 \n",
      "----------------------------------------------------------------------------------------------------\n"
     ]
    },
    {
     "name": "stderr",
     "output_type": "stream",
     "text": [
      "100%|██████████| 10000/10000 [14:39<00:00, 11.37it/s]\n",
      "  0%|          | 1/10000 [00:00<26:41,  6.24it/s]"
     ]
    },
    {
     "name": "stdout",
     "output_type": "stream",
     "text": [
      "Tournament after 20000 games:\n",
      "----------------------------------------------------------------------------------------------------\n",
      " Agent                | Games | Tournament score | Tournament wins | Baseline score | Baseline wins \n",
      "----------------------------------------------------------------------------------------------------\n",
      "  Batched REINFORCE 1 |  8022 |            -7.99 |            0.46 |          -7.63 |          0.52 \n",
      "   Masked REINFORCE 1 |  7941 |            -7.99 |            0.48 |          -8.11 |          0.50 \n",
      "       Batched ACER 1 |  8138 |            -7.22 |            0.54 |          -7.43 |          0.57 \n",
      "       Batched ACER 2 |  7840 |            -7.08 |            0.55 |          -7.10 |          0.57 \n",
      "             Random 1 |  8059 |            -8.20 |            0.47 |          -7.97 |          0.53 \n",
      "----------------------------------------------------------------------------------------------------\n"
     ]
    },
    {
     "name": "stderr",
     "output_type": "stream",
     "text": [
      "100%|██████████| 10000/10000 [14:48<00:00, 11.25it/s]\n",
      "  0%|          | 1/10000 [00:00<17:18,  9.63it/s]"
     ]
    },
    {
     "name": "stdout",
     "output_type": "stream",
     "text": [
      "Tournament after 30000 games:\n",
      "----------------------------------------------------------------------------------------------------\n",
      " Agent                | Games | Tournament score | Tournament wins | Baseline score | Baseline wins \n",
      "----------------------------------------------------------------------------------------------------\n",
      "  Batched REINFORCE 1 | 11980 |            -8.03 |            0.45 |          -7.65 |          0.51 \n",
      "   Masked REINFORCE 1 | 11947 |            -8.07 |            0.47 |          -8.02 |          0.51 \n",
      "       Batched ACER 1 | 12144 |            -7.08 |            0.55 |          -7.23 |          0.59 \n",
      "       Batched ACER 2 | 11831 |            -6.92 |            0.56 |          -6.84 |          0.59 \n",
      "             Random 1 | 12098 |            -8.23 |            0.46 |          -7.93 |          0.53 \n",
      "----------------------------------------------------------------------------------------------------\n"
     ]
    },
    {
     "name": "stderr",
     "output_type": "stream",
     "text": [
      "100%|██████████| 10000/10000 [14:33<00:00, 11.45it/s]\n",
      "  0%|          | 2/10000 [00:00<13:27, 12.38it/s]"
     ]
    },
    {
     "name": "stdout",
     "output_type": "stream",
     "text": [
      "Tournament after 40000 games:\n",
      "----------------------------------------------------------------------------------------------------\n",
      " Agent                | Games | Tournament score | Tournament wins | Baseline score | Baseline wins \n",
      "----------------------------------------------------------------------------------------------------\n",
      "  Batched REINFORCE 1 | 15950 |            -8.17 |            0.44 |          -7.64 |          0.51 \n",
      "   Masked REINFORCE 1 | 15916 |            -8.19 |            0.46 |          -8.02 |          0.51 \n",
      "       Batched ACER 1 | 16180 |            -6.96 |            0.57 |          -7.09 |          0.60 \n",
      "       Batched ACER 2 | 15904 |            -6.88 |            0.57 |          -6.77 |          0.60 \n",
      "             Random 1 | 16050 |            -8.29 |            0.46 |          -7.99 |          0.53 \n",
      "----------------------------------------------------------------------------------------------------\n"
     ]
    },
    {
     "name": "stderr",
     "output_type": "stream",
     "text": [
      "100%|██████████| 10000/10000 [14:18<00:00, 11.64it/s]\n",
      "  0%|          | 1/10000 [00:00<20:13,  8.24it/s]"
     ]
    },
    {
     "name": "stdout",
     "output_type": "stream",
     "text": [
      "Tournament after 50000 games:\n",
      "----------------------------------------------------------------------------------------------------\n",
      " Agent                | Games | Tournament score | Tournament wins | Baseline score | Baseline wins \n",
      "----------------------------------------------------------------------------------------------------\n",
      "  Batched REINFORCE 1 | 20057 |            -8.26 |            0.43 |          -7.60 |          0.51 \n",
      "   Masked REINFORCE 1 | 19892 |            -8.24 |            0.45 |          -8.07 |          0.52 \n",
      "       Batched ACER 1 | 20178 |            -6.80 |            0.59 |          -7.07 |          0.61 \n",
      "       Batched ACER 2 | 19851 |            -6.86 |            0.57 |          -6.70 |          0.61 \n",
      "             Random 1 | 20022 |            -8.29 |            0.46 |          -8.00 |          0.52 \n",
      "----------------------------------------------------------------------------------------------------\n"
     ]
    },
    {
     "name": "stderr",
     "output_type": "stream",
     "text": [
      "100%|██████████| 10000/10000 [14:08<00:00, 11.78it/s]\n",
      "  0%|          | 3/10000 [00:00<09:51, 16.90it/s]"
     ]
    },
    {
     "name": "stdout",
     "output_type": "stream",
     "text": [
      "Tournament after 60000 games:\n",
      "----------------------------------------------------------------------------------------------------\n",
      " Agent                | Games | Tournament score | Tournament wins | Baseline score | Baseline wins \n",
      "----------------------------------------------------------------------------------------------------\n",
      "  Batched REINFORCE 1 | 24010 |            -8.33 |            0.42 |          -7.58 |          0.51 \n",
      "   Masked REINFORCE 1 | 23957 |            -8.26 |            0.45 |          -8.07 |          0.52 \n",
      "       Batched ACER 1 | 24245 |            -6.77 |            0.59 |          -7.07 |          0.60 \n",
      "       Batched ACER 2 | 23832 |            -6.86 |            0.58 |          -6.79 |          0.60 \n",
      "             Random 1 | 23956 |            -8.34 |            0.46 |          -8.09 |          0.52 \n",
      "----------------------------------------------------------------------------------------------------\n"
     ]
    },
    {
     "name": "stderr",
     "output_type": "stream",
     "text": [
      "100%|██████████| 10000/10000 [14:12<00:00, 11.73it/s]\n",
      "  0%|          | 2/10000 [00:00<13:17, 12.54it/s]"
     ]
    },
    {
     "name": "stdout",
     "output_type": "stream",
     "text": [
      "Tournament after 70000 games:\n",
      "----------------------------------------------------------------------------------------------------\n",
      " Agent                | Games | Tournament score | Tournament wins | Baseline score | Baseline wins \n",
      "----------------------------------------------------------------------------------------------------\n",
      "  Batched REINFORCE 1 | 28025 |            -8.34 |            0.42 |          -7.55 |          0.52 \n",
      "   Masked REINFORCE 1 | 27963 |            -8.28 |            0.45 |          -8.06 |          0.51 \n",
      "       Batched ACER 1 | 28200 |            -6.70 |            0.60 |          -6.98 |          0.61 \n",
      "       Batched ACER 2 | 27836 |            -6.88 |            0.57 |          -6.79 |          0.61 \n",
      "             Random 1 | 27976 |            -8.33 |            0.46 |          -8.08 |          0.52 \n",
      "----------------------------------------------------------------------------------------------------\n"
     ]
    },
    {
     "name": "stderr",
     "output_type": "stream",
     "text": [
      "100%|██████████| 10000/10000 [14:17<00:00, 11.66it/s] \n",
      "  0%|          | 2/10000 [00:00<09:11, 18.13it/s]"
     ]
    },
    {
     "name": "stdout",
     "output_type": "stream",
     "text": [
      "Tournament after 80000 games:\n",
      "----------------------------------------------------------------------------------------------------\n",
      " Agent                | Games | Tournament score | Tournament wins | Baseline score | Baseline wins \n",
      "----------------------------------------------------------------------------------------------------\n",
      "  Batched REINFORCE 1 | 32044 |            -8.37 |            0.42 |          -7.50 |          0.53 \n",
      "   Masked REINFORCE 1 | 31916 |            -8.28 |            0.45 |          -8.11 |          0.51 \n",
      "       Batched ACER 1 | 32236 |            -6.67 |            0.60 |          -6.89 |          0.61 \n",
      "       Batched ACER 2 | 31744 |            -6.83 |            0.58 |          -6.72 |          0.61 \n",
      "             Random 1 | 32060 |            -8.37 |            0.45 |          -8.09 |          0.52 \n",
      "----------------------------------------------------------------------------------------------------\n"
     ]
    },
    {
     "name": "stderr",
     "output_type": "stream",
     "text": [
      "100%|██████████| 10000/10000 [14:43<00:00, 11.32it/s]\n",
      "  0%|          | 4/10000 [00:00<07:57, 20.94it/s]"
     ]
    },
    {
     "name": "stdout",
     "output_type": "stream",
     "text": [
      "Tournament after 90000 games:\n",
      "----------------------------------------------------------------------------------------------------\n",
      " Agent                | Games | Tournament score | Tournament wins | Baseline score | Baseline wins \n",
      "----------------------------------------------------------------------------------------------------\n",
      "  Batched REINFORCE 1 | 36000 |            -8.39 |            0.42 |          -7.52 |          0.53 \n",
      "   Masked REINFORCE 1 | 35903 |            -8.26 |            0.45 |          -8.17 |          0.51 \n",
      "       Batched ACER 1 | 36329 |            -6.70 |            0.60 |          -6.92 |          0.61 \n",
      "       Batched ACER 2 | 35750 |            -6.79 |            0.58 |          -6.70 |          0.61 \n",
      "             Random 1 | 36018 |            -8.37 |            0.45 |          -8.13 |          0.52 \n",
      "----------------------------------------------------------------------------------------------------\n"
     ]
    },
    {
     "name": "stderr",
     "output_type": "stream",
     "text": [
      "100%|██████████| 10000/10000 [13:24<00:00, 12.43it/s] \n"
     ]
    },
    {
     "name": "stdout",
     "output_type": "stream",
     "text": [
      "Tournament after 100000 games:\n",
      "----------------------------------------------------------------------------------------------------\n",
      " Agent                | Games | Tournament score | Tournament wins | Baseline score | Baseline wins \n",
      "----------------------------------------------------------------------------------------------------\n",
      "  Batched REINFORCE 1 | 39951 |            -8.38 |            0.42 |          -7.57 |          0.52 \n",
      "   Masked REINFORCE 1 | 39917 |            -8.24 |            0.46 |          -8.18 |          0.51 \n",
      "       Batched ACER 1 | 40277 |            -6.66 |            0.60 |          -6.92 |          0.61 \n",
      "       Batched ACER 2 | 39771 |            -6.79 |            0.58 |          -6.68 |          0.61 \n",
      "             Random 1 | 40084 |            -8.36 |            0.45 |          -8.17 |          0.51 \n",
      "----------------------------------------------------------------------------------------------------\n"
     ]
    }
   ],
   "source": [
    "num_games = 100000\n",
    "block_len = 10000\n",
    "\n",
    "try:\n",
    "    tqdm._instances.clear()  # Important after cancelling any step\n",
    "except:\n",
    "    pass\n",
    "\n",
    "while tournament.total_games < num_games:\n",
    "    for _ in tqdm(range(block_len)):\n",
    "        tournament.play_game()\n",
    "    print(tournament)\n"
   ]
  },
  {
   "cell_type": "code",
   "execution_count": 6,
   "metadata": {},
   "outputs": [],
   "source": [
    "pickle.dump((agents, tournament), open( \"./.tournament.pickle\", \"wb\" ))"
   ]
  },
  {
   "cell_type": "markdown",
   "metadata": {},
   "source": [
    "## Let's see the results"
   ]
  },
  {
   "cell_type": "code",
   "execution_count": 7,
   "metadata": {},
   "outputs": [
    {
     "name": "stdout",
     "output_type": "stream",
     "text": [
      "Tournament after 100000 games:\n",
      "----------------------------------------------------------------------------------------------------\n",
      " Agent                | Games | Tournament score | Tournament wins | Baseline score | Baseline wins \n",
      "----------------------------------------------------------------------------------------------------\n",
      "  Batched REINFORCE 1 | 39951 |            -8.38 |            0.42 |          -7.57 |          0.52 \n",
      "   Masked REINFORCE 1 | 39917 |            -8.24 |            0.46 |          -8.18 |          0.51 \n",
      "       Batched ACER 1 | 40277 |            -6.66 |            0.60 |          -6.92 |          0.61 \n",
      "       Batched ACER 2 | 39771 |            -6.79 |            0.58 |          -6.68 |          0.61 \n",
      "             Random 1 | 40084 |            -8.36 |            0.45 |          -8.17 |          0.51 \n",
      "----------------------------------------------------------------------------------------------------\n"
     ]
    }
   ],
   "source": [
    "print(tournament)"
   ]
  },
  {
   "cell_type": "code",
   "execution_count": 8,
   "metadata": {},
   "outputs": [],
   "source": [
    "def create_color(name):\n",
    "    if \"Batched REINFORCE\" in name:\n",
    "        return \"C0\"\n",
    "    elif \"Masked REINFORCE\" in name:\n",
    "        return \"C1\"\n",
    "    elif \"Batched ACER\" in name:\n",
    "        return \"C2\"\n",
    "    elif \"Random\" in name:\n",
    "        return \"0.6\"\n",
    "    \n",
    "    \n",
    "def create_label(name):\n",
    "    return name[:-2] if \"1\" in name else None\n",
    "\n",
    "\n",
    "def plot_running_mean(x, y, n=10, **kwargs):\n",
    "    cumsum = np.cumsum(np.insert(y, 0, 0))\n",
    "    running_mean_y = (cumsum[n:] - cumsum[:-n]) / n\n",
    "    \n",
    "    cumsum = np.cumsum(np.insert(x, 0, 0))\n",
    "    running_mean_x = (cumsum[n:] - cumsum[:-n]) / n\n",
    "    \n",
    "    plt.plot(running_mean_x, running_mean_y, **kwargs)\n"
   ]
  },
  {
   "cell_type": "code",
   "execution_count": 9,
   "metadata": {},
   "outputs": [],
   "source": [
    "labels = [\n",
    "    \"Mean Hornochsen in tournament\",\n",
    "    \"Mean Hornochsen vs baseline\",\n",
    "    \"Win fraction in tournament\",\n",
    "    \"Win fraction vs baseline\"\n",
    "]\n",
    "quantities = [\n",
    "    tournament.tournament_scores,\n",
    "    tournament.baseline_scores,\n",
    "    tournament.tournament_wins,\n",
    "    tournament.baseline_wins\n",
    "]\n",
    "fns = [lambda x : -x, lambda x : -x, lambda x : x, lambda x : x]\n",
    "baselines = [False, True, False, True]"
   ]
  },
  {
   "cell_type": "code",
   "execution_count": 15,
   "metadata": {},
   "outputs": [
    {
     "data": {
      "image/png": "[encoded data removed]",
      "text/plain": [
       "<Figure size 720x720 with 4 Axes>"
      ]
     },
     "metadata": {
      "needs_background": "light"
     },
     "output_type": "display_data"
    }
   ],
   "source": [
    "fig = plt.figure(figsize=(10,10))\n",
    "\n",
    "for panel, (quantity, label, fn, baseline) in enumerate(zip(quantities, labels, fns, baselines)):\n",
    "    ax = plt.subplot(2,2,panel + 1)\n",
    "    \n",
    "    for name in tournament.agents.keys():\n",
    "        y = np.array(quantity[name])\n",
    "        x = 10 * np.arange(1, len(y) + 1) if baseline else np.arange(1, len(y) + 1)\n",
    "        plot_running_mean(x, fn(y), n=2000, label=create_label(name), color=create_color(name))\n",
    "    \n",
    "    if panel == 0:\n",
    "        plt.legend(loc=\"lower left\")\n",
    "        \n",
    "    plt.xlabel(\"Played tournament games\")\n",
    "    plt.ylabel(label)\n",
    "\n",
    "plt.tight_layout()\n",
    "plt.show()\n"
   ]
  },
  {
   "cell_type": "markdown",
   "metadata": {},
   "source": [
    "## Winner vs Merle"
   ]
  },
  {
   "cell_type": "code",
   "execution_count": 16,
   "metadata": {},
   "outputs": [],
   "source": [
    "session = GameSession(merle, tournament.winner())\n",
    "\n",
    "# The DEBUG output shows the moves, which is nice\n",
    "for name in logging.root.manager.loggerDict:\n",
    "    if \"rl_6_nimmt\" in name:\n",
    "        logging.getLogger(name).setLevel(logging.DEBUG)\n",
    "        "
   ]
  },
  {
   "cell_type": "code",
   "execution_count": 17,
   "metadata": {},
   "outputs": [
    {
     "name": "stderr",
     "output_type": "stream",
     "text": [
      "Dealing cards\n",
      "------------------------------------------------------------------------------------------------------------------------\n",
      "Board:\n",
      "   47    _    _    _    _    * \n",
      "   99+   _    _    _    _    * \n",
      "   66+   _    _    _    _    * \n",
      "   11+   _    _    _    _    * \n",
      "Players:\n",
      "  Merle          (player 1):   0 Hornochsen, cards   1   12   30:  36   45.  62   65.  77+  80:  83 \n",
      "  Batched ACER 1 (player 2):   0 Hornochsen, cards   4    8   10:  13   20:  22+  25.  43   46   55#\n",
      "------------------------------------------------------------------------------------------------------------------------\n"
     ]
    },
    {
     "name": "stdin",
     "output_type": "stream",
     "text": [
      "It is your turn, Merle! You have the following cards:   1  12  30  36  45  62  65  77  80  83. Choose one to play! 12\n"
     ]
    },
    {
     "name": "stderr",
     "output_type": "stream",
     "text": [
      "Batched ACER 1 (player 2) plays card 4\n",
      "  ...chooses to replace row 1\n",
      "  ...and gains 1 Hornochsen\n",
      "Merle          (player 1) plays card 12\n",
      "------------------------------------------------------------------------------------------------------------------------\n",
      "Board:\n",
      "    4    _    _    _    _    * \n",
      "   99+   _    _    _    _    * \n",
      "   66+   _    _    _    _    * \n",
      "   11+  12    _    _    _    * \n",
      "Players:\n",
      "  Merle          (player 1):   0 Hornochsen, cards   1   30:  36   45.  62   65.  77+  80:  83 \n",
      "  Batched ACER 1 (player 2):   1 Hornochsen, cards   8   10:  13   20:  22+  25.  43   46   55#\n",
      "------------------------------------------------------------------------------------------------------------------------\n"
     ]
    },
    {
     "name": "stdin",
     "output_type": "stream",
     "text": [
      "It is your turn, Merle! You have the following cards:   1  30  36  45  62  65  77  80  83. Choose one to play! 80\n"
     ]
    },
    {
     "name": "stderr",
     "output_type": "stream",
     "text": [
      "Batched ACER 1 (player 2) plays card 10\n",
      "Merle          (player 1) plays card 80\n",
      "------------------------------------------------------------------------------------------------------------------------\n",
      "Board:\n",
      "    4   10:   _    _    _    * \n",
      "   99+   _    _    _    _    * \n",
      "   66+  80:   _    _    _    * \n",
      "   11+  12    _    _    _    * \n",
      "Players:\n",
      "  Merle          (player 1):   0 Hornochsen, cards   1   30:  36   45.  62   65.  77+  83 \n",
      "  Batched ACER 1 (player 2):   1 Hornochsen, cards   8   13   20:  22+  25.  43   46   55#\n",
      "------------------------------------------------------------------------------------------------------------------------\n"
     ]
    },
    {
     "name": "stdin",
     "output_type": "stream",
     "text": [
      "It is your turn, Merle! You have the following cards:   1  30  36  45  62  65  77  83. Choose one to play! 83\n"
     ]
    },
    {
     "name": "stderr",
     "output_type": "stream",
     "text": [
      "Batched ACER 1 (player 2) plays card 8\n",
      "  ...chooses to replace row 1\n",
      "  ...and gains 4 Hornochsen\n",
      "Merle          (player 1) plays card 83\n",
      "------------------------------------------------------------------------------------------------------------------------\n",
      "Board:\n",
      "    8    _    _    _    _    * \n",
      "   99+   _    _    _    _    * \n",
      "   66+  80:  83    _    _    * \n",
      "   11+  12    _    _    _    * \n",
      "Players:\n",
      "  Merle          (player 1):   0 Hornochsen, cards   1   30:  36   45.  62   65.  77+\n",
      "  Batched ACER 1 (player 2):   5 Hornochsen, cards  13   20:  22+  25.  43   46   55#\n",
      "------------------------------------------------------------------------------------------------------------------------\n"
     ]
    },
    {
     "name": "stdin",
     "output_type": "stream",
     "text": [
      "It is your turn, Merle! You have the following cards:   1  30  36  45  62  65  77. Choose one to play! 62\n"
     ]
    },
    {
     "name": "stderr",
     "output_type": "stream",
     "text": [
      "Batched ACER 1 (player 2) plays card 25\n",
      "Merle          (player 1) plays card 62\n",
      "------------------------------------------------------------------------------------------------------------------------\n",
      "Board:\n",
      "    8    _    _    _    _    * \n",
      "   99+   _    _    _    _    * \n",
      "   66+  80:  83    _    _    * \n",
      "   11+  12   25.  62    _    * \n",
      "Players:\n",
      "  Merle          (player 1):   0 Hornochsen, cards   1   30:  36   45.  65.  77+\n",
      "  Batched ACER 1 (player 2):   5 Hornochsen, cards  13   20:  22+  43   46   55#\n",
      "------------------------------------------------------------------------------------------------------------------------\n"
     ]
    },
    {
     "name": "stdin",
     "output_type": "stream",
     "text": [
      "It is your turn, Merle! You have the following cards:   1  30  36  45  65  77. Choose one to play! 77\n"
     ]
    },
    {
     "name": "stderr",
     "output_type": "stream",
     "text": [
      "Batched ACER 1 (player 2) plays card 13\n",
      "Merle          (player 1) plays card 77\n",
      "------------------------------------------------------------------------------------------------------------------------\n",
      "Board:\n",
      "    8   13    _    _    _    * \n",
      "   99+   _    _    _    _    * \n",
      "   66+  80:  83    _    _    * \n",
      "   11+  12   25.  62   77+   * \n",
      "Players:\n",
      "  Merle          (player 1):   0 Hornochsen, cards   1   30:  36   45.  65.\n",
      "  Batched ACER 1 (player 2):   5 Hornochsen, cards  20:  22+  43   46   55#\n",
      "------------------------------------------------------------------------------------------------------------------------\n"
     ]
    },
    {
     "name": "stdin",
     "output_type": "stream",
     "text": [
      "It is your turn, Merle! You have the following cards:   1  30  36  45  65. Choose one to play! 65\n"
     ]
    },
    {
     "name": "stderr",
     "output_type": "stream",
     "text": [
      "Batched ACER 1 (player 2) plays card 20\n",
      "Merle          (player 1) plays card 65\n",
      "------------------------------------------------------------------------------------------------------------------------\n",
      "Board:\n",
      "    8   13   20:  65.   _    * \n",
      "   99+   _    _    _    _    * \n",
      "   66+  80:  83    _    _    * \n",
      "   11+  12   25.  62   77+   * \n",
      "Players:\n",
      "  Merle          (player 1):   0 Hornochsen, cards   1   30:  36   45.\n",
      "  Batched ACER 1 (player 2):   5 Hornochsen, cards  22+  43   46   55#\n",
      "------------------------------------------------------------------------------------------------------------------------\n"
     ]
    },
    {
     "name": "stdin",
     "output_type": "stream",
     "text": [
      "It is your turn, Merle! You have the following cards:   1  30  36  45. Choose one to play! 30\n"
     ]
    },
    {
     "name": "stderr",
     "output_type": "stream",
     "text": [
      "Merle          (player 1) plays card 30\n",
      "  ...chooses to replace row 2\n",
      "  ...and gains 5 Hornochsen\n",
      "Batched ACER 1 (player 2) plays card 55\n",
      "------------------------------------------------------------------------------------------------------------------------\n",
      "Board:\n",
      "    8   13   20:  65.   _    * \n",
      "   30:  55#   _    _    _    * \n",
      "   66+  80:  83    _    _    * \n",
      "   11+  12   25.  62   77+   * \n",
      "Players:\n",
      "  Merle          (player 1):   5 Hornochsen, cards   1   36   45.\n",
      "  Batched ACER 1 (player 2):   5 Hornochsen, cards  22+  43   46 \n",
      "------------------------------------------------------------------------------------------------------------------------\n"
     ]
    },
    {
     "name": "stdin",
     "output_type": "stream",
     "text": [
      "It is your turn, Merle! You have the following cards:   1  36  45. Choose one to play! 45\n"
     ]
    },
    {
     "name": "stderr",
     "output_type": "stream",
     "text": [
      "Merle          (player 1) plays card 45\n",
      "  ...chooses to replace row 1\n",
      "  ...and gains 7 Hornochsen\n",
      "Batched ACER 1 (player 2) plays card 46\n",
      "------------------------------------------------------------------------------------------------------------------------\n",
      "Board:\n",
      "   45.  46    _    _    _    * \n",
      "   30:  55#   _    _    _    * \n",
      "   66+  80:  83    _    _    * \n",
      "   11+  12   25.  62   77+   * \n",
      "Players:\n",
      "  Merle          (player 1):  12 Hornochsen, cards   1   36 \n",
      "  Batched ACER 1 (player 2):   5 Hornochsen, cards  22+  43 \n",
      "------------------------------------------------------------------------------------------------------------------------\n"
     ]
    },
    {
     "name": "stdin",
     "output_type": "stream",
     "text": [
      "It is your turn, Merle! You have the following cards:   1  36. Choose one to play! 1\n"
     ]
    },
    {
     "name": "stderr",
     "output_type": "stream",
     "text": [
      "Merle          (player 1) plays card 1\n",
      "  ...chooses to replace row 1\n",
      "  ...and gains 3 Hornochsen\n",
      "Batched ACER 1 (player 2) plays card 22\n",
      "------------------------------------------------------------------------------------------------------------------------\n",
      "Board:\n",
      "    1   22+   _    _    _    * \n",
      "   30:  55#   _    _    _    * \n",
      "   66+  80:  83    _    _    * \n",
      "   11+  12   25.  62   77+   * \n",
      "Players:\n",
      "  Merle          (player 1):  15 Hornochsen, cards  36 \n",
      "  Batched ACER 1 (player 2):   5 Hornochsen, cards  43 \n",
      "------------------------------------------------------------------------------------------------------------------------\n"
     ]
    },
    {
     "name": "stdin",
     "output_type": "stream",
     "text": [
      "It is your turn, Merle! You have the following cards:  36. Choose one to play! 36\n"
     ]
    },
    {
     "name": "stderr",
     "output_type": "stream",
     "text": [
      "Merle          (player 1) plays card 36\n",
      "Batched ACER 1 (player 2) plays card 43\n",
      "------------------------------------------------------------------------------------------------------------------------\n",
      "Board:\n",
      "    1   22+  36   43    _    * \n",
      "   30:  55#   _    _    _    * \n",
      "   66+  80:  83    _    _    * \n",
      "   11+  12   25.  62   77+   * \n",
      "Players:\n",
      "  Merle          (player 1):  15 Hornochsen, no cards \n",
      "  Batched ACER 1 (player 2):   5 Hornochsen, no cards \n",
      "The game is over! Batched ACER 1 (player 2) wins, Merle          (player 1) loses. Congratulations!\n",
      "------------------------------------------------------------------------------------------------------------------------\n"
     ]
    }
   ],
   "source": [
    "session.play_game(render=True)"
   ]
  },
  {
   "cell_type": "code",
   "execution_count": 18,
   "metadata": {},
   "outputs": [
    {
     "name": "stderr",
     "output_type": "stream",
     "text": [
      "Dealing cards\n",
      "------------------------------------------------------------------------------------------------------------------------\n",
      "Board:\n",
      "   53    _    _    _    _    * \n",
      "   96    _    _    _    _    * \n",
      "   52    _    _    _    _    * \n",
      "   10:   _    _    _    _    * \n",
      "Players:\n",
      "  Merle          (player 1):   0 Hornochsen, cards   2    4   15.  25.  28   30:  35.  67   73   82 \n",
      "  Batched ACER 1 (player 2):   0 Hornochsen, cards  18   20:  24   34   51   64   81   85.  93   99+\n",
      "------------------------------------------------------------------------------------------------------------------------\n"
     ]
    },
    {
     "name": "stdin",
     "output_type": "stream",
     "text": [
      "It is your turn, Merle! You have the following cards:   2   4  15  25  28  30  35  67  73  82. Choose one to play! 15\n"
     ]
    },
    {
     "name": "stderr",
     "output_type": "stream",
     "text": [
      "Merle          (player 1) plays card 15\n",
      "Batched ACER 1 (player 2) plays card 81\n",
      "------------------------------------------------------------------------------------------------------------------------\n",
      "Board:\n",
      "   53   81    _    _    _    * \n",
      "   96    _    _    _    _    * \n",
      "   52    _    _    _    _    * \n",
      "   10:  15.   _    _    _    * \n",
      "Players:\n",
      "  Merle          (player 1):   0 Hornochsen, cards   2    4   25.  28   30:  35.  67   73   82 \n",
      "  Batched ACER 1 (player 2):   0 Hornochsen, cards  18   20:  24   34   51   64   85.  93   99+\n",
      "------------------------------------------------------------------------------------------------------------------------\n"
     ]
    },
    {
     "name": "stdin",
     "output_type": "stream",
     "text": [
      "It is your turn, Merle! You have the following cards:   2   4  25  28  30  35  67  73  82. Choose one to play! 2\n"
     ]
    },
    {
     "name": "stderr",
     "output_type": "stream",
     "text": [
      "Merle          (player 1) plays card 2\n",
      "  ...chooses to replace row 2\n",
      "  ...and gains 1 Hornochsen\n",
      "Batched ACER 1 (player 2) plays card 34\n",
      "------------------------------------------------------------------------------------------------------------------------\n",
      "Board:\n",
      "   53   81    _    _    _    * \n",
      "    2    _    _    _    _    * \n",
      "   52    _    _    _    _    * \n",
      "   10:  15.  34    _    _    * \n",
      "Players:\n",
      "  Merle          (player 1):   1 Hornochsen, cards   4   25.  28   30:  35.  67   73   82 \n",
      "  Batched ACER 1 (player 2):   0 Hornochsen, cards  18   20:  24   51   64   85.  93   99+\n",
      "------------------------------------------------------------------------------------------------------------------------\n"
     ]
    },
    {
     "name": "stdin",
     "output_type": "stream",
     "text": [
      "It is your turn, Merle! You have the following cards:   4  25  28  30  35  67  73  82. Choose one to play! 4\n"
     ]
    },
    {
     "name": "stderr",
     "output_type": "stream",
     "text": [
      "Merle          (player 1) plays card 4\n",
      "Batched ACER 1 (player 2) plays card 99\n",
      "------------------------------------------------------------------------------------------------------------------------\n",
      "Board:\n",
      "   53   81   99+   _    _    * \n",
      "    2    4    _    _    _    * \n",
      "   52    _    _    _    _    * \n",
      "   10:  15.  34    _    _    * \n",
      "Players:\n",
      "  Merle          (player 1):   1 Hornochsen, cards  25.  28   30:  35.  67   73   82 \n",
      "  Batched ACER 1 (player 2):   0 Hornochsen, cards  18   20:  24   51   64   85.  93 \n",
      "------------------------------------------------------------------------------------------------------------------------\n"
     ]
    },
    {
     "name": "stdin",
     "output_type": "stream",
     "text": [
      "It is your turn, Merle! You have the following cards:  25  28  30  35  67  73  82. Choose one to play! 35\n"
     ]
    },
    {
     "name": "stderr",
     "output_type": "stream",
     "text": [
      "Merle          (player 1) plays card 35\n",
      "Batched ACER 1 (player 2) plays card 93\n",
      "------------------------------------------------------------------------------------------------------------------------\n",
      "Board:\n",
      "   53   81   99+   _    _    * \n",
      "    2    4    _    _    _    * \n",
      "   52   93    _    _    _    * \n",
      "   10:  15.  34   35.   _    * \n",
      "Players:\n",
      "  Merle          (player 1):   1 Hornochsen, cards  25.  28   30:  67   73   82 \n",
      "  Batched ACER 1 (player 2):   0 Hornochsen, cards  18   20:  24   51   64   85.\n",
      "------------------------------------------------------------------------------------------------------------------------\n"
     ]
    },
    {
     "name": "stdin",
     "output_type": "stream",
     "text": [
      "It is your turn, Merle! You have the following cards:  25  28  30  67  73  82. Choose one to play! 28\n"
     ]
    },
    {
     "name": "stderr",
     "output_type": "stream",
     "text": [
      "Merle          (player 1) plays card 28\n",
      "Batched ACER 1 (player 2) plays card 85\n",
      "------------------------------------------------------------------------------------------------------------------------\n",
      "Board:\n",
      "   53   81   99+   _    _    * \n",
      "    2    4   28    _    _    * \n",
      "   52   93    _    _    _    * \n",
      "   10:  15.  34   35.  85.   * \n",
      "Players:\n",
      "  Merle          (player 1):   1 Hornochsen, cards  25.  30:  67   73   82 \n",
      "  Batched ACER 1 (player 2):   0 Hornochsen, cards  18   20:  24   51   64 \n",
      "------------------------------------------------------------------------------------------------------------------------\n"
     ]
    },
    {
     "name": "stdin",
     "output_type": "stream",
     "text": [
      "It is your turn, Merle! You have the following cards:  25  30  67  73  82. Choose one to play! 30\n"
     ]
    },
    {
     "name": "stderr",
     "output_type": "stream",
     "text": [
      "Merle          (player 1) plays card 30\n",
      "Batched ACER 1 (player 2) plays card 64\n",
      "------------------------------------------------------------------------------------------------------------------------\n",
      "Board:\n",
      "   53   81   99+   _    _    * \n",
      "    2    4   28   30:  64    * \n",
      "   52   93    _    _    _    * \n",
      "   10:  15.  34   35.  85.   * \n",
      "Players:\n",
      "  Merle          (player 1):   1 Hornochsen, cards  25.  67   73   82 \n",
      "  Batched ACER 1 (player 2):   0 Hornochsen, cards  18   20:  24   51 \n",
      "------------------------------------------------------------------------------------------------------------------------\n"
     ]
    },
    {
     "name": "stdin",
     "output_type": "stream",
     "text": [
      "It is your turn, Merle! You have the following cards:  25  67  73  82. Choose one to play! 25\n"
     ]
    },
    {
     "name": "stderr",
     "output_type": "stream",
     "text": [
      "Merle          (player 1) plays card 25\n",
      "  ...chooses to replace row 3\n",
      "  ...and gains 2 Hornochsen\n",
      "Batched ACER 1 (player 2) plays card 51\n",
      "------------------------------------------------------------------------------------------------------------------------\n",
      "Board:\n",
      "   53   81   99+   _    _    * \n",
      "    2    4   28   30:  64    * \n",
      "   25.  51    _    _    _    * \n",
      "   10:  15.  34   35.  85.   * \n",
      "Players:\n",
      "  Merle          (player 1):   3 Hornochsen, cards  67   73   82 \n",
      "  Batched ACER 1 (player 2):   0 Hornochsen, cards  18   20:  24 \n",
      "------------------------------------------------------------------------------------------------------------------------\n"
     ]
    },
    {
     "name": "stdin",
     "output_type": "stream",
     "text": [
      "It is your turn, Merle! You have the following cards:  67  73  82. Choose one to play! 67\n"
     ]
    },
    {
     "name": "stderr",
     "output_type": "stream",
     "text": [
      "Batched ACER 1 (player 2) plays card 18\n",
      "  ...chooses to replace row 3\n",
      "  ...and gains 3 Hornochsen\n",
      "Merle          (player 1) plays card 67\n",
      "  ...and gains 7 Hornochsen\n",
      "------------------------------------------------------------------------------------------------------------------------\n",
      "Board:\n",
      "   53   81   99+   _    _    * \n",
      "   67    _    _    _    _    * \n",
      "   18    _    _    _    _    * \n",
      "   10:  15.  34   35.  85.   * \n",
      "Players:\n",
      "  Merle          (player 1):  10 Hornochsen, cards  73   82 \n",
      "  Batched ACER 1 (player 2):   3 Hornochsen, cards  20:  24 \n",
      "------------------------------------------------------------------------------------------------------------------------\n"
     ]
    },
    {
     "name": "stdin",
     "output_type": "stream",
     "text": [
      "It is your turn, Merle! You have the following cards:  73  82. Choose one to play! 73\n"
     ]
    },
    {
     "name": "stderr",
     "output_type": "stream",
     "text": [
      "Batched ACER 1 (player 2) plays card 20\n",
      "Merle          (player 1) plays card 73\n",
      "------------------------------------------------------------------------------------------------------------------------\n",
      "Board:\n",
      "   53   81   99+   _    _    * \n",
      "   67   73    _    _    _    * \n",
      "   18   20:   _    _    _    * \n",
      "   10:  15.  34   35.  85.   * \n",
      "Players:\n",
      "  Merle          (player 1):  10 Hornochsen, cards  82 \n",
      "  Batched ACER 1 (player 2):   3 Hornochsen, cards  24 \n",
      "------------------------------------------------------------------------------------------------------------------------\n"
     ]
    },
    {
     "name": "stdin",
     "output_type": "stream",
     "text": [
      "It is your turn, Merle! You have the following cards:  82. Choose one to play! 82\n"
     ]
    },
    {
     "name": "stderr",
     "output_type": "stream",
     "text": [
      "Batched ACER 1 (player 2) plays card 24\n",
      "Merle          (player 1) plays card 82\n",
      "------------------------------------------------------------------------------------------------------------------------\n",
      "Board:\n",
      "   53   81   99+   _    _    * \n",
      "   67   73   82    _    _    * \n",
      "   18   20:  24    _    _    * \n",
      "   10:  15.  34   35.  85.   * \n",
      "Players:\n",
      "  Merle          (player 1):  10 Hornochsen, no cards \n",
      "  Batched ACER 1 (player 2):   3 Hornochsen, no cards \n",
      "The game is over! Batched ACER 1 (player 2) wins, Merle          (player 1) loses. Congratulations!\n",
      "------------------------------------------------------------------------------------------------------------------------\n"
     ]
    }
   ],
   "source": [
    "session.play_game(render=True)"
   ]
  },
  {
   "cell_type": "code",
   "execution_count": 19,
   "metadata": {},
   "outputs": [
    {
     "name": "stderr",
     "output_type": "stream",
     "text": [
      "Dealing cards\n",
      "------------------------------------------------------------------------------------------------------------------------\n",
      "Board:\n",
      "   23    _    _    _    _    * \n",
      "   37    _    _    _    _    * \n",
      "    7    _    _    _    _    * \n",
      "   22+   _    _    _    _    * \n",
      "Players:\n",
      "  Merle          (player 1):   0 Hornochsen, cards  11+  18   50:  55#  61   62   66+  76   78   88+\n",
      "  Batched ACER 1 (player 2):   0 Hornochsen, cards   9   28   39   42   44+  54   59   64   68   91 \n",
      "------------------------------------------------------------------------------------------------------------------------\n"
     ]
    },
    {
     "name": "stdin",
     "output_type": "stream",
     "text": [
      "It is your turn, Merle! You have the following cards:  11  18  50  55  61  62  66  76  78  88. Choose one to play! 61\n"
     ]
    },
    {
     "name": "stderr",
     "output_type": "stream",
     "text": [
      "Merle          (player 1) plays card 61\n",
      "Batched ACER 1 (player 2) plays card 91\n",
      "------------------------------------------------------------------------------------------------------------------------\n",
      "Board:\n",
      "   23    _    _    _    _    * \n",
      "   37   61   91    _    _    * \n",
      "    7    _    _    _    _    * \n",
      "   22+   _    _    _    _    * \n",
      "Players:\n",
      "  Merle          (player 1):   0 Hornochsen, cards  11+  18   50:  55#  62   66+  76   78   88+\n",
      "  Batched ACER 1 (player 2):   0 Hornochsen, cards   9   28   39   42   44+  54   59   64   68 \n",
      "------------------------------------------------------------------------------------------------------------------------\n"
     ]
    },
    {
     "name": "stdin",
     "output_type": "stream",
     "text": [
      "It is your turn, Merle! You have the following cards:  11  18  50  55  62  66  76  78  88. Choose one to play! 62\n"
     ]
    },
    {
     "name": "stderr",
     "output_type": "stream",
     "text": [
      "Merle          (player 1) plays card 62\n",
      "Batched ACER 1 (player 2) plays card 68\n",
      "------------------------------------------------------------------------------------------------------------------------\n",
      "Board:\n",
      "   23   62   68    _    _    * \n",
      "   37   61   91    _    _    * \n",
      "    7    _    _    _    _    * \n",
      "   22+   _    _    _    _    * \n",
      "Players:\n",
      "  Merle          (player 1):   0 Hornochsen, cards  11+  18   50:  55#  66+  76   78   88+\n",
      "  Batched ACER 1 (player 2):   0 Hornochsen, cards   9   28   39   42   44+  54   59   64 \n",
      "------------------------------------------------------------------------------------------------------------------------\n"
     ]
    },
    {
     "name": "stdin",
     "output_type": "stream",
     "text": [
      "It is your turn, Merle! You have the following cards:  11  18  50  55  66  76  78  88. Choose one to play! 78\n"
     ]
    },
    {
     "name": "stderr",
     "output_type": "stream",
     "text": [
      "Batched ACER 1 (player 2) plays card 54\n",
      "Merle          (player 1) plays card 78\n",
      "------------------------------------------------------------------------------------------------------------------------\n",
      "Board:\n",
      "   23   62   68   78    _    * \n",
      "   37   61   91    _    _    * \n",
      "    7    _    _    _    _    * \n",
      "   22+  54    _    _    _    * \n",
      "Players:\n",
      "  Merle          (player 1):   0 Hornochsen, cards  11+  18   50:  55#  66+  76   88+\n",
      "  Batched ACER 1 (player 2):   0 Hornochsen, cards   9   28   39   42   44+  59   64 \n",
      "------------------------------------------------------------------------------------------------------------------------\n"
     ]
    },
    {
     "name": "stdin",
     "output_type": "stream",
     "text": [
      "It is your turn, Merle! You have the following cards:  11  18  50  55  66  76  88. Choose one to play! 55\n"
     ]
    },
    {
     "name": "stderr",
     "output_type": "stream",
     "text": [
      "Merle          (player 1) plays card 55\n",
      "Batched ACER 1 (player 2) plays card 64\n",
      "------------------------------------------------------------------------------------------------------------------------\n",
      "Board:\n",
      "   23   62   68   78    _    * \n",
      "   37   61   91    _    _    * \n",
      "    7    _    _    _    _    * \n",
      "   22+  54   55#  64    _    * \n",
      "Players:\n",
      "  Merle          (player 1):   0 Hornochsen, cards  11+  18   50:  66+  76   88+\n",
      "  Batched ACER 1 (player 2):   0 Hornochsen, cards   9   28   39   42   44+  59 \n",
      "------------------------------------------------------------------------------------------------------------------------\n"
     ]
    },
    {
     "name": "stdin",
     "output_type": "stream",
     "text": [
      "It is your turn, Merle! You have the following cards:  11  18  50  66  76  88. Choose one to play! 76\n"
     ]
    },
    {
     "name": "stderr",
     "output_type": "stream",
     "text": [
      "Batched ACER 1 (player 2) plays card 59\n",
      "Merle          (player 1) plays card 76\n",
      "------------------------------------------------------------------------------------------------------------------------\n",
      "Board:\n",
      "   23   62   68   78    _    * \n",
      "   37   61   91    _    _    * \n",
      "    7   59    _    _    _    * \n",
      "   22+  54   55#  64   76    * \n",
      "Players:\n",
      "  Merle          (player 1):   0 Hornochsen, cards  11+  18   50:  66+  88+\n",
      "  Batched ACER 1 (player 2):   0 Hornochsen, cards   9   28   39   42   44+\n",
      "------------------------------------------------------------------------------------------------------------------------\n"
     ]
    },
    {
     "name": "stdin",
     "output_type": "stream",
     "text": [
      "It is your turn, Merle! You have the following cards:  11  18  50  66  88. Choose one to play! 88\n"
     ]
    },
    {
     "name": "stderr",
     "output_type": "stream",
     "text": [
      "Batched ACER 1 (player 2) plays card 39\n",
      "  ...chooses to replace row 3\n",
      "  ...and gains 2 Hornochsen\n",
      "Merle          (player 1) plays card 88\n",
      "------------------------------------------------------------------------------------------------------------------------\n",
      "Board:\n",
      "   23   62   68   78   88+   * \n",
      "   37   61   91    _    _    * \n",
      "   39    _    _    _    _    * \n",
      "   22+  54   55#  64   76    * \n",
      "Players:\n",
      "  Merle          (player 1):   0 Hornochsen, cards  11+  18   50:  66+\n",
      "  Batched ACER 1 (player 2):   2 Hornochsen, cards   9   28   42   44+\n",
      "------------------------------------------------------------------------------------------------------------------------\n"
     ]
    },
    {
     "name": "stdin",
     "output_type": "stream",
     "text": [
      "It is your turn, Merle! You have the following cards:  11  18  50  66. Choose one to play! 50\n"
     ]
    },
    {
     "name": "stderr",
     "output_type": "stream",
     "text": [
      "Batched ACER 1 (player 2) plays card 9\n",
      "  ...chooses to replace row 3\n",
      "  ...and gains 1 Hornochsen\n",
      "Merle          (player 1) plays card 50\n",
      "------------------------------------------------------------------------------------------------------------------------\n",
      "Board:\n",
      "   23   62   68   78   88+   * \n",
      "   37   61   91    _    _    * \n",
      "    9   50:   _    _    _    * \n",
      "   22+  54   55#  64   76    * \n",
      "Players:\n",
      "  Merle          (player 1):   0 Hornochsen, cards  11+  18   66+\n",
      "  Batched ACER 1 (player 2):   3 Hornochsen, cards  28   42   44+\n",
      "------------------------------------------------------------------------------------------------------------------------\n"
     ]
    },
    {
     "name": "stdin",
     "output_type": "stream",
     "text": [
      "It is your turn, Merle! You have the following cards:  11  18  66. Choose one to play! 66\n"
     ]
    },
    {
     "name": "stderr",
     "output_type": "stream",
     "text": [
      "Batched ACER 1 (player 2) plays card 44\n",
      "  ...chooses to replace row 2\n",
      "  ...and gains 3 Hornochsen\n",
      "Merle          (player 1) plays card 66\n",
      "------------------------------------------------------------------------------------------------------------------------\n",
      "Board:\n",
      "   23   62   68   78   88+   * \n",
      "   44+   _    _    _    _    * \n",
      "    9   50:  66+   _    _    * \n",
      "   22+  54   55#  64   76    * \n",
      "Players:\n",
      "  Merle          (player 1):   0 Hornochsen, cards  11+  18 \n",
      "  Batched ACER 1 (player 2):   6 Hornochsen, cards  28   42 \n",
      "------------------------------------------------------------------------------------------------------------------------\n"
     ]
    },
    {
     "name": "stdin",
     "output_type": "stream",
     "text": [
      "It is your turn, Merle! You have the following cards:  11  18. Choose one to play! 11\n"
     ]
    },
    {
     "name": "stderr",
     "output_type": "stream",
     "text": [
      "Merle          (player 1) plays card 11\n",
      "  ...chooses to replace row 2\n",
      "  ...and gains 5 Hornochsen\n",
      "Batched ACER 1 (player 2) plays card 28\n",
      "------------------------------------------------------------------------------------------------------------------------\n",
      "Board:\n",
      "   23   62   68   78   88+   * \n",
      "   11+  28    _    _    _    * \n",
      "    9   50:  66+   _    _    * \n",
      "   22+  54   55#  64   76    * \n",
      "Players:\n",
      "  Merle          (player 1):   5 Hornochsen, cards  18 \n",
      "  Batched ACER 1 (player 2):   6 Hornochsen, cards  42 \n",
      "------------------------------------------------------------------------------------------------------------------------\n"
     ]
    },
    {
     "name": "stdin",
     "output_type": "stream",
     "text": [
      "It is your turn, Merle! You have the following cards:  18. Choose one to play! 18\n"
     ]
    },
    {
     "name": "stderr",
     "output_type": "stream",
     "text": [
      "Merle          (player 1) plays card 18\n",
      "  ...chooses to replace row 2\n",
      "  ...and gains 6 Hornochsen\n",
      "Batched ACER 1 (player 2) plays card 42\n",
      "------------------------------------------------------------------------------------------------------------------------\n",
      "Board:\n",
      "   23   62   68   78   88+   * \n",
      "   18   42    _    _    _    * \n",
      "    9   50:  66+   _    _    * \n",
      "   22+  54   55#  64   76    * \n",
      "Players:\n",
      "  Merle          (player 1):  11 Hornochsen, no cards \n",
      "  Batched ACER 1 (player 2):   6 Hornochsen, no cards \n",
      "The game is over! Batched ACER 1 (player 2) wins, Merle          (player 1) loses. Congratulations!\n",
      "------------------------------------------------------------------------------------------------------------------------\n"
     ]
    }
   ],
   "source": [
    "session.play_game(render=True)"
   ]
  },
  {
   "cell_type": "code",
   "execution_count": null,
   "metadata": {},
   "outputs": [],
   "source": []
  }
 ],
 "metadata": {
  "kernelspec": {
   "display_name": "Python (rl)",
   "language": "python",
   "name": "rl"
  },
  "language_info": {
   "codemirror_mode": {
    "name": "ipython",
    "version": 3
   },
   "file_extension": ".py",
   "mimetype": "text/x-python",
   "name": "python",
   "nbconvert_exporter": "python",
   "pygments_lexer": "ipython3",
   "version": "3.8.2"
  }
 },
 "nbformat": 4,
 "nbformat_minor": 4
}
